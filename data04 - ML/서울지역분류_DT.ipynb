{
 "cells": [
  {
   "cell_type": "markdown",
   "id": "1c4397a3",
   "metadata": {},
   "source": [
    "## 서울 지역 분류 실습\n",
    "\n",
    "서울 지역(구)의 경도와 위도 정보를 사용하여, 임의로 입력된 지역(동)을\n",
    "강동, 강서, 강남, 강북으로 분류"
   ]
  },
  {
   "cell_type": "code",
   "execution_count": 1,
   "id": "7402c4a9",
   "metadata": {},
   "outputs": [],
   "source": [
    "import pandas as pd\n",
    "import numpy as np \n",
    "\n",
    "np.random.seed(5)"
   ]
  },
  {
   "cell_type": "markdown",
   "id": "b1e901e2",
   "metadata": {},
   "source": [
    "### 컬럼 주석\n",
    "district: 행정구역 ex) 서초구, 송파구, 용산구\n",
    "\n",
    "dong: 구(district)보다 작은 행정구역 ex) 대치동, 도곡동\n",
    "\n",
    "longitude: 경도\n",
    "\n",
    "latitude: 위도\n",
    "\n",
    "label: 한강 기준으로 동,서,남,북으로 구분한 지역 명칭"
   ]
  },
  {
   "cell_type": "code",
   "execution_count": 2,
   "id": "4ddfdc04",
   "metadata": {},
   "outputs": [],
   "source": [
    "# train dataset\n",
    "\n",
    "district_dict_list = [\n",
    "            {'district': 'Gangseo-gu', 'latitude': 37.551000, 'longitude': 126.849500, 'label':'Gangseo'},\n",
    "            {'district': 'Yangcheon-gu', 'latitude': 37.52424, 'longitude': 126.855396, 'label':'Gangseo'},\n",
    "            {'district': 'Guro-gu', 'latitude': 37.4954, 'longitude': 126.8874, 'label':'Gangseo'},\n",
    "            {'district': 'Geumcheon-gu', 'latitude': 37.4519, 'longitude': 126.9020, 'label':'Gangseo'},\n",
    "            {'district': 'Mapo-gu', 'latitude': 37.560229, 'longitude': 126.908728, 'label':'Gangseo'},\n",
    "            \n",
    "            {'district': 'Gwanak-gu', 'latitude': 37.487517, 'longitude': 126.915065, 'label':'Gangnam'},\n",
    "            {'district': 'Dongjak-gu', 'latitude': 37.5124, 'longitude': 126.9393, 'label':'Gangnam'},\n",
    "            {'district': 'Seocho-gu', 'latitude': 37.4837, 'longitude': 127.0324, 'label':'Gangnam'},\n",
    "            {'district': 'Gangnam-gu', 'latitude': 37.5172, 'longitude': 127.0473, 'label':'Gangnam'},\n",
    "            {'district': 'Songpa-gu', 'latitude': 37.503510, 'longitude': 127.117898, 'label':'Gangnam'},\n",
    "   \n",
    "            {'district': 'Yongsan-gu', 'latitude': 37.532561, 'longitude': 127.008605, 'label':'Gangbuk'},\n",
    "            {'district': 'Jongro-gu', 'latitude': 37.5730, 'longitude': 126.9794, 'label':'Gangbuk'},\n",
    "            {'district': 'Seongbuk-gu', 'latitude': 37.603979, 'longitude': 127.056344, 'label':'Gangbuk'},\n",
    "            {'district': 'Nowon-gu', 'latitude': 37.6542, 'longitude': 127.0568, 'label':'Gangbuk'},\n",
    "            {'district': 'Dobong-gu', 'latitude': 37.6688, 'longitude': 127.0471, 'label':'Gangbuk'},\n",
    "     \n",
    "            {'district': 'Seongdong-gu', 'latitude': 37.557340, 'longitude': 127.041667, 'label':'Gangdong'},\n",
    "            {'district': 'Dongdaemun-gu', 'latitude': 37.575759, 'longitude': 127.025288, 'label':'Gangdong'},\n",
    "            {'district': 'Gwangjin-gu', 'latitude': 37.557562, 'longitude': 127.083467, 'label':'Gangdong'},\n",
    "            {'district': 'Gangdong-gu', 'latitude': 37.554194, 'longitude': 127.151405, 'label':'Gangdong'},\n",
    "            {'district': 'Jungrang-gu', 'latitude': 37.593684, 'longitude': 127.090384, 'label':'Gangdong'}\n",
    "         ]"
   ]
  },
  {
   "cell_type": "code",
   "execution_count": 3,
   "id": "fb40b23d",
   "metadata": {},
   "outputs": [],
   "source": [
    "train_df = pd.DataFrame(district_dict_list)\n",
    "train_df = train_df[['district', 'longitude','latitude','label']]"
   ]
  },
  {
   "cell_type": "code",
   "execution_count": 4,
   "id": "a164ec96",
   "metadata": {},
   "outputs": [
    {
     "data": {
      "text/html": [
       "<div>\n",
       "<style scoped>\n",
       "    .dataframe tbody tr th:only-of-type {\n",
       "        vertical-align: middle;\n",
       "    }\n",
       "\n",
       "    .dataframe tbody tr th {\n",
       "        vertical-align: top;\n",
       "    }\n",
       "\n",
       "    .dataframe thead th {\n",
       "        text-align: right;\n",
       "    }\n",
       "</style>\n",
       "<table border=\"1\" class=\"dataframe\">\n",
       "  <thead>\n",
       "    <tr style=\"text-align: right;\">\n",
       "      <th></th>\n",
       "      <th>district</th>\n",
       "      <th>longitude</th>\n",
       "      <th>latitude</th>\n",
       "      <th>label</th>\n",
       "    </tr>\n",
       "  </thead>\n",
       "  <tbody>\n",
       "    <tr>\n",
       "      <th>0</th>\n",
       "      <td>Gangseo-gu</td>\n",
       "      <td>126.849500</td>\n",
       "      <td>37.551000</td>\n",
       "      <td>Gangseo</td>\n",
       "    </tr>\n",
       "    <tr>\n",
       "      <th>1</th>\n",
       "      <td>Yangcheon-gu</td>\n",
       "      <td>126.855396</td>\n",
       "      <td>37.524240</td>\n",
       "      <td>Gangseo</td>\n",
       "    </tr>\n",
       "    <tr>\n",
       "      <th>2</th>\n",
       "      <td>Guro-gu</td>\n",
       "      <td>126.887400</td>\n",
       "      <td>37.495400</td>\n",
       "      <td>Gangseo</td>\n",
       "    </tr>\n",
       "    <tr>\n",
       "      <th>3</th>\n",
       "      <td>Geumcheon-gu</td>\n",
       "      <td>126.902000</td>\n",
       "      <td>37.451900</td>\n",
       "      <td>Gangseo</td>\n",
       "    </tr>\n",
       "    <tr>\n",
       "      <th>4</th>\n",
       "      <td>Mapo-gu</td>\n",
       "      <td>126.908728</td>\n",
       "      <td>37.560229</td>\n",
       "      <td>Gangseo</td>\n",
       "    </tr>\n",
       "    <tr>\n",
       "      <th>5</th>\n",
       "      <td>Gwanak-gu</td>\n",
       "      <td>126.915065</td>\n",
       "      <td>37.487517</td>\n",
       "      <td>Gangnam</td>\n",
       "    </tr>\n",
       "    <tr>\n",
       "      <th>6</th>\n",
       "      <td>Dongjak-gu</td>\n",
       "      <td>126.939300</td>\n",
       "      <td>37.512400</td>\n",
       "      <td>Gangnam</td>\n",
       "    </tr>\n",
       "    <tr>\n",
       "      <th>7</th>\n",
       "      <td>Seocho-gu</td>\n",
       "      <td>127.032400</td>\n",
       "      <td>37.483700</td>\n",
       "      <td>Gangnam</td>\n",
       "    </tr>\n",
       "    <tr>\n",
       "      <th>8</th>\n",
       "      <td>Gangnam-gu</td>\n",
       "      <td>127.047300</td>\n",
       "      <td>37.517200</td>\n",
       "      <td>Gangnam</td>\n",
       "    </tr>\n",
       "    <tr>\n",
       "      <th>9</th>\n",
       "      <td>Songpa-gu</td>\n",
       "      <td>127.117898</td>\n",
       "      <td>37.503510</td>\n",
       "      <td>Gangnam</td>\n",
       "    </tr>\n",
       "    <tr>\n",
       "      <th>10</th>\n",
       "      <td>Yongsan-gu</td>\n",
       "      <td>127.008605</td>\n",
       "      <td>37.532561</td>\n",
       "      <td>Gangbuk</td>\n",
       "    </tr>\n",
       "    <tr>\n",
       "      <th>11</th>\n",
       "      <td>Jongro-gu</td>\n",
       "      <td>126.979400</td>\n",
       "      <td>37.573000</td>\n",
       "      <td>Gangbuk</td>\n",
       "    </tr>\n",
       "    <tr>\n",
       "      <th>12</th>\n",
       "      <td>Seongbuk-gu</td>\n",
       "      <td>127.056344</td>\n",
       "      <td>37.603979</td>\n",
       "      <td>Gangbuk</td>\n",
       "    </tr>\n",
       "    <tr>\n",
       "      <th>13</th>\n",
       "      <td>Nowon-gu</td>\n",
       "      <td>127.056800</td>\n",
       "      <td>37.654200</td>\n",
       "      <td>Gangbuk</td>\n",
       "    </tr>\n",
       "    <tr>\n",
       "      <th>14</th>\n",
       "      <td>Dobong-gu</td>\n",
       "      <td>127.047100</td>\n",
       "      <td>37.668800</td>\n",
       "      <td>Gangbuk</td>\n",
       "    </tr>\n",
       "    <tr>\n",
       "      <th>15</th>\n",
       "      <td>Seongdong-gu</td>\n",
       "      <td>127.041667</td>\n",
       "      <td>37.557340</td>\n",
       "      <td>Gangdong</td>\n",
       "    </tr>\n",
       "    <tr>\n",
       "      <th>16</th>\n",
       "      <td>Dongdaemun-gu</td>\n",
       "      <td>127.025288</td>\n",
       "      <td>37.575759</td>\n",
       "      <td>Gangdong</td>\n",
       "    </tr>\n",
       "    <tr>\n",
       "      <th>17</th>\n",
       "      <td>Gwangjin-gu</td>\n",
       "      <td>127.083467</td>\n",
       "      <td>37.557562</td>\n",
       "      <td>Gangdong</td>\n",
       "    </tr>\n",
       "    <tr>\n",
       "      <th>18</th>\n",
       "      <td>Gangdong-gu</td>\n",
       "      <td>127.151405</td>\n",
       "      <td>37.554194</td>\n",
       "      <td>Gangdong</td>\n",
       "    </tr>\n",
       "    <tr>\n",
       "      <th>19</th>\n",
       "      <td>Jungrang-gu</td>\n",
       "      <td>127.090384</td>\n",
       "      <td>37.593684</td>\n",
       "      <td>Gangdong</td>\n",
       "    </tr>\n",
       "  </tbody>\n",
       "</table>\n",
       "</div>"
      ],
      "text/plain": [
       "         district   longitude   latitude     label\n",
       "0      Gangseo-gu  126.849500  37.551000   Gangseo\n",
       "1    Yangcheon-gu  126.855396  37.524240   Gangseo\n",
       "2         Guro-gu  126.887400  37.495400   Gangseo\n",
       "3    Geumcheon-gu  126.902000  37.451900   Gangseo\n",
       "4         Mapo-gu  126.908728  37.560229   Gangseo\n",
       "5       Gwanak-gu  126.915065  37.487517   Gangnam\n",
       "6      Dongjak-gu  126.939300  37.512400   Gangnam\n",
       "7       Seocho-gu  127.032400  37.483700   Gangnam\n",
       "8      Gangnam-gu  127.047300  37.517200   Gangnam\n",
       "9       Songpa-gu  127.117898  37.503510   Gangnam\n",
       "10     Yongsan-gu  127.008605  37.532561   Gangbuk\n",
       "11      Jongro-gu  126.979400  37.573000   Gangbuk\n",
       "12    Seongbuk-gu  127.056344  37.603979   Gangbuk\n",
       "13       Nowon-gu  127.056800  37.654200   Gangbuk\n",
       "14      Dobong-gu  127.047100  37.668800   Gangbuk\n",
       "15   Seongdong-gu  127.041667  37.557340  Gangdong\n",
       "16  Dongdaemun-gu  127.025288  37.575759  Gangdong\n",
       "17    Gwangjin-gu  127.083467  37.557562  Gangdong\n",
       "18    Gangdong-gu  127.151405  37.554194  Gangdong\n",
       "19    Jungrang-gu  127.090384  37.593684  Gangdong"
      ]
     },
     "execution_count": 4,
     "metadata": {},
     "output_type": "execute_result"
    }
   ],
   "source": [
    "train_df"
   ]
  },
  {
   "cell_type": "code",
   "execution_count": 5,
   "id": "0cc31e32",
   "metadata": {},
   "outputs": [],
   "source": [
    "# test dataset\n",
    "\n",
    "dong_dict_list = [\n",
    "            {'dong': 'Gaebong-dong', 'latitude': 37.489853, 'longitude': 126.854547, 'label':'Gangseo'},\n",
    "            {'dong': 'Gochuk-dong', 'latitude': 37.501394, 'longitude': 126.859245, 'label':'Gangseo'},\n",
    "            {'dong': 'Hwagok-dong', 'latitude': 37.537759, 'longitude': 126.847951, 'label':'Gangseo'},\n",
    "            {'dong': 'Banghwa-dong', 'latitude': 37.575817, 'longitude': 126.815719, 'label':'Gangseo'},\n",
    "            {'dong': 'Sangam-dong', 'latitude': 37.577039, 'longitude': 126.891620, 'label':'Gangseo'},\n",
    "            \n",
    "            {'dong': 'Nonhyun-dong', 'latitude': 37.508838, 'longitude': 127.030720, 'label':'Gangnam'},\n",
    "            {'dong': 'Daechi-dong', 'latitude': 37.501163, 'longitude': 127.057193, 'label':'Gangnam'},\n",
    "            {'dong': 'Seocho-dong', 'latitude': 37.486401, 'longitude': 127.018281, 'label':'Gangnam'},\n",
    "            {'dong': 'Bangbae-dong', 'latitude': 37.483279, 'longitude': 126.988194, 'label':'Gangnam'},\n",
    "            {'dong': 'Dogok-dong', 'latitude': 37.492896, 'longitude': 127.043159, 'label':'Gangnam'},\n",
    "    \n",
    "            {'dong': 'Pyoungchang-dong', 'latitude': 37.612129, 'longitude': 126.975724, 'label':'Gangbuk'},\n",
    "            {'dong': 'Sungbuk-dong', 'latitude': 37.597916, 'longitude': 126.998067, 'label':'Gangbuk'},\n",
    "            {'dong': 'Ssangmoon-dong', 'latitude': 37.648094, 'longitude': 127.030421, 'label':'Gangbuk'},\n",
    "            {'dong': 'Ui-dong', 'latitude': 37.648446, 'longitude': 127.011396, 'label':'Gangbuk'},\n",
    "            {'dong': 'Samcheong-dong', 'latitude': 37.591109, 'longitude': 126.980488, 'label':'Gangbuk'},\n",
    "    \n",
    "            {'dong': 'Hwayang-dong', 'latitude': 37.544234, 'longitude': 127.071648, 'label':'Gangdong'},\n",
    "            {'dong': 'Gui-dong', 'latitude': 37.543757, 'longitude': 127.086803, 'label':'Gangdong'},\n",
    "            {'dong': 'Neung-dong', 'latitude': 37.553102, 'longitude': 127.080248, 'label':'Gangdong'},\n",
    "            {'dong': 'Amsa-dong', 'latitude': 37.552370, 'longitude': 127.127124, 'label':'Gangdong'},\n",
    "            {'dong': 'Chunho-dong', 'latitude': 37.547436, 'longitude': 127.137382, 'label':'Gangdong'}\n",
    "         ]"
   ]
  },
  {
   "cell_type": "code",
   "execution_count": 6,
   "id": "1cff64b3",
   "metadata": {},
   "outputs": [],
   "source": [
    "test_df = pd.DataFrame(dong_dict_list)\n",
    "test_df = test_df[['dong','longitude','latitude','label']]"
   ]
  },
  {
   "cell_type": "code",
   "execution_count": 7,
   "id": "d070392e",
   "metadata": {},
   "outputs": [
    {
     "data": {
      "text/html": [
       "<div>\n",
       "<style scoped>\n",
       "    .dataframe tbody tr th:only-of-type {\n",
       "        vertical-align: middle;\n",
       "    }\n",
       "\n",
       "    .dataframe tbody tr th {\n",
       "        vertical-align: top;\n",
       "    }\n",
       "\n",
       "    .dataframe thead th {\n",
       "        text-align: right;\n",
       "    }\n",
       "</style>\n",
       "<table border=\"1\" class=\"dataframe\">\n",
       "  <thead>\n",
       "    <tr style=\"text-align: right;\">\n",
       "      <th></th>\n",
       "      <th>dong</th>\n",
       "      <th>longitude</th>\n",
       "      <th>latitude</th>\n",
       "      <th>label</th>\n",
       "    </tr>\n",
       "  </thead>\n",
       "  <tbody>\n",
       "    <tr>\n",
       "      <th>0</th>\n",
       "      <td>Gaebong-dong</td>\n",
       "      <td>126.854547</td>\n",
       "      <td>37.489853</td>\n",
       "      <td>Gangseo</td>\n",
       "    </tr>\n",
       "    <tr>\n",
       "      <th>1</th>\n",
       "      <td>Gochuk-dong</td>\n",
       "      <td>126.859245</td>\n",
       "      <td>37.501394</td>\n",
       "      <td>Gangseo</td>\n",
       "    </tr>\n",
       "    <tr>\n",
       "      <th>2</th>\n",
       "      <td>Hwagok-dong</td>\n",
       "      <td>126.847951</td>\n",
       "      <td>37.537759</td>\n",
       "      <td>Gangseo</td>\n",
       "    </tr>\n",
       "    <tr>\n",
       "      <th>3</th>\n",
       "      <td>Banghwa-dong</td>\n",
       "      <td>126.815719</td>\n",
       "      <td>37.575817</td>\n",
       "      <td>Gangseo</td>\n",
       "    </tr>\n",
       "    <tr>\n",
       "      <th>4</th>\n",
       "      <td>Sangam-dong</td>\n",
       "      <td>126.891620</td>\n",
       "      <td>37.577039</td>\n",
       "      <td>Gangseo</td>\n",
       "    </tr>\n",
       "    <tr>\n",
       "      <th>5</th>\n",
       "      <td>Nonhyun-dong</td>\n",
       "      <td>127.030720</td>\n",
       "      <td>37.508838</td>\n",
       "      <td>Gangnam</td>\n",
       "    </tr>\n",
       "    <tr>\n",
       "      <th>6</th>\n",
       "      <td>Daechi-dong</td>\n",
       "      <td>127.057193</td>\n",
       "      <td>37.501163</td>\n",
       "      <td>Gangnam</td>\n",
       "    </tr>\n",
       "    <tr>\n",
       "      <th>7</th>\n",
       "      <td>Seocho-dong</td>\n",
       "      <td>127.018281</td>\n",
       "      <td>37.486401</td>\n",
       "      <td>Gangnam</td>\n",
       "    </tr>\n",
       "    <tr>\n",
       "      <th>8</th>\n",
       "      <td>Bangbae-dong</td>\n",
       "      <td>126.988194</td>\n",
       "      <td>37.483279</td>\n",
       "      <td>Gangnam</td>\n",
       "    </tr>\n",
       "    <tr>\n",
       "      <th>9</th>\n",
       "      <td>Dogok-dong</td>\n",
       "      <td>127.043159</td>\n",
       "      <td>37.492896</td>\n",
       "      <td>Gangnam</td>\n",
       "    </tr>\n",
       "    <tr>\n",
       "      <th>10</th>\n",
       "      <td>Pyoungchang-dong</td>\n",
       "      <td>126.975724</td>\n",
       "      <td>37.612129</td>\n",
       "      <td>Gangbuk</td>\n",
       "    </tr>\n",
       "    <tr>\n",
       "      <th>11</th>\n",
       "      <td>Sungbuk-dong</td>\n",
       "      <td>126.998067</td>\n",
       "      <td>37.597916</td>\n",
       "      <td>Gangbuk</td>\n",
       "    </tr>\n",
       "    <tr>\n",
       "      <th>12</th>\n",
       "      <td>Ssangmoon-dong</td>\n",
       "      <td>127.030421</td>\n",
       "      <td>37.648094</td>\n",
       "      <td>Gangbuk</td>\n",
       "    </tr>\n",
       "    <tr>\n",
       "      <th>13</th>\n",
       "      <td>Ui-dong</td>\n",
       "      <td>127.011396</td>\n",
       "      <td>37.648446</td>\n",
       "      <td>Gangbuk</td>\n",
       "    </tr>\n",
       "    <tr>\n",
       "      <th>14</th>\n",
       "      <td>Samcheong-dong</td>\n",
       "      <td>126.980488</td>\n",
       "      <td>37.591109</td>\n",
       "      <td>Gangbuk</td>\n",
       "    </tr>\n",
       "    <tr>\n",
       "      <th>15</th>\n",
       "      <td>Hwayang-dong</td>\n",
       "      <td>127.071648</td>\n",
       "      <td>37.544234</td>\n",
       "      <td>Gangdong</td>\n",
       "    </tr>\n",
       "    <tr>\n",
       "      <th>16</th>\n",
       "      <td>Gui-dong</td>\n",
       "      <td>127.086803</td>\n",
       "      <td>37.543757</td>\n",
       "      <td>Gangdong</td>\n",
       "    </tr>\n",
       "    <tr>\n",
       "      <th>17</th>\n",
       "      <td>Neung-dong</td>\n",
       "      <td>127.080248</td>\n",
       "      <td>37.553102</td>\n",
       "      <td>Gangdong</td>\n",
       "    </tr>\n",
       "    <tr>\n",
       "      <th>18</th>\n",
       "      <td>Amsa-dong</td>\n",
       "      <td>127.127124</td>\n",
       "      <td>37.552370</td>\n",
       "      <td>Gangdong</td>\n",
       "    </tr>\n",
       "    <tr>\n",
       "      <th>19</th>\n",
       "      <td>Chunho-dong</td>\n",
       "      <td>127.137382</td>\n",
       "      <td>37.547436</td>\n",
       "      <td>Gangdong</td>\n",
       "    </tr>\n",
       "  </tbody>\n",
       "</table>\n",
       "</div>"
      ],
      "text/plain": [
       "                dong   longitude   latitude     label\n",
       "0       Gaebong-dong  126.854547  37.489853   Gangseo\n",
       "1        Gochuk-dong  126.859245  37.501394   Gangseo\n",
       "2        Hwagok-dong  126.847951  37.537759   Gangseo\n",
       "3       Banghwa-dong  126.815719  37.575817   Gangseo\n",
       "4        Sangam-dong  126.891620  37.577039   Gangseo\n",
       "5       Nonhyun-dong  127.030720  37.508838   Gangnam\n",
       "6        Daechi-dong  127.057193  37.501163   Gangnam\n",
       "7        Seocho-dong  127.018281  37.486401   Gangnam\n",
       "8       Bangbae-dong  126.988194  37.483279   Gangnam\n",
       "9         Dogok-dong  127.043159  37.492896   Gangnam\n",
       "10  Pyoungchang-dong  126.975724  37.612129   Gangbuk\n",
       "11      Sungbuk-dong  126.998067  37.597916   Gangbuk\n",
       "12    Ssangmoon-dong  127.030421  37.648094   Gangbuk\n",
       "13           Ui-dong  127.011396  37.648446   Gangbuk\n",
       "14    Samcheong-dong  126.980488  37.591109   Gangbuk\n",
       "15      Hwayang-dong  127.071648  37.544234  Gangdong\n",
       "16          Gui-dong  127.086803  37.543757  Gangdong\n",
       "17        Neung-dong  127.080248  37.553102  Gangdong\n",
       "18         Amsa-dong  127.127124  37.552370  Gangdong\n",
       "19       Chunho-dong  127.137382  37.547436  Gangdong"
      ]
     },
     "execution_count": 7,
     "metadata": {},
     "output_type": "execute_result"
    }
   ],
   "source": [
    "test_df"
   ]
  },
  {
   "cell_type": "code",
   "execution_count": 8,
   "id": "a0a2e09e",
   "metadata": {},
   "outputs": [
    {
     "data": {
      "text/plain": [
       "Gangseo     5\n",
       "Gangnam     5\n",
       "Gangbuk     5\n",
       "Gangdong    5\n",
       "Name: label, dtype: int64"
      ]
     },
     "execution_count": 8,
     "metadata": {},
     "output_type": "execute_result"
    }
   ],
   "source": [
    "train_df.label.value_counts()"
   ]
  },
  {
   "cell_type": "code",
   "execution_count": 9,
   "id": "b8d0ec50",
   "metadata": {},
   "outputs": [
    {
     "data": {
      "text/plain": [
       "Gangseo     5\n",
       "Gangnam     5\n",
       "Gangbuk     5\n",
       "Gangdong    5\n",
       "Name: label, dtype: int64"
      ]
     },
     "execution_count": 9,
     "metadata": {},
     "output_type": "execute_result"
    }
   ],
   "source": [
    "test_df.label.value_counts()"
   ]
  },
  {
   "cell_type": "code",
   "execution_count": 10,
   "id": "5ad2e48d",
   "metadata": {},
   "outputs": [
    {
     "data": {
      "text/html": [
       "<div>\n",
       "<style scoped>\n",
       "    .dataframe tbody tr th:only-of-type {\n",
       "        vertical-align: middle;\n",
       "    }\n",
       "\n",
       "    .dataframe tbody tr th {\n",
       "        vertical-align: top;\n",
       "    }\n",
       "\n",
       "    .dataframe thead th {\n",
       "        text-align: right;\n",
       "    }\n",
       "</style>\n",
       "<table border=\"1\" class=\"dataframe\">\n",
       "  <thead>\n",
       "    <tr style=\"text-align: right;\">\n",
       "      <th></th>\n",
       "      <th>longitude</th>\n",
       "      <th>latitude</th>\n",
       "    </tr>\n",
       "  </thead>\n",
       "  <tbody>\n",
       "    <tr>\n",
       "      <th>count</th>\n",
       "      <td>20.000000</td>\n",
       "      <td>20.000000</td>\n",
       "    </tr>\n",
       "    <tr>\n",
       "      <th>mean</th>\n",
       "      <td>126.999772</td>\n",
       "      <td>37.547909</td>\n",
       "    </tr>\n",
       "    <tr>\n",
       "      <th>std</th>\n",
       "      <td>0.089387</td>\n",
       "      <td>0.055086</td>\n",
       "    </tr>\n",
       "    <tr>\n",
       "      <th>min</th>\n",
       "      <td>126.849500</td>\n",
       "      <td>37.451900</td>\n",
       "    </tr>\n",
       "    <tr>\n",
       "      <th>25%</th>\n",
       "      <td>126.913481</td>\n",
       "      <td>37.510177</td>\n",
       "    </tr>\n",
       "    <tr>\n",
       "      <th>50%</th>\n",
       "      <td>127.028844</td>\n",
       "      <td>37.552597</td>\n",
       "    </tr>\n",
       "    <tr>\n",
       "      <th>75%</th>\n",
       "      <td>127.056458</td>\n",
       "      <td>37.573690</td>\n",
       "    </tr>\n",
       "    <tr>\n",
       "      <th>max</th>\n",
       "      <td>127.151405</td>\n",
       "      <td>37.668800</td>\n",
       "    </tr>\n",
       "  </tbody>\n",
       "</table>\n",
       "</div>"
      ],
      "text/plain": [
       "        longitude   latitude\n",
       "count   20.000000  20.000000\n",
       "mean   126.999772  37.547909\n",
       "std      0.089387   0.055086\n",
       "min    126.849500  37.451900\n",
       "25%    126.913481  37.510177\n",
       "50%    127.028844  37.552597\n",
       "75%    127.056458  37.573690\n",
       "max    127.151405  37.668800"
      ]
     },
     "execution_count": 10,
     "metadata": {},
     "output_type": "execute_result"
    }
   ],
   "source": [
    "train_df.describe()"
   ]
  },
  {
   "cell_type": "markdown",
   "id": "6a886f6e",
   "metadata": {},
   "source": [
    "### 데이터 시각화"
   ]
  },
  {
   "cell_type": "code",
   "execution_count": 11,
   "id": "b75abc4f",
   "metadata": {},
   "outputs": [],
   "source": [
    "X_train = train_df[['longitude', 'latitude']]\n",
    "y_train = train_df[['label']]\n",
    "\n",
    "X_test = test_df[['longitude', 'latitude']]\n",
    "y_test = test_df[['label']]"
   ]
  },
  {
   "cell_type": "code",
   "execution_count": 12,
   "id": "7c6fe157",
   "metadata": {},
   "outputs": [],
   "source": [
    "from sklearn import tree\n",
    "import numpy as np \n",
    "from sklearn import preprocessing\n",
    "import matplotlib.pyplot as plt"
   ]
  },
  {
   "cell_type": "code",
   "execution_count": 13,
   "id": "84575bce",
   "metadata": {},
   "outputs": [],
   "source": [
    "def display_decision_surface(clf, X, y) :\n",
    "    \n",
    "    x_min = X.longitude.min() - 0.01\n",
    "    x_max = X.longitude.max() + 0.01\n",
    "    y_min = X.latitude.min() - 0.01\n",
    "    y_max = X.latitude.max() + 0.01\n",
    "    \n",
    "    n_classes = len(le.classes_)\n",
    "    plot_colors = 'rywb'\n",
    "    plot_step=0.001\n",
    "    \n",
    "    xx,yy = np.meshgrid(np.arange(x_min, x_max, plot_step),\n",
    "                        np.arange(y_min, y_max, plot_step))\n",
    "    \n",
    "    Z = clf.predict(np.c_[xx.ravel(), yy.ravel()])\n",
    "    Z = Z.reshape(xx.shape)\n",
    "    cs = plt.contourf(xx, yy, Z, cmap=plt.cm.RdYlBu)\n",
    "    \n",
    "    for i, color in zip(range(n_classes), plot_colors):\n",
    "        idx = np.where(y==i)\n",
    "        plt.scatter(X.loc[idx].longitude,\n",
    "                   X.loc[idx].latitude,\n",
    "                   c=color,\n",
    "                   label=le.classes_[i],\n",
    "                   cmap=plt.cm.RdYlBu, edgecolor='black', s=200)\n",
    "        \n",
    "    # 챠트 제목\n",
    "    plt.title(\"Decision surface of a decision tree\",fontsize=16)\n",
    "    # 챠트 기호 설명\n",
    "    plt.legend(bbox_to_anchor=(1.05, 1), loc=2, borderaxespad=0., fontsize=14)\n",
    "    # x축의 이름과 폰트 크기 설정\n",
    "    plt.xlabel('longitude',fontsize=16)\n",
    "    # y축의 이름과 폰트 크기 설정\n",
    "    plt.ylabel('latitude',fontsize=16)\n",
    "    # 챠트 크기 설정\n",
    "    plt.rcParams[\"figure.figsize\"] = [7,5]\n",
    "    # 챠트 폰트 크기 설정\n",
    "    plt.rcParams[\"font.size\"] = 14\n",
    "    # x축 좌표상의 폰트 크기 설정\n",
    "    plt.rcParams[\"xtick.labelsize\"] = 14\n",
    "    # y축 좌표상의 폰트 크기 설정\n",
    "    plt.rcParams[\"ytick.labelsize\"] = 14\n",
    "\n",
    "    # 챠트 그리기\n",
    "    plt.show()"
   ]
  },
  {
   "cell_type": "code",
   "execution_count": 14,
   "id": "ab279682",
   "metadata": {},
   "outputs": [
    {
     "name": "stderr",
     "output_type": "stream",
     "text": [
      "C:\\Users\\H\\ssac\\anaconda3\\lib\\site-packages\\sklearn\\utils\\validation.py:63: DataConversionWarning: A column-vector y was passed when a 1d array was expected. Please change the shape of y to (n_samples, ), for example using ravel().\n",
      "  return f(*args, **kwargs)\n"
     ]
    },
    {
     "data": {
      "image/png": "[encoded data removed]",
      "text/plain": [
       "<Figure size 432x288 with 1 Axes>"
      ]
     },
     "metadata": {
      "needs_background": "light"
     },
     "output_type": "display_data"
    }
   ],
   "source": [
    "le = preprocessing.LabelEncoder()\n",
    "y_encoded = le.fit_transform(y_train)\n",
    "\n",
    "clf = tree.DecisionTreeClassifier(random_state=35).fit(X_train, y_encoded)\n",
    "display_decision_surface(clf,X_train, y_encoded)"
   ]
  },
  {
   "cell_type": "code",
   "execution_count": 15,
   "id": "39a2cca2",
   "metadata": {},
   "outputs": [
    {
     "data": {
      "image/png": "[encoded data removed]",
      "text/plain": [
       "<Figure size 504x360 with 1 Axes>"
      ]
     },
     "metadata": {
      "needs_background": "light"
     },
     "output_type": "display_data"
    }
   ],
   "source": [
    "clf = tree.DecisionTreeClassifier(max_depth=3, \n",
    "                                  min_samples_split=3,\n",
    "                                  min_samples_leaf=3, \n",
    "                                  random_state=5).fit(X_train, y_encoded.ravel())\n",
    "display_decision_surface(clf,X_train, y_encoded)"
   ]
  },
  {
   "cell_type": "code",
   "execution_count": 16,
   "id": "1946ae47",
   "metadata": {
    "scrolled": true
   },
   "outputs": [
    {
     "data": {
      "image/png": "[encoded data removed]",
      "text/plain": [
       "<Figure size 720x504 with 1 Axes>"
      ]
     },
     "metadata": {
      "needs_background": "light"
     },
     "output_type": "display_data"
    }
   ],
   "source": [
    "from sklearn.tree import plot_tree\n",
    "\n",
    "plt.figure(figsize=(10,7))\n",
    "plot_tree(clf,feature_names=['longitude','latitude'],\n",
    "          class_names=['Gangbuk', 'Gangdong', 'Gangnam', 'Gangseo'])\n",
    "plt.show()"
   ]
  },
  {
   "cell_type": "code",
   "execution_count": 17,
   "id": "e888e1cc",
   "metadata": {},
   "outputs": [],
   "source": [
    "from sklearn.metrics import accuracy_score\n",
    "pred = clf.predict(X_test)"
   ]
  },
  {
   "cell_type": "code",
   "execution_count": 18,
   "id": "f230e038",
   "metadata": {},
   "outputs": [
    {
     "name": "stdout",
     "output_type": "stream",
     "text": [
      "accuracy : 0.9\n"
     ]
    }
   ],
   "source": [
    "print(\"accuracy : \" + str( accuracy_score(y_test.values.ravel(), le.classes_[pred])) )"
   ]
  },
  {
   "cell_type": "code",
   "execution_count": 36,
   "id": "491581e5",
   "metadata": {},
   "outputs": [
    {
     "data": {
      "text/html": [
       "<div>\n",
       "<style scoped>\n",
       "    .dataframe tbody tr th:only-of-type {\n",
       "        vertical-align: middle;\n",
       "    }\n",
       "\n",
       "    .dataframe tbody tr th {\n",
       "        vertical-align: top;\n",
       "    }\n",
       "\n",
       "    .dataframe thead th {\n",
       "        text-align: right;\n",
       "    }\n",
       "</style>\n",
       "<table border=\"1\" class=\"dataframe\">\n",
       "  <thead>\n",
       "    <tr style=\"text-align: right;\">\n",
       "      <th></th>\n",
       "      <th>longitude</th>\n",
       "      <th>latitude</th>\n",
       "    </tr>\n",
       "  </thead>\n",
       "  <tbody>\n",
       "    <tr>\n",
       "      <th>0</th>\n",
       "      <td>37.517805</td>\n",
       "      <td>126.886370</td>\n",
       "    </tr>\n",
       "    <tr>\n",
       "      <th>1</th>\n",
       "      <td>37.532272</td>\n",
       "      <td>126.914163</td>\n",
       "    </tr>\n",
       "    <tr>\n",
       "      <th>2</th>\n",
       "      <td>37.515966</td>\n",
       "      <td>127.072723</td>\n",
       "    </tr>\n",
       "    <tr>\n",
       "      <th>3</th>\n",
       "      <td>37.591017</td>\n",
       "      <td>127.027793</td>\n",
       "    </tr>\n",
       "  </tbody>\n",
       "</table>\n",
       "</div>"
      ],
      "text/plain": [
       "   longitude    latitude\n",
       "0  37.517805  126.886370\n",
       "1  37.532272  126.914163\n",
       "2  37.515966  127.072723\n",
       "3  37.591017  127.027793"
      ]
     },
     "execution_count": 36,
     "metadata": {},
     "output_type": "execute_result"
    }
   ],
   "source": [
    "# 싹 캠퍼스, 국회의사당, 잠실주경기장, 고려대학교\n",
    "X_ssac = pd.DataFrame({'longitude':[37.517804768177974 , 37.532271587379526 ,37.51596600907998 ,37.59101654242747],\n",
    "                       'latitude':[126.88636982387695,126.9141627699101,127.0727231822373,127.0277926650902]})\n",
    "X_ssac"
   ]
  },
  {
   "cell_type": "code",
   "execution_count": 37,
   "id": "c98a5e8e",
   "metadata": {},
   "outputs": [
    {
     "data": {
      "text/plain": [
       "array([3, 3, 3, 3])"
      ]
     },
     "execution_count": 37,
     "metadata": {},
     "output_type": "execute_result"
    }
   ],
   "source": [
    "pred2 = clf.predict(X_ssac)\n",
    "pred2"
   ]
  },
  {
   "cell_type": "code",
   "execution_count": 38,
   "id": "9b5143a8",
   "metadata": {},
   "outputs": [
    {
     "data": {
      "text/plain": [
       "array(['Gangseo', 'Gangseo', 'Gangseo', 'Gangseo'], dtype=object)"
      ]
     },
     "execution_count": 38,
     "metadata": {},
     "output_type": "execute_result"
    }
   ],
   "source": [
    "le.inverse_transform(pred2)"
   ]
  },
  {
   "cell_type": "code",
   "execution_count": 33,
   "id": "2ffd8bc9",
   "metadata": {},
   "outputs": [
    {
     "data": {
      "text/plain": [
       "array([3, 3, 3, 3, 3, 2, 2, 2, 2, 2, 0, 0, 0, 0, 0, 1, 1, 1, 1, 1])"
      ]
     },
     "execution_count": 33,
     "metadata": {},
     "output_type": "execute_result"
    }
   ],
   "source": []
  }
 ],
 "metadata": {
  "kernelspec": {
   "display_name": "Python 3 (ipykernel)",
   "language": "python",
   "name": "python3"
  },
  "language_info": {
   "codemirror_mode": {
    "name": "ipython",
    "version": 3
   },
   "file_extension": ".py",
   "mimetype": "text/x-python",
   "name": "python",
   "nbconvert_exporter": "python",
   "pygments_lexer": "ipython3",
   "version": "3.9.7"
  }
 },
 "nbformat": 4,
 "nbformat_minor": 5
}
