{
 "cells": [
  {
   "cell_type": "code",
   "execution_count": 85,
   "id": "94b5d665",
   "metadata": {},
   "outputs": [
    {
     "data": {
      "text/html": [
       "<div>\n",
       "<style scoped>\n",
       "    .dataframe tbody tr th:only-of-type {\n",
       "        vertical-align: middle;\n",
       "    }\n",
       "\n",
       "    .dataframe tbody tr th {\n",
       "        vertical-align: top;\n",
       "    }\n",
       "\n",
       "    .dataframe thead th {\n",
       "        text-align: right;\n",
       "    }\n",
       "</style>\n",
       "<table border=\"1\" class=\"dataframe\">\n",
       "  <thead>\n",
       "    <tr style=\"text-align: right;\">\n",
       "      <th></th>\n",
       "      <th>PassengerId</th>\n",
       "      <th>Survived</th>\n",
       "      <th>Pclass</th>\n",
       "      <th>Name</th>\n",
       "      <th>Sex</th>\n",
       "      <th>Age</th>\n",
       "      <th>SibSp</th>\n",
       "      <th>Parch</th>\n",
       "      <th>Ticket</th>\n",
       "      <th>Fare</th>\n",
       "      <th>Cabin</th>\n",
       "      <th>Embarked</th>\n",
       "    </tr>\n",
       "  </thead>\n",
       "  <tbody>\n",
       "    <tr>\n",
       "      <th>0</th>\n",
       "      <td>1</td>\n",
       "      <td>0</td>\n",
       "      <td>3</td>\n",
       "      <td>Braund, Mr. Owen Harris</td>\n",
       "      <td>male</td>\n",
       "      <td>22.0</td>\n",
       "      <td>1</td>\n",
       "      <td>0</td>\n",
       "      <td>A/5 21171</td>\n",
       "      <td>7.2500</td>\n",
       "      <td>NaN</td>\n",
       "      <td>S</td>\n",
       "    </tr>\n",
       "    <tr>\n",
       "      <th>1</th>\n",
       "      <td>2</td>\n",
       "      <td>1</td>\n",
       "      <td>1</td>\n",
       "      <td>Cumings, Mrs. John Bradley (Florence Briggs Th...</td>\n",
       "      <td>female</td>\n",
       "      <td>38.0</td>\n",
       "      <td>1</td>\n",
       "      <td>0</td>\n",
       "      <td>PC 17599</td>\n",
       "      <td>71.2833</td>\n",
       "      <td>C85</td>\n",
       "      <td>C</td>\n",
       "    </tr>\n",
       "    <tr>\n",
       "      <th>2</th>\n",
       "      <td>3</td>\n",
       "      <td>1</td>\n",
       "      <td>3</td>\n",
       "      <td>Heikkinen, Miss. Laina</td>\n",
       "      <td>female</td>\n",
       "      <td>26.0</td>\n",
       "      <td>0</td>\n",
       "      <td>0</td>\n",
       "      <td>STON/O2. 3101282</td>\n",
       "      <td>7.9250</td>\n",
       "      <td>NaN</td>\n",
       "      <td>S</td>\n",
       "    </tr>\n",
       "  </tbody>\n",
       "</table>\n",
       "</div>"
      ],
      "text/plain": [
       "   PassengerId  Survived  Pclass  \\\n",
       "0            1         0       3   \n",
       "1            2         1       1   \n",
       "2            3         1       3   \n",
       "\n",
       "                                                Name     Sex   Age  SibSp  \\\n",
       "0                            Braund, Mr. Owen Harris    male  22.0      1   \n",
       "1  Cumings, Mrs. John Bradley (Florence Briggs Th...  female  38.0      1   \n",
       "2                             Heikkinen, Miss. Laina  female  26.0      0   \n",
       "\n",
       "   Parch            Ticket     Fare Cabin Embarked  \n",
       "0      0         A/5 21171   7.2500   NaN        S  \n",
       "1      0          PC 17599  71.2833   C85        C  \n",
       "2      0  STON/O2. 3101282   7.9250   NaN        S  "
      ]
     },
     "execution_count": 85,
     "metadata": {},
     "output_type": "execute_result"
    }
   ],
   "source": [
    "import numpy as np\n",
    "import pandas as pd\n",
    "\n",
    "titanic_df = pd.read_csv('./csv-data/titanic_train.csv')\n",
    "titanic_df.head(3)"
   ]
  },
  {
   "cell_type": "code",
   "execution_count": 86,
   "id": "a25d35a8",
   "metadata": {},
   "outputs": [
    {
     "data": {
      "text/html": [
       "<div>\n",
       "<style scoped>\n",
       "    .dataframe tbody tr th:only-of-type {\n",
       "        vertical-align: middle;\n",
       "    }\n",
       "\n",
       "    .dataframe tbody tr th {\n",
       "        vertical-align: top;\n",
       "    }\n",
       "\n",
       "    .dataframe thead th {\n",
       "        text-align: right;\n",
       "    }\n",
       "</style>\n",
       "<table border=\"1\" class=\"dataframe\">\n",
       "  <thead>\n",
       "    <tr style=\"text-align: right;\">\n",
       "      <th></th>\n",
       "      <th>PassengerId</th>\n",
       "      <th>Survived</th>\n",
       "      <th>Pclass</th>\n",
       "      <th>Name</th>\n",
       "      <th>Sex</th>\n",
       "      <th>Age</th>\n",
       "      <th>SibSp</th>\n",
       "      <th>Parch</th>\n",
       "      <th>Ticket</th>\n",
       "      <th>Fare</th>\n",
       "      <th>Cabin</th>\n",
       "      <th>Embarked</th>\n",
       "    </tr>\n",
       "  </thead>\n",
       "  <tbody>\n",
       "    <tr>\n",
       "      <th>0</th>\n",
       "      <td>1</td>\n",
       "      <td>0</td>\n",
       "      <td>3</td>\n",
       "      <td>Braund, Mr. Owen Harris</td>\n",
       "      <td>1</td>\n",
       "      <td>22.0</td>\n",
       "      <td>1</td>\n",
       "      <td>0</td>\n",
       "      <td>A/5 21171</td>\n",
       "      <td>7.2500</td>\n",
       "      <td>147</td>\n",
       "      <td>2</td>\n",
       "    </tr>\n",
       "    <tr>\n",
       "      <th>1</th>\n",
       "      <td>2</td>\n",
       "      <td>1</td>\n",
       "      <td>1</td>\n",
       "      <td>Cumings, Mrs. John Bradley (Florence Briggs Th...</td>\n",
       "      <td>0</td>\n",
       "      <td>38.0</td>\n",
       "      <td>1</td>\n",
       "      <td>0</td>\n",
       "      <td>PC 17599</td>\n",
       "      <td>71.2833</td>\n",
       "      <td>81</td>\n",
       "      <td>0</td>\n",
       "    </tr>\n",
       "    <tr>\n",
       "      <th>2</th>\n",
       "      <td>3</td>\n",
       "      <td>1</td>\n",
       "      <td>3</td>\n",
       "      <td>Heikkinen, Miss. Laina</td>\n",
       "      <td>0</td>\n",
       "      <td>26.0</td>\n",
       "      <td>0</td>\n",
       "      <td>0</td>\n",
       "      <td>STON/O2. 3101282</td>\n",
       "      <td>7.9250</td>\n",
       "      <td>147</td>\n",
       "      <td>2</td>\n",
       "    </tr>\n",
       "    <tr>\n",
       "      <th>3</th>\n",
       "      <td>4</td>\n",
       "      <td>1</td>\n",
       "      <td>1</td>\n",
       "      <td>Futrelle, Mrs. Jacques Heath (Lily May Peel)</td>\n",
       "      <td>0</td>\n",
       "      <td>35.0</td>\n",
       "      <td>1</td>\n",
       "      <td>0</td>\n",
       "      <td>113803</td>\n",
       "      <td>53.1000</td>\n",
       "      <td>55</td>\n",
       "      <td>2</td>\n",
       "    </tr>\n",
       "    <tr>\n",
       "      <th>4</th>\n",
       "      <td>5</td>\n",
       "      <td>0</td>\n",
       "      <td>3</td>\n",
       "      <td>Allen, Mr. William Henry</td>\n",
       "      <td>1</td>\n",
       "      <td>35.0</td>\n",
       "      <td>0</td>\n",
       "      <td>0</td>\n",
       "      <td>373450</td>\n",
       "      <td>8.0500</td>\n",
       "      <td>147</td>\n",
       "      <td>2</td>\n",
       "    </tr>\n",
       "  </tbody>\n",
       "</table>\n",
       "</div>"
      ],
      "text/plain": [
       "   PassengerId  Survived  Pclass  \\\n",
       "0            1         0       3   \n",
       "1            2         1       1   \n",
       "2            3         1       3   \n",
       "3            4         1       1   \n",
       "4            5         0       3   \n",
       "\n",
       "                                                Name  Sex   Age  SibSp  Parch  \\\n",
       "0                            Braund, Mr. Owen Harris    1  22.0      1      0   \n",
       "1  Cumings, Mrs. John Bradley (Florence Briggs Th...    0  38.0      1      0   \n",
       "2                             Heikkinen, Miss. Laina    0  26.0      0      0   \n",
       "3       Futrelle, Mrs. Jacques Heath (Lily May Peel)    0  35.0      1      0   \n",
       "4                           Allen, Mr. William Henry    1  35.0      0      0   \n",
       "\n",
       "             Ticket     Fare  Cabin  Embarked  \n",
       "0         A/5 21171   7.2500    147         2  \n",
       "1          PC 17599  71.2833     81         0  \n",
       "2  STON/O2. 3101282   7.9250    147         2  \n",
       "3            113803  53.1000     55         2  \n",
       "4            373450   8.0500    147         2  "
      ]
     },
     "execution_count": 86,
     "metadata": {},
     "output_type": "execute_result"
    }
   ],
   "source": [
    "from sklearn import preprocessing\n",
    "\n",
    "def encode_features(dataDF):\n",
    "    features = ['Cabin', 'Sex', 'Embarked']\n",
    "    for feature in features:\n",
    "        le = preprocessing.LabelEncoder()\n",
    "        le = le.fit(dataDF[feature])\n",
    "        dataDF[feature] = le.transform(dataDF[feature])\n",
    "        \n",
    "    return dataDF\n",
    "\n",
    "titanic_df = encode_features(titanic_df)\n",
    "titanic_df.head()"
   ]
  },
  {
   "cell_type": "code",
   "execution_count": 87,
   "id": "6167aaa4",
   "metadata": {},
   "outputs": [],
   "source": [
    "from sklearn.preprocessing import LabelEncoder\n",
    "\n",
    "# Null 처리 함수\n",
    "def fillna(df):\n",
    "    df['Age'].fillna(df['Age'].mean(),inplace=True)\n",
    "    df['Cabin'].fillna('N',inplace=True)\n",
    "    df['Embarked'].fillna('N',inplace=True)\n",
    "    df['Fare'].fillna(0,inplace=True)\n",
    "    return df\n",
    "\n",
    "# 머신러닝 알고리즘에 불필요한 속성 제거\n",
    "def drop_features(df):\n",
    "    df.drop(['PassengerId','Name','Ticket'],axis=1,inplace=True)\n",
    "    return df\n",
    "\n",
    "# 레이블 인코딩 수행. \n",
    "def format_features(df):\n",
    "    df['Cabin'] = df['Cabin'].str[:1]\n",
    "    features = ['Cabin','Sex','Embarked']\n",
    "    for feature in features:\n",
    "        le = LabelEncoder()\n",
    "        le = le.fit(df[feature])\n",
    "        df[feature] = le.transform(df[feature])\n",
    "    return df\n",
    "\n",
    "# 앞에서 설정한 Data Preprocessing 함수 호출\n",
    "def transform_features(df):\n",
    "    df = fillna(df)\n",
    "    df = drop_features(df)\n",
    "    df = format_features(df)\n",
    "    return df"
   ]
  },
  {
   "cell_type": "code",
   "execution_count": 88,
   "id": "620621ac",
   "metadata": {},
   "outputs": [],
   "source": [
    "# 원본 데이터를 재로딩 하고, feature데이터 셋과 Label 데이터 셋 추출. \n",
    "titanic_df = pd.read_csv('./csv-data/titanic_train.csv')\n",
    "y_titanic_df = titanic_df['Survived']\n",
    "X_titanic_df= titanic_df.drop('Survived',axis=1)\n",
    "\n",
    "X_titanic_df = transform_features(X_titanic_df)"
   ]
  },
  {
   "cell_type": "code",
   "execution_count": 89,
   "id": "06b9a617",
   "metadata": {},
   "outputs": [],
   "source": [
    "from sklearn.model_selection import train_test_split\n",
    "X_train, X_test, y_train, y_test=train_test_split(X_titanic_df, y_titanic_df, \\\n",
    "                                                  test_size=0.2, random_state=11)"
   ]
  },
  {
   "cell_type": "code",
   "execution_count": 90,
   "id": "d057aa06",
   "metadata": {},
   "outputs": [
    {
     "name": "stdout",
     "output_type": "stream",
     "text": [
      "DecisionTreeClassifier 정확도: 0.7877\n",
      "RandomForestClassifier 정확도:0.8547\n",
      "LogisticRegression 정확도: 0.8492\n",
      "SVM 정확도: 0.8492\n"
     ]
    },
    {
     "name": "stderr",
     "output_type": "stream",
     "text": [
      "C:\\Users\\H\\ssac\\anaconda3\\lib\\site-packages\\sklearn\\linear_model\\_logistic.py:763: ConvergenceWarning: lbfgs failed to converge (status=1):\n",
      "STOP: TOTAL NO. of ITERATIONS REACHED LIMIT.\n",
      "\n",
      "Increase the number of iterations (max_iter) or scale the data as shown in:\n",
      "    https://scikit-learn.org/stable/modules/preprocessing.html\n",
      "Please also refer to the documentation for alternative solver options:\n",
      "    https://scikit-learn.org/stable/modules/linear_model.html#logistic-regression\n",
      "  n_iter_i = _check_optimize_result(\n"
     ]
    }
   ],
   "source": [
    "from sklearn.tree import DecisionTreeClassifier\n",
    "from sklearn.ensemble import RandomForestClassifier\n",
    "from sklearn.linear_model import LogisticRegression\n",
    "from sklearn.svm import SVC\n",
    "from sklearn.metrics import accuracy_score\n",
    "\n",
    "# 결정트리, Random Forest, 로지스틱 회귀를 위한 사이킷런 Classifier 클래스 생성\n",
    "dt_clf = DecisionTreeClassifier(random_state=11)\n",
    "rf_clf = RandomForestClassifier(random_state=11)\n",
    "lr_clf = LogisticRegression()\n",
    "svm_svc = SVC() ##추가해보자.!!\n",
    "\n",
    "# DecisionTreeClassifier 학습/예측/평가\n",
    "dt_clf.fit(X_train , y_train)\n",
    "dt_pred = dt_clf.predict(X_test)\n",
    "print('DecisionTreeClassifier 정확도: {0:.4f}'.format(accuracy_score(y_test, dt_pred)))\n",
    "\n",
    "# RandomForestClassifier 학습/예측/평가\n",
    "rf_clf.fit(X_train , y_train)\n",
    "rf_pred = rf_clf.predict(X_test)\n",
    "print('RandomForestClassifier 정확도:{0:.4f}'.format(accuracy_score(y_test, rf_pred)))\n",
    "\n",
    "# LogisticRegression 학습/예측/평가\n",
    "lr_clf.fit(X_train , y_train)\n",
    "lr_pred = lr_clf.predict(X_test)\n",
    "print('LogisticRegression 정확도: {0:.4f}'.format(accuracy_score(y_test, lr_pred)))\n",
    "\n",
    "\n",
    "# SVM 학습/예측/평가\n",
    "svm_svc.fit(X_train , y_train)\n",
    "svm_pred = lr_clf.predict(X_test)\n",
    "print('SVM 정확도: {0:.4f}'.format(accuracy_score(y_test, lr_pred)))"
   ]
  },
  {
   "cell_type": "markdown",
   "id": "3dbd4972",
   "metadata": {},
   "source": [
    "### k-fold"
   ]
  },
  {
   "cell_type": "code",
   "execution_count": 91,
   "id": "896a65e3",
   "metadata": {},
   "outputs": [],
   "source": [
    "from sklearn.model_selection import KFold\n",
    "kfold = KFold(n_splits=5, shuffle=True)\n",
    "# kfold 의 결과는 튜플형태 "
   ]
  },
  {
   "cell_type": "code",
   "execution_count": 92,
   "id": "ce586c7a",
   "metadata": {},
   "outputs": [
    {
     "name": "stdout",
     "output_type": "stream",
     "text": [
      "0\n",
      "1\n",
      "2\n",
      "3\n",
      "4\n"
     ]
    }
   ],
   "source": [
    "for iter_count , (train_index, test_index) in enumerate(kfold.split(X_titanic_df)) :\n",
    "    print(iter_count)"
   ]
  },
  {
   "cell_type": "code",
   "execution_count": 93,
   "id": "af94f298",
   "metadata": {},
   "outputs": [
    {
     "data": {
      "text/plain": [
       "(891, 8)"
      ]
     },
     "execution_count": 93,
     "metadata": {},
     "output_type": "execute_result"
    }
   ],
   "source": [
    "X_titanic_df.shape"
   ]
  },
  {
   "cell_type": "code",
   "execution_count": 94,
   "id": "f53f4e02",
   "metadata": {},
   "outputs": [
    {
     "name": "stdout",
     "output_type": "stream",
     "text": [
      "0 [  0   1   2   4  11  12  13  14  17  19  20  22  25  26  27  30  31  32\n",
      "  33  35  36  37  39  40  41  42  43  44  45  46  48  49  50  52  53  54\n",
      "  55  56  57  58  59  60  62  63  64  66  68  69  70  71  72  74  76  77\n",
      "  78  81  82  83  84  85  86  87  88  89  90  91  94  95  96  97  98  99\n",
      " 100 101 102 103 104 105 108 109 110 111 113 114 115 116 118 119 120 121\n",
      " 122 123 124 125 126 128 129 130 131 132 133 134 136 137 138 139 140 141\n",
      " 142 143 144 145 146 147 148 149 150 152 154 155 156 157 158 160 161 163\n",
      " 164 165 166 167 168 169 172 174 175 177 178 179 180 181 182 183 184 185\n",
      " 186 187 188 189 190 191 192 193 195 196 198 199 201 204 205 206 207 209\n",
      " 210 211 212 213 214 215 216 217 218 219 220 221 223 224 225 226 227 228\n",
      " 229 231 232 233 235 237 238 239 240 242 243 244 245 246 248 249 250 252\n",
      " 253 254 255 256 257 258 259 260 261 262 263 264 265 266 269 270 271 272\n",
      " 273 274 275 276 277 278 279 283 284 285 287 288 289 290 291 293 294 295\n",
      " 296 297 299 300 301 302 303 304 305 307 311 313 314 316 318 319 320 323\n",
      " 324 325 326 327 328 329 330 331 332 333 335 336 338 339 340 341 342 343\n",
      " 344 345 346 348 349 350 352 353 354 355 356 357 358 360 361 362 364 365\n",
      " 368 370 371 373 374 375 376 377 378 379 380 381 382 383 386 387 388 390\n",
      " 391 392 393 396 397 398 399 400 402 404 406 407 408 409 411 412 415 416\n",
      " 417 418 419 420 421 422 423 425 426 427 429 430 431 432 434 435 436 437\n",
      " 438 439 440 441 442 443 444 445 447 448 449 450 451 454 455 456 457 458\n",
      " 459 460 463 464 465 466 467 468 469 470 471 474 475 476 477 478 479 481\n",
      " 482 483 484 485 486 487 488 489 490 492 494 495 497 498 500 501 502 503\n",
      " 504 505 506 507 509 510 512 513 514 515 516 517 518 519 520 521 522 523\n",
      " 524 525 526 527 528 529 530 531 532 533 534 535 536 537 538 539 540 541\n",
      " 543 545 546 547 548 549 553 555 556 557 558 560 561 562 563 564 565 566\n",
      " 567 568 569 570 571 572 574 575 576 578 579 581 582 583 584 585 586 587\n",
      " 588 589 590 591 592 593 594 595 597 598 601 602 603 604 605 606 609 610\n",
      " 611 612 613 614 615 617 618 619 620 621 622 623 624 625 626 627 628 630\n",
      " 631 632 634 636 637 638 639 640 641 642 643 645 646 647 649 650 651 652\n",
      " 653 654 655 656 657 658 659 660 661 662 663 664 668 669 672 673 675 676\n",
      " 677 678 679 680 681 682 683 684 686 687 688 689 690 691 692 693 695 696\n",
      " 697 698 701 702 703 704 706 707 710 712 714 715 716 717 719 720 721 723\n",
      " 725 726 727 728 729 731 732 733 734 735 736 739 740 741 742 743 744 746\n",
      " 747 749 751 752 753 754 755 756 757 758 759 760 761 764 765 766 767 768\n",
      " 769 770 771 773 774 776 777 778 779 781 782 783 784 785 787 788 789 790\n",
      " 791 792 793 796 797 798 799 800 802 803 804 805 806 808 809 811 812 813\n",
      " 814 816 817 818 821 822 823 826 827 828 830 831 832 833 835 836 837 838\n",
      " 839 840 841 842 845 846 847 848 849 850 852 853 854 855 856 857 858 859\n",
      " 860 861 862 863 864 866 867 869 870 871 872 873 874 875 876 877 878 879\n",
      " 880 881 882 884 885 886 887 888 889 890]\n",
      "1 [  2   3   4   5   6   7   8   9  10  12  14  15  16  18  19  20  21  22\n",
      "  23  24  25  26  27  28  29  30  31  32  33  34  35  36  37  38  39  40\n",
      "  43  45  47  49  51  52  53  55  56  57  58  59  60  61  62  63  64  65\n",
      "  67  68  70  72  73  75  76  78  79  80  81  82  83  85  86  87  90  91\n",
      "  92  93  94  95  96  98  99 100 101 102 103 105 106 107 108 109 110 112\n",
      " 117 118 121 123 124 125 126 127 129 130 131 132 133 134 135 137 138 139\n",
      " 142 143 145 146 147 148 149 150 151 153 154 155 156 158 159 160 161 162\n",
      " 164 165 166 167 168 169 170 171 172 173 175 176 177 178 179 180 181 182\n",
      " 183 184 185 186 188 190 191 192 194 195 196 197 199 200 201 202 203 204\n",
      " 205 207 208 209 211 212 214 215 216 217 218 219 220 221 222 223 225 227\n",
      " 229 230 231 232 233 234 236 237 238 239 240 241 243 244 245 246 247 248\n",
      " 249 251 253 254 255 257 258 260 261 262 263 264 265 266 267 268 271 272\n",
      " 273 274 275 277 278 279 280 281 282 284 286 287 288 289 290 292 294 295\n",
      " 298 301 302 304 305 306 307 308 309 310 311 312 313 314 315 316 317 319\n",
      " 321 322 323 325 326 327 328 330 331 332 333 334 336 337 338 341 342 343\n",
      " 344 345 346 347 348 349 350 351 352 353 354 355 356 357 358 359 360 361\n",
      " 362 363 365 366 367 368 369 370 372 373 374 375 376 377 378 379 380 381\n",
      " 383 384 385 386 387 389 390 391 392 393 394 395 396 401 402 403 404 405\n",
      " 406 407 408 409 410 411 412 413 414 417 420 421 422 423 424 426 427 428\n",
      " 432 433 434 435 436 438 439 440 441 442 444 445 446 447 448 450 451 452\n",
      " 453 454 455 456 457 458 459 460 461 462 463 464 465 466 468 469 470 471\n",
      " 472 473 475 477 479 480 481 482 483 484 485 486 487 488 491 493 495 496\n",
      " 497 498 499 500 501 502 503 504 506 507 508 509 511 512 514 515 516 517\n",
      " 518 519 520 523 524 527 528 529 531 532 533 534 535 538 539 540 541 542\n",
      " 543 544 545 546 547 548 550 551 552 554 558 559 561 564 565 566 568 569\n",
      " 570 572 573 574 575 576 577 578 580 581 582 583 585 586 587 588 589 590\n",
      " 591 592 593 594 595 596 597 598 599 600 601 602 603 604 606 607 608 610\n",
      " 611 614 615 616 617 618 620 622 623 624 625 626 627 629 630 632 633 634\n",
      " 635 636 637 638 640 642 643 644 645 646 647 648 649 650 652 653 654 656\n",
      " 657 658 659 661 662 663 664 665 666 667 668 669 670 671 673 674 675 676\n",
      " 678 679 680 681 682 683 684 685 687 688 689 690 691 692 693 694 695 697\n",
      " 699 700 701 702 704 705 706 707 708 709 711 713 714 715 716 717 718 721\n",
      " 722 723 724 725 726 727 728 729 730 731 733 734 735 736 737 738 739 740\n",
      " 741 742 743 744 745 746 747 748 749 750 751 752 753 754 755 756 757 758\n",
      " 759 760 761 762 763 765 766 767 768 769 770 772 773 774 775 777 778 779\n",
      " 780 782 783 785 786 787 788 791 793 794 795 796 798 800 801 802 803 804\n",
      " 805 806 807 808 809 810 811 812 813 814 815 817 819 820 821 823 824 825\n",
      " 826 827 829 833 834 836 838 840 841 842 843 844 845 847 849 850 851 853\n",
      " 854 855 856 857 858 861 862 863 864 865 866 867 868 869 870 873 874 875\n",
      " 876 877 879 880 881 883 884 885 886 888 889]\n",
      "2 [  0   1   3   4   5   6   7   8   9  10  11  13  14  15  16  17  18  20\n",
      "  21  22  23  24  26  27  28  29  30  31  32  33  34  38  39  41  42  43\n",
      "  44  45  46  47  48  49  50  51  52  53  54  55  56  57  58  60  61  62\n",
      "  63  64  65  66  67  68  69  70  71  73  74  75  76  77  79  80  82  83\n",
      "  84  86  87  88  89  90  91  92  93  94  95  96  97  98  99 102 103 104\n",
      " 106 107 109 111 112 113 114 115 116 117 118 119 120 121 122 124 125 127\n",
      " 128 129 130 131 132 133 134 135 136 137 138 139 140 141 143 144 147 150\n",
      " 151 152 153 157 159 160 162 163 164 165 166 167 168 169 170 171 172 173\n",
      " 174 176 178 180 181 182 183 184 186 187 188 189 190 191 193 194 197 198\n",
      " 199 200 201 202 203 206 207 208 210 213 214 215 216 217 218 219 222 223\n",
      " 224 225 226 227 228 229 230 233 234 235 236 238 239 240 241 242 243 244\n",
      " 245 247 248 249 250 251 252 253 254 255 256 259 260 262 265 266 267 268\n",
      " 269 270 271 272 273 274 276 277 278 279 280 281 282 283 284 285 286 287\n",
      " 288 289 291 292 293 294 296 297 298 299 300 302 303 304 305 306 307 308\n",
      " 309 310 311 312 313 314 315 317 318 320 321 322 323 324 325 326 328 329\n",
      " 332 333 334 335 337 338 339 340 341 342 343 344 345 346 347 349 350 351\n",
      " 352 354 355 356 359 361 363 364 365 366 367 369 370 371 372 373 374 377\n",
      " 378 379 381 382 383 384 385 386 387 388 389 391 392 394 395 396 397 398\n",
      " 399 400 401 403 404 405 406 408 410 412 413 414 415 416 417 418 419 420\n",
      " 421 423 424 425 426 427 428 429 430 431 432 433 435 437 443 444 445 446\n",
      " 447 448 449 450 451 452 453 454 455 457 458 459 460 461 462 465 466 467\n",
      " 469 470 472 473 474 475 476 477 478 479 480 481 482 483 484 485 486 487\n",
      " 488 489 490 491 492 493 494 496 497 498 499 501 502 503 504 505 506 507\n",
      " 508 509 510 511 512 513 514 515 516 517 518 519 520 521 522 523 524 525\n",
      " 526 530 533 534 536 537 539 541 542 543 544 545 546 547 549 550 551 552\n",
      " 553 554 555 556 557 558 559 560 562 563 564 566 567 569 570 571 572 573\n",
      " 574 575 576 577 578 579 580 581 582 583 584 588 592 593 594 596 599 600\n",
      " 601 602 603 604 605 607 608 609 610 611 612 613 614 615 616 618 619 620\n",
      " 621 622 623 624 625 627 628 629 631 632 633 634 635 636 637 638 639 640\n",
      " 641 644 646 647 648 651 652 653 655 656 658 660 662 664 665 666 667 668\n",
      " 670 671 672 673 674 675 676 677 679 680 681 682 683 684 685 686 687 688\n",
      " 689 693 694 696 697 698 699 700 701 702 703 705 706 707 708 709 710 711\n",
      " 712 713 714 715 716 717 718 719 720 722 723 724 725 726 728 729 730 732\n",
      " 733 734 737 738 739 740 741 742 743 744 745 746 747 748 749 750 751 753\n",
      " 754 755 756 757 758 762 763 764 766 768 769 770 771 772 773 775 776 778\n",
      " 780 781 783 784 786 789 790 791 792 793 794 795 797 798 799 801 802 803\n",
      " 804 805 806 807 809 810 811 812 813 815 816 818 819 820 822 823 824 825\n",
      " 827 828 829 830 831 832 833 834 835 837 839 840 842 843 844 845 846 847\n",
      " 848 849 850 851 852 855 857 858 859 860 862 864 865 868 869 870 871 872\n",
      " 876 877 878 879 882 883 884 886 887 889 890]\n",
      "3 [  0   1   2   3   4   5   6   7   8   9  10  11  12  13  15  16  17  18\n",
      "  19  21  23  24  25  26  27  28  29  31  32  33  34  35  36  37  38  39\n",
      "  40  41  42  44  46  47  48  49  50  51  53  54  56  57  59  61  62  63\n",
      "  65  66  67  69  70  71  72  73  74  75  77  78  79  80  81  82  84  85\n",
      "  86  88  89  90  92  93  94  95  97  98  99 100 101 102 104 105 106 107\n",
      " 108 110 111 112 113 114 115 116 117 119 120 122 123 124 126 127 128 130\n",
      " 132 135 136 139 140 141 142 144 145 146 147 148 149 150 151 152 153 154\n",
      " 155 156 157 158 159 160 161 162 163 164 165 167 169 170 171 173 174 175\n",
      " 176 177 178 179 183 185 187 189 191 192 193 194 195 196 197 198 199 200\n",
      " 201 202 203 204 205 206 208 209 210 211 212 213 214 216 217 220 221 222\n",
      " 224 226 228 230 231 232 234 235 236 237 239 241 242 243 245 246 247 248\n",
      " 249 250 251 252 255 256 257 258 259 261 262 263 264 265 266 267 268 269\n",
      " 270 273 274 275 276 277 278 279 280 281 282 283 284 285 286 287 289 290\n",
      " 291 292 293 294 295 296 297 298 299 300 301 302 303 305 306 307 308 309\n",
      " 310 312 313 315 316 317 318 319 320 321 322 323 324 327 329 330 331 333\n",
      " 334 335 336 337 339 340 343 347 348 349 351 353 355 356 357 358 359 360\n",
      " 362 363 364 366 367 368 369 371 372 373 374 375 376 377 380 381 382 384\n",
      " 385 387 388 389 390 392 393 394 395 397 398 399 400 401 402 403 404 405\n",
      " 406 407 408 409 410 411 413 414 415 416 417 418 419 420 421 422 424 425\n",
      " 428 429 430 431 433 434 436 437 438 439 440 441 442 443 446 449 450 451\n",
      " 452 453 454 456 457 458 459 460 461 462 463 464 466 467 468 469 471 472\n",
      " 473 474 476 478 480 481 483 484 487 488 489 490 491 492 493 494 495 496\n",
      " 498 499 500 502 504 505 506 508 510 511 512 513 514 515 517 520 521 522\n",
      " 523 524 525 526 527 528 529 530 531 532 533 535 536 537 538 540 541 542\n",
      " 544 545 546 548 549 550 551 552 553 554 555 556 557 558 559 560 561 562\n",
      " 563 564 565 566 567 568 569 570 571 572 573 575 576 577 579 580 581 582\n",
      " 583 584 585 586 587 588 589 590 591 592 595 596 597 598 599 600 604 605\n",
      " 606 607 608 609 610 612 613 616 617 619 621 622 623 625 626 628 629 630\n",
      " 631 633 634 635 636 637 638 639 640 641 642 643 644 645 647 648 649 650\n",
      " 651 652 654 655 657 658 659 660 661 662 663 665 666 667 669 670 671 672\n",
      " 674 676 677 678 679 681 682 685 686 690 691 692 694 695 696 698 699 700\n",
      " 701 702 703 704 705 706 708 709 710 711 712 713 714 718 719 720 721 722\n",
      " 723 724 725 727 728 730 731 732 735 736 737 738 740 741 742 744 745 747\n",
      " 748 749 750 752 753 754 758 759 760 761 762 763 764 765 766 767 768 770\n",
      " 771 772 773 774 775 776 777 779 780 781 782 783 784 785 786 787 788 789\n",
      " 790 792 793 794 795 796 797 798 799 800 801 802 803 806 807 808 810 813\n",
      " 814 815 816 817 818 819 820 821 822 824 825 826 827 828 829 830 831 832\n",
      " 834 835 836 837 838 839 841 843 844 846 848 849 850 851 852 853 854 855\n",
      " 856 857 859 860 861 863 865 866 867 868 869 870 871 872 873 874 875 876\n",
      " 878 880 881 882 883 885 886 887 888 889 890]\n",
      "4 [  0   1   2   3   5   6   7   8   9  10  11  12  13  14  15  16  17  18\n",
      "  19  20  21  22  23  24  25  28  29  30  34  35  36  37  38  40  41  42\n",
      "  43  44  45  46  47  48  50  51  52  54  55  58  59  60  61  64  65  66\n",
      "  67  68  69  71  72  73  74  75  76  77  78  79  80  81  83  84  85  87\n",
      "  88  89  91  92  93  96  97 100 101 103 104 105 106 107 108 109 110 111\n",
      " 112 113 114 115 116 117 118 119 120 121 122 123 125 126 127 128 129 131\n",
      " 133 134 135 136 137 138 140 141 142 143 144 145 146 148 149 151 152 153\n",
      " 154 155 156 157 158 159 161 162 163 166 168 170 171 172 173 174 175 176\n",
      " 177 179 180 181 182 184 185 186 187 188 189 190 192 193 194 195 196 197\n",
      " 198 200 202 203 204 205 206 207 208 209 210 211 212 213 215 218 219 220\n",
      " 221 222 223 224 225 226 227 228 229 230 231 232 233 234 235 236 237 238\n",
      " 240 241 242 244 246 247 250 251 252 253 254 256 257 258 259 260 261 263\n",
      " 264 267 268 269 270 271 272 275 276 280 281 282 283 285 286 288 290 291\n",
      " 292 293 295 296 297 298 299 300 301 303 304 306 308 309 310 311 312 314\n",
      " 315 316 317 318 319 320 321 322 324 325 326 327 328 329 330 331 332 334\n",
      " 335 336 337 338 339 340 341 342 344 345 346 347 348 350 351 352 353 354\n",
      " 357 358 359 360 361 362 363 364 365 366 367 368 369 370 371 372 375 376\n",
      " 378 379 380 382 383 384 385 386 388 389 390 391 393 394 395 396 397 398\n",
      " 399 400 401 402 403 405 407 409 410 411 412 413 414 415 416 418 419 422\n",
      " 423 424 425 426 427 428 429 430 431 432 433 434 435 436 437 438 439 440\n",
      " 441 442 443 444 445 446 447 448 449 452 453 455 456 461 462 463 464 465\n",
      " 467 468 470 471 472 473 474 475 476 477 478 479 480 482 485 486 489 490\n",
      " 491 492 493 494 495 496 497 499 500 501 503 505 507 508 509 510 511 513\n",
      " 516 518 519 521 522 525 526 527 528 529 530 531 532 534 535 536 537 538\n",
      " 539 540 542 543 544 547 548 549 550 551 552 553 554 555 556 557 559 560\n",
      " 561 562 563 565 567 568 571 573 574 577 578 579 580 584 585 586 587 589\n",
      " 590 591 593 594 595 596 597 598 599 600 601 602 603 605 606 607 608 609\n",
      " 611 612 613 614 615 616 617 618 619 620 621 624 626 627 628 629 630 631\n",
      " 632 633 635 639 641 642 643 644 645 646 648 649 650 651 653 654 655 656\n",
      " 657 659 660 661 663 664 665 666 667 668 669 670 671 672 673 674 675 677\n",
      " 678 680 683 684 685 686 687 688 689 690 691 692 693 694 695 696 697 698\n",
      " 699 700 703 704 705 707 708 709 710 711 712 713 715 716 717 718 719 720\n",
      " 721 722 724 726 727 729 730 731 732 733 734 735 736 737 738 739 743 745\n",
      " 746 748 750 751 752 755 756 757 759 760 761 762 763 764 765 767 769 771\n",
      " 772 774 775 776 777 778 779 780 781 782 784 785 786 787 788 789 790 791\n",
      " 792 794 795 796 797 799 800 801 804 805 807 808 809 810 811 812 814 815\n",
      " 816 817 818 819 820 821 822 823 824 825 826 828 829 830 831 832 833 834\n",
      " 835 836 837 838 839 840 841 842 843 844 845 846 847 848 851 852 853 854\n",
      " 856 858 859 860 861 862 863 864 865 866 867 868 871 872 873 874 875 877\n",
      " 878 879 880 881 882 883 884 885 887 888 890]\n"
     ]
    }
   ],
   "source": [
    "for iter_count , (train_index, test_index) in enumerate(kfold.split(X_titanic_df)):\n",
    "        print(iter_count, train_index) #인덱스만 추출한 것임.\n",
    "        #test데이터가 변경됨! => iter_count별로 train데이터, test데이터 구성 비교해볼 것."
   ]
  },
  {
   "cell_type": "code",
   "execution_count": 95,
   "id": "9ee620ee",
   "metadata": {},
   "outputs": [
    {
     "data": {
      "text/plain": [
       "array([[ 3.        ,  1.        , 22.        , ...,  7.25      ,\n",
       "         7.        ,  3.        ],\n",
       "       [ 1.        ,  0.        , 38.        , ..., 71.2833    ,\n",
       "         2.        ,  0.        ],\n",
       "       [ 3.        ,  0.        , 26.        , ...,  7.925     ,\n",
       "         7.        ,  3.        ],\n",
       "       ...,\n",
       "       [ 1.        ,  0.        , 19.        , ..., 30.        ,\n",
       "         1.        ,  3.        ],\n",
       "       [ 3.        ,  0.        , 29.69911765, ..., 23.45      ,\n",
       "         7.        ,  3.        ],\n",
       "       [ 3.        ,  1.        , 32.        , ...,  7.75      ,\n",
       "         7.        ,  2.        ]])"
      ]
     },
     "execution_count": 95,
     "metadata": {},
     "output_type": "execute_result"
    }
   ],
   "source": [
    "X_titanic_df.values[train_index]"
   ]
  },
  {
   "cell_type": "code",
   "execution_count": 96,
   "id": "058804c9",
   "metadata": {},
   "outputs": [],
   "source": [
    "# kfold 교차검증 함수 생성 \n",
    "\n",
    "def exec_kfold(clf, folds=5) :\n",
    "    #clf = classification ; 모델객체\n",
    "    # 폴드 세트를 5개인 KFold 객체를 생성, 폴드 수 만큼 예측결과 저장을 위한 리스트 객체 생성\n",
    "    kfold = KFold(n_splits=folds)\n",
    "    scores=[]\n",
    "    \n",
    "    # kfold 교차검증수행\n",
    "    for iter_count, (train_index, test_index) in enumerate(kfold.split(X_titanic_df)) :\n",
    "        X_train, X_test = X_titanic_df.values[train_index], X_titanic_df.values[test_index]\n",
    "        y_train, y_test = y_titanic_df.values[train_index], y_titanic_df.values[test_index]\n",
    "        \n",
    "        #classifier 학습, 예측, 정확도 계산\n",
    "        clf.fit(X_train, y_train)\n",
    "        predictions = clf.predict(X_test)\n",
    "        accuracy = accuracy_score(y_test, predictions)\n",
    "        scores.append(accuracy)\n",
    "        print(\"교차검증 {0} 정확도 :{1:.4f}\".format(iter_count, accuracy))\n",
    "        \n",
    "    mean_score = np.mean(scores)\n",
    "    print(\"평균 정확도 : {0:4f}\".format(mean_score))\n",
    "    return mean_score"
   ]
  },
  {
   "cell_type": "code",
   "execution_count": 97,
   "id": "9884029f",
   "metadata": {
    "scrolled": true
   },
   "outputs": [
    {
     "name": "stdout",
     "output_type": "stream",
     "text": [
      "교차검증 0 정확도 :0.7542\n",
      "교차검증 1 정확도 :0.7809\n",
      "교차검증 2 정확도 :0.7865\n",
      "교차검증 3 정확도 :0.7697\n",
      "교차검증 4 정확도 :0.8202\n",
      "평균 정확도 : 0.782299\n"
     ]
    },
    {
     "data": {
      "text/plain": [
       "0.782298662984119"
      ]
     },
     "execution_count": 97,
     "metadata": {},
     "output_type": "execute_result"
    }
   ],
   "source": [
    "# decision tree classifier\n",
    "exec_kfold(dt_clf, folds=5)"
   ]
  },
  {
   "cell_type": "code",
   "execution_count": 98,
   "id": "cd8ca32e",
   "metadata": {},
   "outputs": [
    {
     "name": "stdout",
     "output_type": "stream",
     "text": [
      "교차검증 0 정확도 :0.7933\n",
      "교차검증 1 정확도 :0.8090\n",
      "교차검증 2 정확도 :0.8371\n",
      "교차검증 3 정확도 :0.7753\n",
      "교차검증 4 정확도 :0.8596\n",
      "평균 정확도 : 0.814839\n"
     ]
    },
    {
     "data": {
      "text/plain": [
       "0.8148389931579938"
      ]
     },
     "execution_count": 98,
     "metadata": {},
     "output_type": "execute_result"
    }
   ],
   "source": [
    "# randomforecast classifier\n",
    "exec_kfold(rf_clf, folds=5)"
   ]
  },
  {
   "cell_type": "code",
   "execution_count": 99,
   "id": "3dc70cea",
   "metadata": {},
   "outputs": [
    {
     "name": "stdout",
     "output_type": "stream",
     "text": [
      "교차검증 0 정확도 :0.8045\n",
      "교차검증 1 정확도 :0.7809\n",
      "교차검증 2 정확도 :0.7753\n",
      "교차검증 3 정확도 :0.7584\n",
      "교차검증 4 정확도 :0.8202\n",
      "평균 정확도 : 0.787860\n"
     ]
    },
    {
     "name": "stderr",
     "output_type": "stream",
     "text": [
      "C:\\Users\\H\\ssac\\anaconda3\\lib\\site-packages\\sklearn\\linear_model\\_logistic.py:763: ConvergenceWarning: lbfgs failed to converge (status=1):\n",
      "STOP: TOTAL NO. of ITERATIONS REACHED LIMIT.\n",
      "\n",
      "Increase the number of iterations (max_iter) or scale the data as shown in:\n",
      "    https://scikit-learn.org/stable/modules/preprocessing.html\n",
      "Please also refer to the documentation for alternative solver options:\n",
      "    https://scikit-learn.org/stable/modules/linear_model.html#logistic-regression\n",
      "  n_iter_i = _check_optimize_result(\n",
      "C:\\Users\\H\\ssac\\anaconda3\\lib\\site-packages\\sklearn\\linear_model\\_logistic.py:763: ConvergenceWarning: lbfgs failed to converge (status=1):\n",
      "STOP: TOTAL NO. of ITERATIONS REACHED LIMIT.\n",
      "\n",
      "Increase the number of iterations (max_iter) or scale the data as shown in:\n",
      "    https://scikit-learn.org/stable/modules/preprocessing.html\n",
      "Please also refer to the documentation for alternative solver options:\n",
      "    https://scikit-learn.org/stable/modules/linear_model.html#logistic-regression\n",
      "  n_iter_i = _check_optimize_result(\n",
      "C:\\Users\\H\\ssac\\anaconda3\\lib\\site-packages\\sklearn\\linear_model\\_logistic.py:763: ConvergenceWarning: lbfgs failed to converge (status=1):\n",
      "STOP: TOTAL NO. of ITERATIONS REACHED LIMIT.\n",
      "\n",
      "Increase the number of iterations (max_iter) or scale the data as shown in:\n",
      "    https://scikit-learn.org/stable/modules/preprocessing.html\n",
      "Please also refer to the documentation for alternative solver options:\n",
      "    https://scikit-learn.org/stable/modules/linear_model.html#logistic-regression\n",
      "  n_iter_i = _check_optimize_result(\n",
      "C:\\Users\\H\\ssac\\anaconda3\\lib\\site-packages\\sklearn\\linear_model\\_logistic.py:763: ConvergenceWarning: lbfgs failed to converge (status=1):\n",
      "STOP: TOTAL NO. of ITERATIONS REACHED LIMIT.\n",
      "\n",
      "Increase the number of iterations (max_iter) or scale the data as shown in:\n",
      "    https://scikit-learn.org/stable/modules/preprocessing.html\n",
      "Please also refer to the documentation for alternative solver options:\n",
      "    https://scikit-learn.org/stable/modules/linear_model.html#logistic-regression\n",
      "  n_iter_i = _check_optimize_result(\n",
      "C:\\Users\\H\\ssac\\anaconda3\\lib\\site-packages\\sklearn\\linear_model\\_logistic.py:763: ConvergenceWarning: lbfgs failed to converge (status=1):\n",
      "STOP: TOTAL NO. of ITERATIONS REACHED LIMIT.\n",
      "\n",
      "Increase the number of iterations (max_iter) or scale the data as shown in:\n",
      "    https://scikit-learn.org/stable/modules/preprocessing.html\n",
      "Please also refer to the documentation for alternative solver options:\n",
      "    https://scikit-learn.org/stable/modules/linear_model.html#logistic-regression\n",
      "  n_iter_i = _check_optimize_result(\n"
     ]
    },
    {
     "data": {
      "text/plain": [
       "0.7878601468834348"
      ]
     },
     "execution_count": 99,
     "metadata": {},
     "output_type": "execute_result"
    }
   ],
   "source": [
    "# logistic regression\n",
    "exec_kfold(lr_clf, folds=5)"
   ]
  },
  {
   "cell_type": "code",
   "execution_count": 100,
   "id": "d3e95d8b",
   "metadata": {},
   "outputs": [
    {
     "name": "stdout",
     "output_type": "stream",
     "text": [
      "교차검증 0 정확도 :0.5866\n",
      "교차검증 1 정확도 :0.6685\n",
      "교차검증 2 정확도 :0.6685\n",
      "교차검증 3 정확도 :0.6629\n",
      "교차검증 4 정확도 :0.7079\n",
      "평균 정확도 : 0.658891\n"
     ]
    },
    {
     "data": {
      "text/plain": [
       "0.658891469462055"
      ]
     },
     "execution_count": 100,
     "metadata": {},
     "output_type": "execute_result"
    }
   ],
   "source": [
    "# svm\n",
    "exec_kfold(svm_svc, folds=5)"
   ]
  },
  {
   "cell_type": "code",
   "execution_count": 101,
   "id": "16ecfbb2",
   "metadata": {},
   "outputs": [],
   "source": [
    "# all_result=[]\n",
    "# for i in range(2,10) :\n",
    "#     for j in method : \n",
    "#         all_result.append(exec_kfold(j,folds=i))\n",
    "# max(all_result)"
   ]
  },
  {
   "cell_type": "code",
   "execution_count": 102,
   "id": "b11bdb2d",
   "metadata": {},
   "outputs": [
    {
     "name": "stdout",
     "output_type": "stream",
     "text": [
      "교차검증 0 정확도 :0.5866\n",
      "교차검증 1 정확도 :0.6685\n",
      "교차검증 2 정확도 :0.6685\n",
      "교차검증 3 정확도 :0.6629\n",
      "교차검증 4 정확도 :0.7079\n",
      "평균 정확도 : 0.658891\n",
      "교차검증 0 정확도 :0.7542\n",
      "교차검증 1 정확도 :0.7809\n",
      "교차검증 2 정확도 :0.7865\n",
      "교차검증 3 정확도 :0.7697\n",
      "교차검증 4 정확도 :0.8202\n",
      "평균 정확도 : 0.782299\n",
      "교차검증 0 정확도 :0.7933\n",
      "교차검증 1 정확도 :0.8090\n",
      "교차검증 2 정확도 :0.8371\n",
      "교차검증 3 정확도 :0.7753\n",
      "교차검증 4 정확도 :0.8596\n",
      "평균 정확도 : 0.814839\n",
      "교차검증 0 정확도 :0.8045\n",
      "교차검증 1 정확도 :0.7809\n",
      "교차검증 2 정확도 :0.7753\n",
      "교차검증 3 정확도 :0.7584\n",
      "교차검증 4 정확도 :0.8202\n",
      "평균 정확도 : 0.787860\n"
     ]
    },
    {
     "name": "stderr",
     "output_type": "stream",
     "text": [
      "C:\\Users\\H\\ssac\\anaconda3\\lib\\site-packages\\sklearn\\linear_model\\_logistic.py:763: ConvergenceWarning: lbfgs failed to converge (status=1):\n",
      "STOP: TOTAL NO. of ITERATIONS REACHED LIMIT.\n",
      "\n",
      "Increase the number of iterations (max_iter) or scale the data as shown in:\n",
      "    https://scikit-learn.org/stable/modules/preprocessing.html\n",
      "Please also refer to the documentation for alternative solver options:\n",
      "    https://scikit-learn.org/stable/modules/linear_model.html#logistic-regression\n",
      "  n_iter_i = _check_optimize_result(\n",
      "C:\\Users\\H\\ssac\\anaconda3\\lib\\site-packages\\sklearn\\linear_model\\_logistic.py:763: ConvergenceWarning: lbfgs failed to converge (status=1):\n",
      "STOP: TOTAL NO. of ITERATIONS REACHED LIMIT.\n",
      "\n",
      "Increase the number of iterations (max_iter) or scale the data as shown in:\n",
      "    https://scikit-learn.org/stable/modules/preprocessing.html\n",
      "Please also refer to the documentation for alternative solver options:\n",
      "    https://scikit-learn.org/stable/modules/linear_model.html#logistic-regression\n",
      "  n_iter_i = _check_optimize_result(\n",
      "C:\\Users\\H\\ssac\\anaconda3\\lib\\site-packages\\sklearn\\linear_model\\_logistic.py:763: ConvergenceWarning: lbfgs failed to converge (status=1):\n",
      "STOP: TOTAL NO. of ITERATIONS REACHED LIMIT.\n",
      "\n",
      "Increase the number of iterations (max_iter) or scale the data as shown in:\n",
      "    https://scikit-learn.org/stable/modules/preprocessing.html\n",
      "Please also refer to the documentation for alternative solver options:\n",
      "    https://scikit-learn.org/stable/modules/linear_model.html#logistic-regression\n",
      "  n_iter_i = _check_optimize_result(\n",
      "C:\\Users\\H\\ssac\\anaconda3\\lib\\site-packages\\sklearn\\linear_model\\_logistic.py:763: ConvergenceWarning: lbfgs failed to converge (status=1):\n",
      "STOP: TOTAL NO. of ITERATIONS REACHED LIMIT.\n",
      "\n",
      "Increase the number of iterations (max_iter) or scale the data as shown in:\n",
      "    https://scikit-learn.org/stable/modules/preprocessing.html\n",
      "Please also refer to the documentation for alternative solver options:\n",
      "    https://scikit-learn.org/stable/modules/linear_model.html#logistic-regression\n",
      "  n_iter_i = _check_optimize_result(\n",
      "C:\\Users\\H\\ssac\\anaconda3\\lib\\site-packages\\sklearn\\linear_model\\_logistic.py:763: ConvergenceWarning: lbfgs failed to converge (status=1):\n",
      "STOP: TOTAL NO. of ITERATIONS REACHED LIMIT.\n",
      "\n",
      "Increase the number of iterations (max_iter) or scale the data as shown in:\n",
      "    https://scikit-learn.org/stable/modules/preprocessing.html\n",
      "Please also refer to the documentation for alternative solver options:\n",
      "    https://scikit-learn.org/stable/modules/linear_model.html#logistic-regression\n",
      "  n_iter_i = _check_optimize_result(\n"
     ]
    }
   ],
   "source": [
    "method=[svm_svc,dt_clf, rf_clf, lr_clf]\n",
    "all_result=[]\n",
    "for j in method : \n",
    "    all_result.append(exec_kfold(j,folds=5))"
   ]
  },
  {
   "cell_type": "code",
   "execution_count": 103,
   "id": "b67ffc0c",
   "metadata": {},
   "outputs": [],
   "source": [
    "# accuracy 평균값 중 max값 출력함수 \n",
    "\n",
    "def max_acc(score_list) :\n",
    "    max_value = 0 \n",
    "    index = 0 \n",
    "    \n",
    "    for i, model_result in enumerate(score_list):\n",
    "        if model_result > max_value : \n",
    "            max_value = model_result \n",
    "            index = i \n",
    "    return max_value, index"
   ]
  },
  {
   "cell_type": "code",
   "execution_count": 104,
   "id": "484413b7",
   "metadata": {},
   "outputs": [
    {
     "data": {
      "text/plain": [
       "(0.8148389931579938, 2)"
      ]
     },
     "execution_count": 104,
     "metadata": {},
     "output_type": "execute_result"
    }
   ],
   "source": [
    "max_acc(all_result)"
   ]
  },
  {
   "cell_type": "code",
   "execution_count": 105,
   "id": "43c8499b",
   "metadata": {},
   "outputs": [
    {
     "name": "stdout",
     "output_type": "stream",
     "text": [
      "RandomForestClassifier(random_state=11)\n"
     ]
    }
   ],
   "source": [
    "print(method[2])"
   ]
  },
  {
   "cell_type": "code",
   "execution_count": 106,
   "id": "682f4389",
   "metadata": {},
   "outputs": [],
   "source": [
    "def max_acc2(clf, folds=5) :\n",
    "    kfold = KFold(n_splits=folds)\n",
    "    scores=[]\n",
    "    \n",
    "    # kfold 교차검증수행\n",
    "    for iter_count, (train_index, test_index) in enumerate(kfold.split(X_titanic_df)) :\n",
    "        X_train, X_test = X_titanic_df.values[train_index], X_titanic_df.values[test_index]\n",
    "        y_train, y_test = y_titanic_df.values[train_index], y_titanic_df.values[test_index]\n",
    "        \n",
    "        #classifier 학습, 예측, 정확도 계산\n",
    "        clf.fit(X_train, y_train)\n",
    "        predictions = clf.predict(X_test)\n",
    "        accuracy = accuracy_score(y_test, predictions)\n",
    "        scores.append(accuracy)\n",
    "    print(\"method :\",clf, \" max_accuracy :\",max(scores))\n"
   ]
  },
  {
   "cell_type": "code",
   "execution_count": 107,
   "id": "13a4a9e2",
   "metadata": {},
   "outputs": [
    {
     "name": "stdout",
     "output_type": "stream",
     "text": [
      "method : DecisionTreeClassifier(random_state=11)  max_accuracy : 0.8202247191011236\n"
     ]
    }
   ],
   "source": [
    "max_acc2(dt_clf, folds=5)"
   ]
  },
  {
   "cell_type": "code",
   "execution_count": 108,
   "id": "72c8f04d",
   "metadata": {},
   "outputs": [],
   "source": [
    "def exec_kfold2(clf, folds=5) :\n",
    "    #clf = classification ; 모델객체\n",
    "    # 폴드 세트를 5개인 KFold 객체를 생성, 폴드 수 만큼 예측결과 저장을 위한 리스트 객체 생성\n",
    "    kfold = KFold(n_splits=folds)\n",
    "    scores=[]\n",
    "    \n",
    "    # kfold 교차검증수행\n",
    "    for iter_count, (train_index, test_index) in enumerate(kfold.split(X_titanic_df)) :\n",
    "        X_train, X_test = X_titanic_df.values[train_index], X_titanic_df.values[test_index]\n",
    "        y_train, y_test = y_titanic_df.values[train_index], y_titanic_df.values[test_index]\n",
    "        \n",
    "        #classifier 학습, 예측, 정확도 계산\n",
    "        clf.fit(X_train, y_train)\n",
    "        predictions = clf.predict(X_test)\n",
    "        accuracy = accuracy_score(y_test, predictions)\n",
    "        scores.append(accuracy)\n",
    "    return scores\n"
   ]
  },
  {
   "cell_type": "code",
   "execution_count": 109,
   "id": "6f36bac1",
   "metadata": {},
   "outputs": [
    {
     "name": "stdout",
     "output_type": "stream",
     "text": [
      "SVC() 0.658891469462055\n",
      "DecisionTreeClassifier(random_state=11) 0.782298662984119\n",
      "RandomForestClassifier(random_state=11) 0.8148389931579938\n",
      "LogisticRegression() 0.7878601468834348\n"
     ]
    },
    {
     "name": "stderr",
     "output_type": "stream",
     "text": [
      "C:\\Users\\H\\ssac\\anaconda3\\lib\\site-packages\\sklearn\\linear_model\\_logistic.py:763: ConvergenceWarning: lbfgs failed to converge (status=1):\n",
      "STOP: TOTAL NO. of ITERATIONS REACHED LIMIT.\n",
      "\n",
      "Increase the number of iterations (max_iter) or scale the data as shown in:\n",
      "    https://scikit-learn.org/stable/modules/preprocessing.html\n",
      "Please also refer to the documentation for alternative solver options:\n",
      "    https://scikit-learn.org/stable/modules/linear_model.html#logistic-regression\n",
      "  n_iter_i = _check_optimize_result(\n",
      "C:\\Users\\H\\ssac\\anaconda3\\lib\\site-packages\\sklearn\\linear_model\\_logistic.py:763: ConvergenceWarning: lbfgs failed to converge (status=1):\n",
      "STOP: TOTAL NO. of ITERATIONS REACHED LIMIT.\n",
      "\n",
      "Increase the number of iterations (max_iter) or scale the data as shown in:\n",
      "    https://scikit-learn.org/stable/modules/preprocessing.html\n",
      "Please also refer to the documentation for alternative solver options:\n",
      "    https://scikit-learn.org/stable/modules/linear_model.html#logistic-regression\n",
      "  n_iter_i = _check_optimize_result(\n",
      "C:\\Users\\H\\ssac\\anaconda3\\lib\\site-packages\\sklearn\\linear_model\\_logistic.py:763: ConvergenceWarning: lbfgs failed to converge (status=1):\n",
      "STOP: TOTAL NO. of ITERATIONS REACHED LIMIT.\n",
      "\n",
      "Increase the number of iterations (max_iter) or scale the data as shown in:\n",
      "    https://scikit-learn.org/stable/modules/preprocessing.html\n",
      "Please also refer to the documentation for alternative solver options:\n",
      "    https://scikit-learn.org/stable/modules/linear_model.html#logistic-regression\n",
      "  n_iter_i = _check_optimize_result(\n",
      "C:\\Users\\H\\ssac\\anaconda3\\lib\\site-packages\\sklearn\\linear_model\\_logistic.py:763: ConvergenceWarning: lbfgs failed to converge (status=1):\n",
      "STOP: TOTAL NO. of ITERATIONS REACHED LIMIT.\n",
      "\n",
      "Increase the number of iterations (max_iter) or scale the data as shown in:\n",
      "    https://scikit-learn.org/stable/modules/preprocessing.html\n",
      "Please also refer to the documentation for alternative solver options:\n",
      "    https://scikit-learn.org/stable/modules/linear_model.html#logistic-regression\n",
      "  n_iter_i = _check_optimize_result(\n",
      "C:\\Users\\H\\ssac\\anaconda3\\lib\\site-packages\\sklearn\\linear_model\\_logistic.py:763: ConvergenceWarning: lbfgs failed to converge (status=1):\n",
      "STOP: TOTAL NO. of ITERATIONS REACHED LIMIT.\n",
      "\n",
      "Increase the number of iterations (max_iter) or scale the data as shown in:\n",
      "    https://scikit-learn.org/stable/modules/preprocessing.html\n",
      "Please also refer to the documentation for alternative solver options:\n",
      "    https://scikit-learn.org/stable/modules/linear_model.html#logistic-regression\n",
      "  n_iter_i = _check_optimize_result(\n"
     ]
    }
   ],
   "source": [
    "method=[svm_svc,dt_clf, rf_clf, lr_clf]\n",
    "\n",
    "for i in method : \n",
    "    print(i, np.mean(exec_kfold2(i, folds=5)))\n",
    "    "
   ]
  },
  {
   "cell_type": "code",
   "execution_count": 110,
   "id": "ae8dd566",
   "metadata": {},
   "outputs": [],
   "source": [
    "def callKFold_all(model, folds=5) : \n",
    "    kfold = KFold(n_splits=folds)\n",
    "    mean_list=[]\n",
    "    \n",
    "    for clf in models :\n",
    "        scores=[]\n",
    "        # kfold 교차검증수행\n",
    "        for iter_count, (train_index, test_index) in enumerate(kfold.split(X_titanic_df)) :\n",
    "            X_train, X_test = X_titanic_df.values[train_index], X_titanic_df.values[test_index]\n",
    "            y_train, y_test = y_titanic_df.values[train_index], y_titanic_df.values[test_index]\n",
    "        \n",
    "        #classifier 학습, 예측, 정확도 계산\n",
    "            clf.fit(X_train, y_train)\n",
    "            predictions = clf.predict(X_test)\n",
    "            accuracy = accuracy_score(y_test, predictions)\n",
    "            scores.append(accuracy)\n",
    "        mean_score = np.mean(scores)\n",
    "        mean_list.append(mean_score)\n",
    "\n",
    "    print('최적의 model은 ', models[np.argmax(mean_list)], \"최대 accuracy는 \", max(mean_list))"
   ]
  },
  {
   "cell_type": "code",
   "execution_count": 111,
   "id": "b22ef56d",
   "metadata": {},
   "outputs": [
    {
     "name": "stdout",
     "output_type": "stream",
     "text": [
      "최적의 model은  RandomForestClassifier(random_state=11) 최대 accuracy는  0.8148389931579938\n"
     ]
    },
    {
     "name": "stderr",
     "output_type": "stream",
     "text": [
      "C:\\Users\\H\\ssac\\anaconda3\\lib\\site-packages\\sklearn\\linear_model\\_logistic.py:763: ConvergenceWarning: lbfgs failed to converge (status=1):\n",
      "STOP: TOTAL NO. of ITERATIONS REACHED LIMIT.\n",
      "\n",
      "Increase the number of iterations (max_iter) or scale the data as shown in:\n",
      "    https://scikit-learn.org/stable/modules/preprocessing.html\n",
      "Please also refer to the documentation for alternative solver options:\n",
      "    https://scikit-learn.org/stable/modules/linear_model.html#logistic-regression\n",
      "  n_iter_i = _check_optimize_result(\n",
      "C:\\Users\\H\\ssac\\anaconda3\\lib\\site-packages\\sklearn\\linear_model\\_logistic.py:763: ConvergenceWarning: lbfgs failed to converge (status=1):\n",
      "STOP: TOTAL NO. of ITERATIONS REACHED LIMIT.\n",
      "\n",
      "Increase the number of iterations (max_iter) or scale the data as shown in:\n",
      "    https://scikit-learn.org/stable/modules/preprocessing.html\n",
      "Please also refer to the documentation for alternative solver options:\n",
      "    https://scikit-learn.org/stable/modules/linear_model.html#logistic-regression\n",
      "  n_iter_i = _check_optimize_result(\n",
      "C:\\Users\\H\\ssac\\anaconda3\\lib\\site-packages\\sklearn\\linear_model\\_logistic.py:763: ConvergenceWarning: lbfgs failed to converge (status=1):\n",
      "STOP: TOTAL NO. of ITERATIONS REACHED LIMIT.\n",
      "\n",
      "Increase the number of iterations (max_iter) or scale the data as shown in:\n",
      "    https://scikit-learn.org/stable/modules/preprocessing.html\n",
      "Please also refer to the documentation for alternative solver options:\n",
      "    https://scikit-learn.org/stable/modules/linear_model.html#logistic-regression\n",
      "  n_iter_i = _check_optimize_result(\n",
      "C:\\Users\\H\\ssac\\anaconda3\\lib\\site-packages\\sklearn\\linear_model\\_logistic.py:763: ConvergenceWarning: lbfgs failed to converge (status=1):\n",
      "STOP: TOTAL NO. of ITERATIONS REACHED LIMIT.\n",
      "\n",
      "Increase the number of iterations (max_iter) or scale the data as shown in:\n",
      "    https://scikit-learn.org/stable/modules/preprocessing.html\n",
      "Please also refer to the documentation for alternative solver options:\n",
      "    https://scikit-learn.org/stable/modules/linear_model.html#logistic-regression\n",
      "  n_iter_i = _check_optimize_result(\n",
      "C:\\Users\\H\\ssac\\anaconda3\\lib\\site-packages\\sklearn\\linear_model\\_logistic.py:763: ConvergenceWarning: lbfgs failed to converge (status=1):\n",
      "STOP: TOTAL NO. of ITERATIONS REACHED LIMIT.\n",
      "\n",
      "Increase the number of iterations (max_iter) or scale the data as shown in:\n",
      "    https://scikit-learn.org/stable/modules/preprocessing.html\n",
      "Please also refer to the documentation for alternative solver options:\n",
      "    https://scikit-learn.org/stable/modules/linear_model.html#logistic-regression\n",
      "  n_iter_i = _check_optimize_result(\n"
     ]
    }
   ],
   "source": [
    "models = [svm_svc,dt_clf, rf_clf, lr_clf]\n",
    "callKFold_all(models, folds=5)"
   ]
  },
  {
   "cell_type": "code",
   "execution_count": 112,
   "id": "6c676168",
   "metadata": {},
   "outputs": [
    {
     "name": "stdout",
     "output_type": "stream",
     "text": [
      "[0.60335196 0.71348315 0.67977528 0.67977528 0.68539326]\n",
      "[0.74301676 0.7752809  0.79213483 0.78651685 0.84269663]\n",
      "[0.79329609 0.79775281 0.84831461 0.76404494 0.86516854]\n",
      "[0.79888268 0.76966292 0.78089888 0.7752809  0.79775281]\n",
      "\n",
      "-------------------------------\n",
      "최적의 model은  RandomForestClassifier(random_state=11)\n",
      "최대 accuracy는 0.8137153976523758\n"
     ]
    },
    {
     "name": "stderr",
     "output_type": "stream",
     "text": [
      "C:\\Users\\H\\ssac\\anaconda3\\lib\\site-packages\\sklearn\\linear_model\\_logistic.py:763: ConvergenceWarning: lbfgs failed to converge (status=1):\n",
      "STOP: TOTAL NO. of ITERATIONS REACHED LIMIT.\n",
      "\n",
      "Increase the number of iterations (max_iter) or scale the data as shown in:\n",
      "    https://scikit-learn.org/stable/modules/preprocessing.html\n",
      "Please also refer to the documentation for alternative solver options:\n",
      "    https://scikit-learn.org/stable/modules/linear_model.html#logistic-regression\n",
      "  n_iter_i = _check_optimize_result(\n",
      "C:\\Users\\H\\ssac\\anaconda3\\lib\\site-packages\\sklearn\\linear_model\\_logistic.py:763: ConvergenceWarning: lbfgs failed to converge (status=1):\n",
      "STOP: TOTAL NO. of ITERATIONS REACHED LIMIT.\n",
      "\n",
      "Increase the number of iterations (max_iter) or scale the data as shown in:\n",
      "    https://scikit-learn.org/stable/modules/preprocessing.html\n",
      "Please also refer to the documentation for alternative solver options:\n",
      "    https://scikit-learn.org/stable/modules/linear_model.html#logistic-regression\n",
      "  n_iter_i = _check_optimize_result(\n",
      "C:\\Users\\H\\ssac\\anaconda3\\lib\\site-packages\\sklearn\\linear_model\\_logistic.py:763: ConvergenceWarning: lbfgs failed to converge (status=1):\n",
      "STOP: TOTAL NO. of ITERATIONS REACHED LIMIT.\n",
      "\n",
      "Increase the number of iterations (max_iter) or scale the data as shown in:\n",
      "    https://scikit-learn.org/stable/modules/preprocessing.html\n",
      "Please also refer to the documentation for alternative solver options:\n",
      "    https://scikit-learn.org/stable/modules/linear_model.html#logistic-regression\n",
      "  n_iter_i = _check_optimize_result(\n",
      "C:\\Users\\H\\ssac\\anaconda3\\lib\\site-packages\\sklearn\\linear_model\\_logistic.py:763: ConvergenceWarning: lbfgs failed to converge (status=1):\n",
      "STOP: TOTAL NO. of ITERATIONS REACHED LIMIT.\n",
      "\n",
      "Increase the number of iterations (max_iter) or scale the data as shown in:\n",
      "    https://scikit-learn.org/stable/modules/preprocessing.html\n",
      "Please also refer to the documentation for alternative solver options:\n",
      "    https://scikit-learn.org/stable/modules/linear_model.html#logistic-regression\n",
      "  n_iter_i = _check_optimize_result(\n",
      "C:\\Users\\H\\ssac\\anaconda3\\lib\\site-packages\\sklearn\\linear_model\\_logistic.py:763: ConvergenceWarning: lbfgs failed to converge (status=1):\n",
      "STOP: TOTAL NO. of ITERATIONS REACHED LIMIT.\n",
      "\n",
      "Increase the number of iterations (max_iter) or scale the data as shown in:\n",
      "    https://scikit-learn.org/stable/modules/preprocessing.html\n",
      "Please also refer to the documentation for alternative solver options:\n",
      "    https://scikit-learn.org/stable/modules/linear_model.html#logistic-regression\n",
      "  n_iter_i = _check_optimize_result(\n"
     ]
    }
   ],
   "source": [
    "#라이브러리 사용 \n",
    "from sklearn.model_selection import cross_val_score\n",
    "\n",
    "def callKFold_all2(models):\n",
    "    result=[]\n",
    "    for i in models : \n",
    "        scores = cross_val_score(i, X_titanic_df , y_titanic_df , cv=5)\n",
    "        print(scores)\n",
    "        result.append(np.mean(scores))\n",
    "        \n",
    "    print('\\n-------------------------------')\n",
    "    print('최적의 model은 ', models[np.argmax(result)])\n",
    "    print('최대 accuracy는', max(result)) \n",
    "    \n",
    "callKFold_all2(models)"
   ]
  },
  {
   "cell_type": "code",
   "execution_count": 113,
   "id": "4d79afb7",
   "metadata": {
    "scrolled": true
   },
   "outputs": [
    {
     "name": "stdout",
     "output_type": "stream",
     "text": [
      "method : RandomForestClassifier(random_state=11)\n",
      "accuracy : 0.8137153976523758\n"
     ]
    },
    {
     "name": "stderr",
     "output_type": "stream",
     "text": [
      "C:\\Users\\H\\ssac\\anaconda3\\lib\\site-packages\\sklearn\\linear_model\\_logistic.py:763: ConvergenceWarning: lbfgs failed to converge (status=1):\n",
      "STOP: TOTAL NO. of ITERATIONS REACHED LIMIT.\n",
      "\n",
      "Increase the number of iterations (max_iter) or scale the data as shown in:\n",
      "    https://scikit-learn.org/stable/modules/preprocessing.html\n",
      "Please also refer to the documentation for alternative solver options:\n",
      "    https://scikit-learn.org/stable/modules/linear_model.html#logistic-regression\n",
      "  n_iter_i = _check_optimize_result(\n",
      "C:\\Users\\H\\ssac\\anaconda3\\lib\\site-packages\\sklearn\\linear_model\\_logistic.py:763: ConvergenceWarning: lbfgs failed to converge (status=1):\n",
      "STOP: TOTAL NO. of ITERATIONS REACHED LIMIT.\n",
      "\n",
      "Increase the number of iterations (max_iter) or scale the data as shown in:\n",
      "    https://scikit-learn.org/stable/modules/preprocessing.html\n",
      "Please also refer to the documentation for alternative solver options:\n",
      "    https://scikit-learn.org/stable/modules/linear_model.html#logistic-regression\n",
      "  n_iter_i = _check_optimize_result(\n",
      "C:\\Users\\H\\ssac\\anaconda3\\lib\\site-packages\\sklearn\\linear_model\\_logistic.py:763: ConvergenceWarning: lbfgs failed to converge (status=1):\n",
      "STOP: TOTAL NO. of ITERATIONS REACHED LIMIT.\n",
      "\n",
      "Increase the number of iterations (max_iter) or scale the data as shown in:\n",
      "    https://scikit-learn.org/stable/modules/preprocessing.html\n",
      "Please also refer to the documentation for alternative solver options:\n",
      "    https://scikit-learn.org/stable/modules/linear_model.html#logistic-regression\n",
      "  n_iter_i = _check_optimize_result(\n",
      "C:\\Users\\H\\ssac\\anaconda3\\lib\\site-packages\\sklearn\\linear_model\\_logistic.py:763: ConvergenceWarning: lbfgs failed to converge (status=1):\n",
      "STOP: TOTAL NO. of ITERATIONS REACHED LIMIT.\n",
      "\n",
      "Increase the number of iterations (max_iter) or scale the data as shown in:\n",
      "    https://scikit-learn.org/stable/modules/preprocessing.html\n",
      "Please also refer to the documentation for alternative solver options:\n",
      "    https://scikit-learn.org/stable/modules/linear_model.html#logistic-regression\n",
      "  n_iter_i = _check_optimize_result(\n",
      "C:\\Users\\H\\ssac\\anaconda3\\lib\\site-packages\\sklearn\\linear_model\\_logistic.py:763: ConvergenceWarning: lbfgs failed to converge (status=1):\n",
      "STOP: TOTAL NO. of ITERATIONS REACHED LIMIT.\n",
      "\n",
      "Increase the number of iterations (max_iter) or scale the data as shown in:\n",
      "    https://scikit-learn.org/stable/modules/preprocessing.html\n",
      "Please also refer to the documentation for alternative solver options:\n",
      "    https://scikit-learn.org/stable/modules/linear_model.html#logistic-regression\n",
      "  n_iter_i = _check_optimize_result(\n"
     ]
    }
   ],
   "source": [
    "# 딕셔너리로 저장\n",
    "\n",
    "from sklearn.model_selection import cross_val_score\n",
    "\n",
    "def callKFold_all3(models):\n",
    "    result=dict()\n",
    "    for i in models : \n",
    "        scores = cross_val_score(i, X_titanic_df , y_titanic_df , cv=5)\n",
    "        mean_score = np.mean(scores)\n",
    "        result[i] = mean_score\n",
    "    max_result =max(result.values())\n",
    "    for key, value in result.items():\n",
    "        if value == max_result :\n",
    "            print(\"method :\", key)\n",
    "    print(\"accuracy :\",max_result)\n",
    "    \n",
    "callKFold_all3(models)"
   ]
  },
  {
   "cell_type": "markdown",
   "id": "0fbe8433",
   "metadata": {},
   "source": [
    "### cross_val_score"
   ]
  },
  {
   "cell_type": "code",
   "execution_count": 114,
   "id": "0975aace",
   "metadata": {},
   "outputs": [
    {
     "data": {
      "text/plain": [
       "array([0.74301676, 0.7752809 , 0.79213483, 0.78651685, 0.84269663])"
      ]
     },
     "execution_count": 114,
     "metadata": {},
     "output_type": "execute_result"
    }
   ],
   "source": [
    "from sklearn.model_selection import cross_val_score\n",
    "scores = cross_val_score(dt_clf, X_titanic_df, y_titanic_df, cv=5)\n",
    "scores"
   ]
  },
  {
   "cell_type": "code",
   "execution_count": 115,
   "id": "280a35b4",
   "metadata": {},
   "outputs": [
    {
     "data": {
      "text/plain": [
       "numpy.ndarray"
      ]
     },
     "execution_count": 115,
     "metadata": {},
     "output_type": "execute_result"
    }
   ],
   "source": [
    "type(scores)"
   ]
  },
  {
   "cell_type": "code",
   "execution_count": 116,
   "id": "88d7fb99",
   "metadata": {},
   "outputs": [
    {
     "name": "stdout",
     "output_type": "stream",
     "text": [
      "cross validation : 1 => 정확도 : 0.7430\n",
      "cross validation : 2 => 정확도 : 0.7753\n",
      "cross validation : 3 => 정확도 : 0.7921\n",
      "cross validation : 4 => 정확도 : 0.7865\n",
      "cross validation : 5 => 정확도 : 0.8427\n"
     ]
    }
   ],
   "source": [
    "for index, accuracy in enumerate(scores) :\n",
    "    print(\"cross validation : {0} => 정확도 : {1:.4f}\".format(index+1, accuracy))"
   ]
  },
  {
   "cell_type": "code",
   "execution_count": 117,
   "id": "d9c03707",
   "metadata": {},
   "outputs": [
    {
     "name": "stdout",
     "output_type": "stream",
     "text": [
      "average accuracy : 0.7879\n"
     ]
    }
   ],
   "source": [
    "print(\"average accuracy : {0:.4f}\".format(np.mean(scores)))"
   ]
  },
  {
   "cell_type": "markdown",
   "id": "55f2375b",
   "metadata": {},
   "source": [
    "### Grid Search CV"
   ]
  },
  {
   "cell_type": "code",
   "execution_count": 118,
   "id": "c88138b3",
   "metadata": {},
   "outputs": [],
   "source": [
    "from sklearn.model_selection import GridSearchCV\n",
    "\n",
    "parameters = {'max_depth':[2,3,5,10], \n",
    "              'min_samples_split':[2,3,5], 'min_samples_leaf':[1,5,8]}\n",
    "\n",
    "# depth : 어디까지 공부시킬지 ; 데이터의 성격이 명확한 데이터(iris)는 depth를 낮게,\n",
    "# 속성의 수와 row의 수에 따라서 depth가 달라질 수 있다.\n",
    "\n",
    "# overfitting 피하기 : depth를 낮추거나 decision tree의 경우 drop out 시킴\n",
    "\n",
    "# dt_clf, rf_clf, lr_clf, svm_svc\n"
   ]
  },
  {
   "cell_type": "code",
   "execution_count": 119,
   "id": "4723c6be",
   "metadata": {},
   "outputs": [
    {
     "data": {
      "text/plain": [
       "GridSearchCV(cv=5, estimator=DecisionTreeClassifier(random_state=11),\n",
       "             param_grid={'max_depth': [2, 3, 5, 10],\n",
       "                         'min_samples_leaf': [1, 5, 8],\n",
       "                         'min_samples_split': [2, 3, 5]},\n",
       "             scoring='accuracy')"
      ]
     },
     "execution_count": 119,
     "metadata": {},
     "output_type": "execute_result"
    }
   ],
   "source": [
    "grid_dclf = GridSearchCV(dt_clf, param_grid=parameters, scoring = 'accuracy', cv=5)\n",
    "grid_dclf.fit(X_train, y_train)"
   ]
  },
  {
   "cell_type": "code",
   "execution_count": 120,
   "id": "457e69d1",
   "metadata": {},
   "outputs": [
    {
     "data": {
      "text/plain": [
       "{'max_depth': 3, 'min_samples_leaf': 5, 'min_samples_split': 2}"
      ]
     },
     "execution_count": 120,
     "metadata": {},
     "output_type": "execute_result"
    }
   ],
   "source": [
    "#GridSearchCV 최적 하이퍼 파라미터\n",
    "grid_dclf.best_params_"
   ]
  },
  {
   "cell_type": "code",
   "execution_count": 121,
   "id": "73c67763",
   "metadata": {},
   "outputs": [
    {
     "data": {
      "text/plain": [
       "DecisionTreeClassifier(max_depth=3, min_samples_leaf=5, random_state=11)"
      ]
     },
     "execution_count": 121,
     "metadata": {},
     "output_type": "execute_result"
    }
   ],
   "source": [
    "best_dclf = grid_dclf.best_estimator_\n",
    "best_dclf"
   ]
  },
  {
   "cell_type": "code",
   "execution_count": 122,
   "id": "03234410",
   "metadata": {},
   "outputs": [
    {
     "data": {
      "text/plain": [
       "0.7991825076332119"
      ]
     },
     "execution_count": 122,
     "metadata": {},
     "output_type": "execute_result"
    }
   ],
   "source": [
    "#GridSearchCV 최고 정확도\n",
    "best_score = grid_dclf.best_score_\n",
    "best_score"
   ]
  },
  {
   "cell_type": "code",
   "execution_count": 123,
   "id": "bccdfa0d",
   "metadata": {},
   "outputs": [
    {
     "data": {
      "text/plain": [
       "array([1, 0, 0, 0, 0, 0, 0, 1, 0, 1, 0, 0, 0, 0, 0, 0, 0, 0, 0, 1, 0, 0,\n",
       "       0, 0, 0, 0, 0, 0, 0, 0, 1, 1, 0, 1, 0, 0, 0, 1, 0, 0, 0, 0, 1, 1,\n",
       "       1, 1, 1, 0, 1, 0, 0, 0, 0, 1, 0, 0, 0, 0, 0, 0, 0, 0, 0, 0, 0, 0,\n",
       "       1, 1, 1, 0, 0, 0, 0, 1, 0, 0, 1, 0, 1, 0, 1, 1, 1, 0, 1, 1, 0, 0,\n",
       "       1, 0, 0, 0, 0, 0, 1, 0, 1, 0, 0, 1, 0, 1, 1, 0, 1, 0, 0, 0, 0, 0,\n",
       "       0, 0, 1, 0, 0, 0, 0, 0, 1, 0, 0, 0, 0, 0, 0, 0, 0, 0, 1, 0, 1, 0,\n",
       "       1, 0, 1, 0, 1, 0, 0, 1, 1, 0, 0, 0, 0, 1, 0, 0, 1, 0, 0, 1, 1, 0,\n",
       "       1, 1, 0, 0, 1, 1, 0, 1, 0, 1, 0, 1, 1, 0, 0, 1, 0, 1, 0, 0, 0, 0,\n",
       "       0, 0, 0], dtype=int64)"
      ]
     },
     "execution_count": 123,
     "metadata": {},
     "output_type": "execute_result"
    }
   ],
   "source": [
    "#GridSearchCV의 최적 하이퍼 파라미터로 학습된 Estimator로 예측 및 평가 수행\n",
    "dpredictions = best_dclf.predict(X_test)\n",
    "dpredictions"
   ]
  },
  {
   "cell_type": "code",
   "execution_count": 124,
   "id": "1abb664a",
   "metadata": {},
   "outputs": [
    {
     "data": {
      "text/plain": [
       "0.8715083798882681"
      ]
     },
     "execution_count": 124,
     "metadata": {},
     "output_type": "execute_result"
    }
   ],
   "source": [
    "#테스트 세트에서의 DecisionTreeClassifier 정확도\n",
    "accuracy = accuracy_score(y_test, dpredictions)\n",
    "accuracy"
   ]
  }
 ],
 "metadata": {
  "kernelspec": {
   "display_name": "Python 3 (ipykernel)",
   "language": "python",
   "name": "python3"
  },
  "language_info": {
   "codemirror_mode": {
    "name": "ipython",
    "version": 3
   },
   "file_extension": ".py",
   "mimetype": "text/x-python",
   "name": "python",
   "nbconvert_exporter": "python",
   "pygments_lexer": "ipython3",
   "version": "3.9.7"
  }
 },
 "nbformat": 4,
 "nbformat_minor": 5
}
