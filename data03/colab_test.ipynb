{
  "nbformat": 4,
  "nbformat_minor": 0,
  "metadata": {
    "colab": {
      "name": "colab-test.ipynb",
      "provenance": [],
      "authorship_tag": "ABX9TyN7LWSS9rwwYCY5ti/J+u9e",
      "include_colab_link": true
    },
    "kernelspec": {
      "name": "python3",
      "display_name": "Python 3"
    },
    "language_info": {
      "name": "python"
    }
  },
  "cells": [
    {
      "cell_type": "markdown",
      "metadata": {
        "id": "view-in-github",
        "colab_type": "text"
      },
      "source": [
        "<a href=\"https://colab.research.google.com/github/HYUN816/python_data_eng/blob/main/colab_test.ipynb\" target=\"_parent\"><img src=\"https://colab.research.google.com/assets/colab-badge.svg\" alt=\"Open In Colab\"/></a>"
      ]
    },
    {
      "cell_type": "code",
      "metadata": {
        "colab": {
          "base_uri": "https://localhost:8080/"
        },
        "id": "xKY1LyV-rrIl",
        "outputId": "35b5ee5f-a7d7-4dcb-81b5-d07d3d417b04"
      },
      "source": [
        "print('welcome')"
      ],
      "execution_count": 2,
      "outputs": [
        {
          "output_type": "stream",
          "name": "stdout",
          "text": [
            "welcome\n"
          ]
        }
      ]
    },
    {
      "cell_type": "code",
      "metadata": {
        "colab": {
          "base_uri": "https://localhost:8080/"
        },
        "id": "bo4U8YqWr5WG",
        "outputId": "8d1ca6d7-49dc-4b66-f965-8cdcf5c205e5"
      },
      "source": [
        "# mount : 드라이브에 연결 \n",
        "from google.colab import drive\n",
        "\n",
        "drive.mount('/content/drive')"
      ],
      "execution_count": 3,
      "outputs": [
        {
          "output_type": "stream",
          "name": "stdout",
          "text": [
            "Mounted at /content/drive\n"
          ]
        }
      ]
    },
    {
      "cell_type": "code",
      "metadata": {
        "id": "YDEs6jhCtYcO"
      },
      "source": [
        "import pandas as pd\n",
        "\n",
        "df = pd.read_csv('/content/drive/MyDrive/csv_data/005930.KS.csv')"
      ],
      "execution_count": 5,
      "outputs": []
    },
    {
      "cell_type": "code",
      "metadata": {
        "colab": {
          "base_uri": "https://localhost:8080/",
          "height": 423
        },
        "id": "4ZJ0sLSrt-NG",
        "outputId": "e9d63449-0b78-4568-9580-f079ecab8db1"
      },
      "source": [
        "df"
      ],
      "execution_count": 6,
      "outputs": [
        {
          "output_type": "execute_result",
          "data": {
            "text/html": [
              "<div>\n",
              "<style scoped>\n",
              "    .dataframe tbody tr th:only-of-type {\n",
              "        vertical-align: middle;\n",
              "    }\n",
              "\n",
              "    .dataframe tbody tr th {\n",
              "        vertical-align: top;\n",
              "    }\n",
              "\n",
              "    .dataframe thead th {\n",
              "        text-align: right;\n",
              "    }\n",
              "</style>\n",
              "<table border=\"1\" class=\"dataframe\">\n",
              "  <thead>\n",
              "    <tr style=\"text-align: right;\">\n",
              "      <th></th>\n",
              "      <th>Date</th>\n",
              "      <th>Open</th>\n",
              "      <th>High</th>\n",
              "      <th>Low</th>\n",
              "      <th>Close</th>\n",
              "      <th>Adj Close</th>\n",
              "      <th>Volume</th>\n",
              "    </tr>\n",
              "  </thead>\n",
              "  <tbody>\n",
              "    <tr>\n",
              "      <th>0</th>\n",
              "      <td>2020-01-02</td>\n",
              "      <td>55500</td>\n",
              "      <td>56000</td>\n",
              "      <td>55000</td>\n",
              "      <td>55200</td>\n",
              "      <td>52537.17969</td>\n",
              "      <td>12993228</td>\n",
              "    </tr>\n",
              "    <tr>\n",
              "      <th>1</th>\n",
              "      <td>2020-01-03</td>\n",
              "      <td>56000</td>\n",
              "      <td>56600</td>\n",
              "      <td>54900</td>\n",
              "      <td>55500</td>\n",
              "      <td>52822.70703</td>\n",
              "      <td>15422255</td>\n",
              "    </tr>\n",
              "    <tr>\n",
              "      <th>2</th>\n",
              "      <td>2020-01-06</td>\n",
              "      <td>54900</td>\n",
              "      <td>55600</td>\n",
              "      <td>54600</td>\n",
              "      <td>55500</td>\n",
              "      <td>52822.70703</td>\n",
              "      <td>10278951</td>\n",
              "    </tr>\n",
              "    <tr>\n",
              "      <th>3</th>\n",
              "      <td>2020-01-07</td>\n",
              "      <td>55700</td>\n",
              "      <td>56400</td>\n",
              "      <td>55600</td>\n",
              "      <td>55800</td>\n",
              "      <td>53108.23828</td>\n",
              "      <td>10009778</td>\n",
              "    </tr>\n",
              "    <tr>\n",
              "      <th>4</th>\n",
              "      <td>2020-01-08</td>\n",
              "      <td>56200</td>\n",
              "      <td>57400</td>\n",
              "      <td>55900</td>\n",
              "      <td>56800</td>\n",
              "      <td>54059.99219</td>\n",
              "      <td>23501171</td>\n",
              "    </tr>\n",
              "    <tr>\n",
              "      <th>...</th>\n",
              "      <td>...</td>\n",
              "      <td>...</td>\n",
              "      <td>...</td>\n",
              "      <td>...</td>\n",
              "      <td>...</td>\n",
              "      <td>...</td>\n",
              "      <td>...</td>\n",
              "    </tr>\n",
              "    <tr>\n",
              "      <th>358</th>\n",
              "      <td>2021-06-14</td>\n",
              "      <td>80800</td>\n",
              "      <td>80900</td>\n",
              "      <td>80500</td>\n",
              "      <td>80500</td>\n",
              "      <td>80500.00000</td>\n",
              "      <td>10550078</td>\n",
              "    </tr>\n",
              "    <tr>\n",
              "      <th>359</th>\n",
              "      <td>2021-06-15</td>\n",
              "      <td>80900</td>\n",
              "      <td>81200</td>\n",
              "      <td>80600</td>\n",
              "      <td>80900</td>\n",
              "      <td>80900.00000</td>\n",
              "      <td>10075685</td>\n",
              "    </tr>\n",
              "    <tr>\n",
              "      <th>360</th>\n",
              "      <td>2021-06-16</td>\n",
              "      <td>81500</td>\n",
              "      <td>81900</td>\n",
              "      <td>81100</td>\n",
              "      <td>81800</td>\n",
              "      <td>81800.00000</td>\n",
              "      <td>14999855</td>\n",
              "    </tr>\n",
              "    <tr>\n",
              "      <th>361</th>\n",
              "      <td>2021-06-17</td>\n",
              "      <td>81100</td>\n",
              "      <td>81300</td>\n",
              "      <td>80700</td>\n",
              "      <td>80900</td>\n",
              "      <td>80900.00000</td>\n",
              "      <td>14007385</td>\n",
              "    </tr>\n",
              "    <tr>\n",
              "      <th>362</th>\n",
              "      <td>2021-06-18</td>\n",
              "      <td>81100</td>\n",
              "      <td>81100</td>\n",
              "      <td>80500</td>\n",
              "      <td>80500</td>\n",
              "      <td>80500.00000</td>\n",
              "      <td>14916721</td>\n",
              "    </tr>\n",
              "  </tbody>\n",
              "</table>\n",
              "<p>363 rows × 7 columns</p>\n",
              "</div>"
            ],
            "text/plain": [
              "           Date   Open   High    Low  Close    Adj Close    Volume\n",
              "0    2020-01-02  55500  56000  55000  55200  52537.17969  12993228\n",
              "1    2020-01-03  56000  56600  54900  55500  52822.70703  15422255\n",
              "2    2020-01-06  54900  55600  54600  55500  52822.70703  10278951\n",
              "3    2020-01-07  55700  56400  55600  55800  53108.23828  10009778\n",
              "4    2020-01-08  56200  57400  55900  56800  54059.99219  23501171\n",
              "..          ...    ...    ...    ...    ...          ...       ...\n",
              "358  2021-06-14  80800  80900  80500  80500  80500.00000  10550078\n",
              "359  2021-06-15  80900  81200  80600  80900  80900.00000  10075685\n",
              "360  2021-06-16  81500  81900  81100  81800  81800.00000  14999855\n",
              "361  2021-06-17  81100  81300  80700  80900  80900.00000  14007385\n",
              "362  2021-06-18  81100  81100  80500  80500  80500.00000  14916721\n",
              "\n",
              "[363 rows x 7 columns]"
            ]
          },
          "metadata": {},
          "execution_count": 6
        }
      ]
    },
    {
      "cell_type": "code",
      "metadata": {
        "id": "0kfacEuKuEit"
      },
      "source": [
        "import numpy as np"
      ],
      "execution_count": 9,
      "outputs": []
    },
    {
      "cell_type": "code",
      "metadata": {
        "id": "8G_agIRnulog"
      },
      "source": [
        "df2 = pd.DataFrame({\"name\":[\"hong\",\"park\"],\n",
        "                    \"age\":[10,20]})\n",
        "\n",
        "# datafame의 구성요소 : index, column"
      ],
      "execution_count": 8,
      "outputs": []
    },
    {
      "cell_type": "code",
      "metadata": {
        "colab": {
          "base_uri": "https://localhost:8080/",
          "height": 112
        },
        "id": "AAvxajBiu5IX",
        "outputId": "5ec2657d-16ff-426a-feab-3334d98c7a60"
      },
      "source": [
        "df2"
      ],
      "execution_count": 10,
      "outputs": [
        {
          "output_type": "execute_result",
          "data": {
            "text/html": [
              "<div>\n",
              "<style scoped>\n",
              "    .dataframe tbody tr th:only-of-type {\n",
              "        vertical-align: middle;\n",
              "    }\n",
              "\n",
              "    .dataframe tbody tr th {\n",
              "        vertical-align: top;\n",
              "    }\n",
              "\n",
              "    .dataframe thead th {\n",
              "        text-align: right;\n",
              "    }\n",
              "</style>\n",
              "<table border=\"1\" class=\"dataframe\">\n",
              "  <thead>\n",
              "    <tr style=\"text-align: right;\">\n",
              "      <th></th>\n",
              "      <th>name</th>\n",
              "      <th>age</th>\n",
              "    </tr>\n",
              "  </thead>\n",
              "  <tbody>\n",
              "    <tr>\n",
              "      <th>0</th>\n",
              "      <td>hong</td>\n",
              "      <td>10</td>\n",
              "    </tr>\n",
              "    <tr>\n",
              "      <th>1</th>\n",
              "      <td>park</td>\n",
              "      <td>20</td>\n",
              "    </tr>\n",
              "  </tbody>\n",
              "</table>\n",
              "</div>"
            ],
            "text/plain": [
              "   name  age\n",
              "0  hong   10\n",
              "1  park   20"
            ]
          },
          "metadata": {},
          "execution_count": 10
        }
      ]
    },
    {
      "cell_type": "code",
      "metadata": {
        "colab": {
          "base_uri": "https://localhost:8080/"
        },
        "id": "OH7seqDyvBeX",
        "outputId": "24986a86-bcb6-42a2-8dd6-7e1a2d6fa89a"
      },
      "source": [
        "df2.index"
      ],
      "execution_count": 11,
      "outputs": [
        {
          "output_type": "execute_result",
          "data": {
            "text/plain": [
              "RangeIndex(start=0, stop=2, step=1)"
            ]
          },
          "metadata": {},
          "execution_count": 11
        }
      ]
    },
    {
      "cell_type": "code",
      "metadata": {
        "colab": {
          "base_uri": "https://localhost:8080/"
        },
        "id": "scl7KitBvEjD",
        "outputId": "8ce9da6e-cbf3-49c5-bca0-fca3e06da9f7"
      },
      "source": [
        "df2.values"
      ],
      "execution_count": 12,
      "outputs": [
        {
          "output_type": "execute_result",
          "data": {
            "text/plain": [
              "array([['hong', 10],\n",
              "       ['park', 20]], dtype=object)"
            ]
          },
          "metadata": {},
          "execution_count": 12
        }
      ]
    },
    {
      "cell_type": "code",
      "metadata": {
        "colab": {
          "base_uri": "https://localhost:8080/"
        },
        "id": "BWZ5U11OvlIo",
        "outputId": "c55f5c3a-5a09-42b2-857d-cddc60a8fd07"
      },
      "source": [
        "df2.name"
      ],
      "execution_count": 13,
      "outputs": [
        {
          "output_type": "execute_result",
          "data": {
            "text/plain": [
              "0    hong\n",
              "1    park\n",
              "Name: name, dtype: object"
            ]
          },
          "metadata": {},
          "execution_count": 13
        }
      ]
    },
    {
      "cell_type": "code",
      "metadata": {
        "colab": {
          "base_uri": "https://localhost:8080/"
        },
        "id": "a3-9Krdivm-r",
        "outputId": "9bf22870-c2d0-478b-fd77-0ad036bd5208"
      },
      "source": [
        "df2['name']"
      ],
      "execution_count": 14,
      "outputs": [
        {
          "output_type": "execute_result",
          "data": {
            "text/plain": [
              "0    hong\n",
              "1    park\n",
              "Name: name, dtype: object"
            ]
          },
          "metadata": {},
          "execution_count": 14
        }
      ]
    },
    {
      "cell_type": "code",
      "metadata": {
        "colab": {
          "base_uri": "https://localhost:8080/"
        },
        "id": "v7htm6A_vpOK",
        "outputId": "1d333658-dc72-45f2-b779-946fa2b3e6ca"
      },
      "source": [
        "df2.name.index"
      ],
      "execution_count": 15,
      "outputs": [
        {
          "output_type": "execute_result",
          "data": {
            "text/plain": [
              "RangeIndex(start=0, stop=2, step=1)"
            ]
          },
          "metadata": {},
          "execution_count": 15
        }
      ]
    },
    {
      "cell_type": "code",
      "metadata": {
        "colab": {
          "base_uri": "https://localhost:8080/"
        },
        "id": "-7jouztZvwRT",
        "outputId": "e11ad6f2-64fd-48a3-8d08-92eba325809f"
      },
      "source": [
        "df2.name.values"
      ],
      "execution_count": 16,
      "outputs": [
        {
          "output_type": "execute_result",
          "data": {
            "text/plain": [
              "array(['hong', 'park'], dtype=object)"
            ]
          },
          "metadata": {},
          "execution_count": 16
        }
      ]
    },
    {
      "cell_type": "code",
      "metadata": {
        "colab": {
          "base_uri": "https://localhost:8080/"
        },
        "id": "vtY4wcoCvwV8",
        "outputId": "bdfe2132-dc17-45de-88a3-eb827af4d81c"
      },
      "source": [
        "# unwraping : 자료구조 변경 된것 \n",
        "df2.name.values.tolist()"
      ],
      "execution_count": 17,
      "outputs": [
        {
          "output_type": "execute_result",
          "data": {
            "text/plain": [
              "['hong', 'park']"
            ]
          },
          "metadata": {},
          "execution_count": 17
        }
      ]
    },
    {
      "cell_type": "code",
      "metadata": {
        "id": "cCvBDSv1v2de"
      },
      "source": [
        "# database tuple 은 record \n",
        "\n",
        "df3 = pd.DataFrame(data = [['hong',10],['park',20]], columns=['name','age'])"
      ],
      "execution_count": 18,
      "outputs": []
    },
    {
      "cell_type": "code",
      "metadata": {
        "colab": {
          "base_uri": "https://localhost:8080/",
          "height": 112
        },
        "id": "5T04mEWzvwZD",
        "outputId": "68ce4ceb-74e6-4ca5-ee19-69c19468a29d"
      },
      "source": [
        "df3"
      ],
      "execution_count": 19,
      "outputs": [
        {
          "output_type": "execute_result",
          "data": {
            "text/html": [
              "<div>\n",
              "<style scoped>\n",
              "    .dataframe tbody tr th:only-of-type {\n",
              "        vertical-align: middle;\n",
              "    }\n",
              "\n",
              "    .dataframe tbody tr th {\n",
              "        vertical-align: top;\n",
              "    }\n",
              "\n",
              "    .dataframe thead th {\n",
              "        text-align: right;\n",
              "    }\n",
              "</style>\n",
              "<table border=\"1\" class=\"dataframe\">\n",
              "  <thead>\n",
              "    <tr style=\"text-align: right;\">\n",
              "      <th></th>\n",
              "      <th>name</th>\n",
              "      <th>age</th>\n",
              "    </tr>\n",
              "  </thead>\n",
              "  <tbody>\n",
              "    <tr>\n",
              "      <th>0</th>\n",
              "      <td>hong</td>\n",
              "      <td>10</td>\n",
              "    </tr>\n",
              "    <tr>\n",
              "      <th>1</th>\n",
              "      <td>park</td>\n",
              "      <td>20</td>\n",
              "    </tr>\n",
              "  </tbody>\n",
              "</table>\n",
              "</div>"
            ],
            "text/plain": [
              "   name  age\n",
              "0  hong   10\n",
              "1  park   20"
            ]
          },
          "metadata": {},
          "execution_count": 19
        }
      ]
    },
    {
      "cell_type": "code",
      "metadata": {
        "colab": {
          "base_uri": "https://localhost:8080/"
        },
        "id": "2JjslVAsvwcC",
        "outputId": "db0cf4af-03c9-498c-b24c-fc2c89f3adaa"
      },
      "source": [
        "df3.dtypes"
      ],
      "execution_count": 20,
      "outputs": [
        {
          "output_type": "execute_result",
          "data": {
            "text/plain": [
              "name    object\n",
              "age      int64\n",
              "dtype: object"
            ]
          },
          "metadata": {},
          "execution_count": 20
        }
      ]
    },
    {
      "cell_type": "code",
      "metadata": {
        "colab": {
          "base_uri": "https://localhost:8080/"
        },
        "id": "HfW9Tr6Dvweb",
        "outputId": "df9a2cd6-f95e-4bc0-a632-ba8f0d525591"
      },
      "source": [
        "df3['age'].astype(float)\n",
        "\n",
        "# astype은 원본을 바꾸지 않는다  = 비파괴함수\n",
        "# 원본을 바꾸는 함수 = 파괴함수"
      ],
      "execution_count": 21,
      "outputs": [
        {
          "output_type": "execute_result",
          "data": {
            "text/plain": [
              "0    10.0\n",
              "1    20.0\n",
              "Name: age, dtype: float64"
            ]
          },
          "metadata": {},
          "execution_count": 21
        }
      ]
    },
    {
      "cell_type": "code",
      "metadata": {
        "colab": {
          "base_uri": "https://localhost:8080/"
        },
        "id": "bswMGt29vwgj",
        "outputId": "dd0b3d4b-5b17-4a5a-afc6-a111c2ce1a1b"
      },
      "source": [
        "df3.dtypes"
      ],
      "execution_count": 22,
      "outputs": [
        {
          "output_type": "execute_result",
          "data": {
            "text/plain": [
              "name    object\n",
              "age      int64\n",
              "dtype: object"
            ]
          },
          "metadata": {},
          "execution_count": 22
        }
      ]
    },
    {
      "cell_type": "code",
      "metadata": {
        "id": "NjkUc8Z0vwjH"
      },
      "source": [
        "df3['age'] = df3['age'].astype(float)\n",
        "\n",
        "# = 은 ram에 저장하는 대입연산자 "
      ],
      "execution_count": 23,
      "outputs": []
    },
    {
      "cell_type": "code",
      "metadata": {
        "colab": {
          "base_uri": "https://localhost:8080/"
        },
        "id": "fqAq0s1kxvwh",
        "outputId": "feeacfd0-5129-4f95-af06-46304e723289"
      },
      "source": [
        "df3.dtypes"
      ],
      "execution_count": 24,
      "outputs": [
        {
          "output_type": "execute_result",
          "data": {
            "text/plain": [
              "name     object\n",
              "age     float64\n",
              "dtype: object"
            ]
          },
          "metadata": {},
          "execution_count": 24
        }
      ]
    },
    {
      "cell_type": "code",
      "metadata": {
        "colab": {
          "base_uri": "https://localhost:8080/",
          "height": 300
        },
        "id": "dcWtjd3Lx-oX",
        "outputId": "b424a3de-6cd8-4020-8b8c-9ef134a70374"
      },
      "source": [
        "df3.describe()\n",
        "# 숫자형만 가능 \n",
        "# 숫자로 적혀있다고 하더라도 type 이 object인 경우 연산하지 않는다."
      ],
      "execution_count": 26,
      "outputs": [
        {
          "output_type": "execute_result",
          "data": {
            "text/html": [
              "<div>\n",
              "<style scoped>\n",
              "    .dataframe tbody tr th:only-of-type {\n",
              "        vertical-align: middle;\n",
              "    }\n",
              "\n",
              "    .dataframe tbody tr th {\n",
              "        vertical-align: top;\n",
              "    }\n",
              "\n",
              "    .dataframe thead th {\n",
              "        text-align: right;\n",
              "    }\n",
              "</style>\n",
              "<table border=\"1\" class=\"dataframe\">\n",
              "  <thead>\n",
              "    <tr style=\"text-align: right;\">\n",
              "      <th></th>\n",
              "      <th>age</th>\n",
              "    </tr>\n",
              "  </thead>\n",
              "  <tbody>\n",
              "    <tr>\n",
              "      <th>count</th>\n",
              "      <td>2.000000</td>\n",
              "    </tr>\n",
              "    <tr>\n",
              "      <th>mean</th>\n",
              "      <td>15.000000</td>\n",
              "    </tr>\n",
              "    <tr>\n",
              "      <th>std</th>\n",
              "      <td>7.071068</td>\n",
              "    </tr>\n",
              "    <tr>\n",
              "      <th>min</th>\n",
              "      <td>10.000000</td>\n",
              "    </tr>\n",
              "    <tr>\n",
              "      <th>25%</th>\n",
              "      <td>12.500000</td>\n",
              "    </tr>\n",
              "    <tr>\n",
              "      <th>50%</th>\n",
              "      <td>15.000000</td>\n",
              "    </tr>\n",
              "    <tr>\n",
              "      <th>75%</th>\n",
              "      <td>17.500000</td>\n",
              "    </tr>\n",
              "    <tr>\n",
              "      <th>max</th>\n",
              "      <td>20.000000</td>\n",
              "    </tr>\n",
              "  </tbody>\n",
              "</table>\n",
              "</div>"
            ],
            "text/plain": [
              "             age\n",
              "count   2.000000\n",
              "mean   15.000000\n",
              "std     7.071068\n",
              "min    10.000000\n",
              "25%    12.500000\n",
              "50%    15.000000\n",
              "75%    17.500000\n",
              "max    20.000000"
            ]
          },
          "metadata": {},
          "execution_count": 26
        }
      ]
    },
    {
      "cell_type": "code",
      "metadata": {
        "colab": {
          "base_uri": "https://localhost:8080/"
        },
        "id": "a35CBrCFx-tX",
        "outputId": "6540a66e-a9a9-4223-d501-d3ae4c7cf161"
      },
      "source": [
        "type(df3['name'])"
      ],
      "execution_count": 27,
      "outputs": [
        {
          "output_type": "execute_result",
          "data": {
            "text/plain": [
              "pandas.core.series.Series"
            ]
          },
          "metadata": {},
          "execution_count": 27
        }
      ]
    },
    {
      "cell_type": "code",
      "metadata": {
        "colab": {
          "base_uri": "https://localhost:8080/"
        },
        "id": "jugBP1QIx-v4",
        "outputId": "843f6eb8-9fc6-43fa-d6de-ae72d8894018"
      },
      "source": [
        "df3['name']"
      ],
      "execution_count": 28,
      "outputs": [
        {
          "output_type": "execute_result",
          "data": {
            "text/plain": [
              "0    hong\n",
              "1    park\n",
              "Name: name, dtype: object"
            ]
          },
          "metadata": {},
          "execution_count": 28
        }
      ]
    },
    {
      "cell_type": "code",
      "metadata": {
        "colab": {
          "base_uri": "https://localhost:8080/"
        },
        "id": "NH8KwQjex-yi",
        "outputId": "846dac39-3d39-4c95-8ec6-206ac4c19c71"
      },
      "source": [
        "df3['name'].index"
      ],
      "execution_count": 29,
      "outputs": [
        {
          "output_type": "execute_result",
          "data": {
            "text/plain": [
              "RangeIndex(start=0, stop=2, step=1)"
            ]
          },
          "metadata": {},
          "execution_count": 29
        }
      ]
    },
    {
      "cell_type": "code",
      "metadata": {
        "colab": {
          "base_uri": "https://localhost:8080/"
        },
        "id": "X2NWtGhex-1N",
        "outputId": "9f5d5967-4f83-4115-d211-58c2521c8e36"
      },
      "source": [
        "df3['name'].values"
      ],
      "execution_count": 30,
      "outputs": [
        {
          "output_type": "execute_result",
          "data": {
            "text/plain": [
              "array(['hong', 'park'], dtype=object)"
            ]
          },
          "metadata": {},
          "execution_count": 30
        }
      ]
    },
    {
      "cell_type": "code",
      "metadata": {
        "colab": {
          "base_uri": "https://localhost:8080/"
        },
        "id": "lAs-gmD8x-4A",
        "outputId": "21854245-cf01-465d-807a-6b826e3baaa7"
      },
      "source": [
        "type(df3['name'].values)"
      ],
      "execution_count": 31,
      "outputs": [
        {
          "output_type": "execute_result",
          "data": {
            "text/plain": [
              "numpy.ndarray"
            ]
          },
          "metadata": {},
          "execution_count": 31
        }
      ]
    },
    {
      "cell_type": "code",
      "metadata": {
        "colab": {
          "base_uri": "https://localhost:8080/"
        },
        "id": "Ecewlo1Yx-6k",
        "outputId": "af04ffc7-582f-4f90-aa21-ca871e31177d"
      },
      "source": [
        "mask = np.zeros(5)\n",
        "mask"
      ],
      "execution_count": 33,
      "outputs": [
        {
          "output_type": "execute_result",
          "data": {
            "text/plain": [
              "array([0., 0., 0., 0., 0.])"
            ]
          },
          "metadata": {},
          "execution_count": 33
        }
      ]
    },
    {
      "cell_type": "code",
      "metadata": {
        "colab": {
          "base_uri": "https://localhost:8080/"
        },
        "id": "0Yy98mJqysw0",
        "outputId": "34c6e95f-700a-4dd3-f27b-a0adaa97391d"
      },
      "source": [
        "type(mask)"
      ],
      "execution_count": 34,
      "outputs": [
        {
          "output_type": "execute_result",
          "data": {
            "text/plain": [
              "numpy.ndarray"
            ]
          },
          "metadata": {},
          "execution_count": 34
        }
      ]
    },
    {
      "cell_type": "code",
      "metadata": {
        "colab": {
          "base_uri": "https://localhost:8080/"
        },
        "id": "ycoWXN3MyszW",
        "outputId": "a9929ab2-2928-4a6b-8d6e-11fcd09075be"
      },
      "source": [
        "mask2 = np.zeros((3,4))\n",
        "mask2"
      ],
      "execution_count": 36,
      "outputs": [
        {
          "output_type": "execute_result",
          "data": {
            "text/plain": [
              "array([[0., 0., 0., 0.],\n",
              "       [0., 0., 0., 0.],\n",
              "       [0., 0., 0., 0.]])"
            ]
          },
          "metadata": {},
          "execution_count": 36
        }
      ]
    },
    {
      "cell_type": "code",
      "metadata": {
        "colab": {
          "base_uri": "https://localhost:8080/"
        },
        "id": "vE2pf1w0ys1u",
        "outputId": "57448957-3146-488a-ce8f-e0b11dd2279a"
      },
      "source": [
        "arr2 = np.array([[1,2,3],[4,5,6]], dtype = np.float64)\n",
        "arr2"
      ],
      "execution_count": 38,
      "outputs": [
        {
          "output_type": "execute_result",
          "data": {
            "text/plain": [
              "array([[1., 2., 3.],\n",
              "       [4., 5., 6.]])"
            ]
          },
          "metadata": {},
          "execution_count": 38
        }
      ]
    },
    {
      "cell_type": "code",
      "metadata": {
        "colab": {
          "base_uri": "https://localhost:8080/"
        },
        "id": "rbU8Vg31ys4f",
        "outputId": "4852e1e4-0a64-4118-d6a0-51e67fcf3ac8"
      },
      "source": [
        "arr3 = np.array([[7,8,9],[10,11,12]], dtype = np.float64)\n",
        "arr3"
      ],
      "execution_count": 39,
      "outputs": [
        {
          "output_type": "execute_result",
          "data": {
            "text/plain": [
              "array([[ 7.,  8.,  9.],\n",
              "       [10., 11., 12.]])"
            ]
          },
          "metadata": {},
          "execution_count": 39
        }
      ]
    },
    {
      "cell_type": "code",
      "metadata": {
        "colab": {
          "base_uri": "https://localhost:8080/"
        },
        "id": "asr760jXys63",
        "outputId": "0d6ac879-8732-4dfb-d89f-df21c056ecbc"
      },
      "source": [
        "arr2 + arr3 "
      ],
      "execution_count": 41,
      "outputs": [
        {
          "output_type": "execute_result",
          "data": {
            "text/plain": [
              "array([[ 8., 10., 12.],\n",
              "       [14., 16., 18.]])"
            ]
          },
          "metadata": {},
          "execution_count": 41
        }
      ]
    },
    {
      "cell_type": "code",
      "metadata": {
        "colab": {
          "base_uri": "https://localhost:8080/"
        },
        "id": "6L0lpF-cytAJ",
        "outputId": "e1291ded-1214-4147-e57d-6cde8c72ec1c"
      },
      "source": [
        "arr2 * arr3 "
      ],
      "execution_count": 42,
      "outputs": [
        {
          "output_type": "execute_result",
          "data": {
            "text/plain": [
              "array([[ 7., 16., 27.],\n",
              "       [40., 55., 72.]])"
            ]
          },
          "metadata": {},
          "execution_count": 42
        }
      ]
    },
    {
      "cell_type": "code",
      "metadata": {
        "colab": {
          "base_uri": "https://localhost:8080/"
        },
        "id": "XMSCN_BhytCh",
        "outputId": "4d97a746-d07c-4c9f-e291-3b5e95ba16c6"
      },
      "source": [
        "arr2 - arr3"
      ],
      "execution_count": 43,
      "outputs": [
        {
          "output_type": "execute_result",
          "data": {
            "text/plain": [
              "array([[-6., -6., -6.],\n",
              "       [-6., -6., -6.]])"
            ]
          },
          "metadata": {},
          "execution_count": 43
        }
      ]
    },
    {
      "cell_type": "code",
      "metadata": {
        "id": "szUpjAAox-9Y"
      },
      "source": [
        " # 계산 결과를 나중에 사용하고 싶으면 파생변수로 저장하시오."
      ],
      "execution_count": null,
      "outputs": []
    },
    {
      "cell_type": "code",
      "metadata": {
        "id": "Gm4C79rcx-_1"
      },
      "source": [
        ""
      ],
      "execution_count": null,
      "outputs": []
    }
  ]
}