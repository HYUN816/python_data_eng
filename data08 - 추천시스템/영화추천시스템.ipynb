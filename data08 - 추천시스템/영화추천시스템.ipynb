{
  "nbformat": 4,
  "nbformat_minor": 0,
  "metadata": {
    "colab": {
      "name": "영화추천시스템.ipynb",
      "provenance": [],
      "authorship_tag": "ABX9TyNJ7tE808Gkf5I7tItpXu7c",
      "include_colab_link": true
    },
    "kernelspec": {
      "name": "python3",
      "display_name": "Python 3"
    },
    "language_info": {
      "name": "python"
    }
  },
  "cells": [
    {
      "cell_type": "markdown",
      "metadata": {
        "id": "view-in-github",
        "colab_type": "text"
      },
      "source": [
        "<a href=\"https://colab.research.google.com/github/HYUN816/python_data_eng/blob/main/data08%20-%20%EC%B6%94%EC%B2%9C%EC%8B%9C%EC%8A%A4%ED%85%9C/%EC%98%81%ED%99%94%EC%B6%94%EC%B2%9C%EC%8B%9C%EC%8A%A4%ED%85%9C.ipynb\" target=\"_parent\"><img src=\"https://colab.research.google.com/assets/colab-badge.svg\" alt=\"Open In Colab\"/></a>"
      ]
    },
    {
      "cell_type": "code",
      "execution_count": null,
      "metadata": {
        "colab": {
          "base_uri": "https://localhost:8080/"
        },
        "id": "jLGaTJPZPHUw",
        "outputId": "a70120f5-f406-4e89-906c-f6e07bb8aefa"
      },
      "outputs": [
        {
          "output_type": "stream",
          "name": "stdout",
          "text": [
            "Requirement already satisfied: scikit-surprise in /usr/local/lib/python3.7/dist-packages (1.1.1)\n",
            "Requirement already satisfied: joblib>=0.11 in /usr/local/lib/python3.7/dist-packages (from scikit-surprise) (1.1.0)\n",
            "Requirement already satisfied: scipy>=1.0.0 in /usr/local/lib/python3.7/dist-packages (from scikit-surprise) (1.4.1)\n",
            "Requirement already satisfied: six>=1.10.0 in /usr/local/lib/python3.7/dist-packages (from scikit-surprise) (1.15.0)\n",
            "Requirement already satisfied: numpy>=1.11.2 in /usr/local/lib/python3.7/dist-packages (from scikit-surprise) (1.19.5)\n"
          ]
        }
      ],
      "source": [
        "!pip install scikit-surprise"
      ]
    },
    {
      "cell_type": "code",
      "source": [
        "import surprise"
      ],
      "metadata": {
        "id": "0Ulyi-FJPLM-"
      },
      "execution_count": null,
      "outputs": []
    },
    {
      "cell_type": "code",
      "source": [
        "print(surprise.__version__)"
      ],
      "metadata": {
        "colab": {
          "base_uri": "https://localhost:8080/"
        },
        "id": "h-UF-wstPi7w",
        "outputId": "f28e82ef-18e4-408e-c075-ce674ec513e6"
      },
      "execution_count": null,
      "outputs": [
        {
          "output_type": "stream",
          "name": "stdout",
          "text": [
            "1.1.1\n"
          ]
        }
      ]
    },
    {
      "cell_type": "code",
      "source": [
        "from surprise import SVD ##고유값분해(행렬을 더 낮은 차원으로 분해)해서 다시 원본으로 살리면서 잠재적인 값을 추론하는 방법\n",
        "from surprise import Dataset, Reader ## SVD를 사용하기 위한 데이터셋 만들어주는 클래스 / ## 사용자, 아이템, 평점\n",
        "from surprise import accuracy ## RMSE, MAE, R2, CV(k-fold)\n",
        "from surprise.model_selection import train_test_split ### 검증/테스트 데이터 분류"
      ],
      "metadata": {
        "id": "IwAIKMY4Pk_t"
      },
      "execution_count": null,
      "outputs": []
    },
    {
      "cell_type": "code",
      "source": [
        "## 1. 데이터셋을 만들어 주자(사용자, 아이템, 평점), 검증/테스트 데이터 분류 \n",
        "data = Dataset.load_builtin('ml-100k')"
      ],
      "metadata": {
        "id": "pnpXGpgeR7zl"
      },
      "execution_count": null,
      "outputs": []
    },
    {
      "cell_type": "code",
      "source": [
        "trainset, testset = train_test_split(data, test_size = 0.25, random_state=0)"
      ],
      "metadata": {
        "id": "ovqzv9j7TVag"
      },
      "execution_count": null,
      "outputs": []
    },
    {
      "cell_type": "code",
      "source": [
        "trainset"
      ],
      "metadata": {
        "colab": {
          "base_uri": "https://localhost:8080/"
        },
        "id": "VWQt52JoTzXi",
        "outputId": "ad48c373-dc95-4bc8-9026-49ec472d2e7e"
      },
      "execution_count": null,
      "outputs": [
        {
          "output_type": "execute_result",
          "data": {
            "text/plain": [
              "<surprise.trainset.Trainset at 0x7f573da670d0>"
            ]
          },
          "metadata": {},
          "execution_count": 48
        }
      ]
    },
    {
      "cell_type": "code",
      "source": [
        "testset[:5]"
      ],
      "metadata": {
        "colab": {
          "base_uri": "https://localhost:8080/"
        },
        "id": "LtKsiOzvT1Ji",
        "outputId": "3d654076-2c27-4186-9930-f18b5ed81004"
      },
      "execution_count": null,
      "outputs": [
        {
          "output_type": "execute_result",
          "data": {
            "text/plain": [
              "[('120', '282', 4.0),\n",
              " ('882', '291', 4.0),\n",
              " ('535', '507', 5.0),\n",
              " ('697', '244', 5.0),\n",
              " ('751', '385', 4.0)]"
            ]
          },
          "metadata": {},
          "execution_count": 49
        }
      ]
    },
    {
      "cell_type": "code",
      "source": [
        "## 2. SVD() 모델 선정\n",
        "algo = SVD()"
      ],
      "metadata": {
        "id": "xLHU2-HzR-sG"
      },
      "execution_count": null,
      "outputs": []
    },
    {
      "cell_type": "code",
      "source": [
        "## 3. 훈련용 데이터로 fit()\n",
        "algo.fit(trainset)"
      ],
      "metadata": {
        "colab": {
          "base_uri": "https://localhost:8080/"
        },
        "id": "CO9GtRg-SBXg",
        "outputId": "94be0d13-38c4-4dcf-9618-865e78aeb63b"
      },
      "execution_count": null,
      "outputs": [
        {
          "output_type": "execute_result",
          "data": {
            "text/plain": [
              "<surprise.prediction_algorithms.matrix_factorization.SVD at 0x7f573130f1d0>"
            ]
          },
          "metadata": {},
          "execution_count": 51
        }
      ]
    },
    {
      "cell_type": "code",
      "source": [
        "## 4. 검증용 데이터로 예측\n",
        "predictions = algo.test(testset)[:5]"
      ],
      "metadata": {
        "id": "gFvb_0K4SekO"
      },
      "execution_count": null,
      "outputs": []
    },
    {
      "cell_type": "code",
      "source": [
        "[ (pred.uid, pred.iid, pred.est) for pred in predictions]"
      ],
      "metadata": {
        "colab": {
          "base_uri": "https://localhost:8080/"
        },
        "id": "nOnIJ5BpUiNV",
        "outputId": "dfcf264f-b62a-4fcd-8c2e-3a53d734609a"
      },
      "execution_count": null,
      "outputs": [
        {
          "output_type": "execute_result",
          "data": {
            "text/plain": [
              "[('120', '282', 3.6213352950262325),\n",
              " ('882', '291', 3.6700680163645067),\n",
              " ('535', '507', 4.074847873736931),\n",
              " ('697', '244', 3.3834940980814183),\n",
              " ('751', '385', 3.1949106551515336)]"
            ]
          },
          "metadata": {},
          "execution_count": 53
        }
      ]
    },
    {
      "cell_type": "code",
      "source": [
        "## 5. 정확도 계산"
      ],
      "metadata": {
        "id": "Na1TaIr3SgLB"
      },
      "execution_count": null,
      "outputs": []
    },
    {
      "cell_type": "code",
      "source": [
        "## 6. 사용자, 아이템 정보 주고 예측 실행 \n",
        "uid = str(196)\n",
        "iid = str(302)\n",
        "pred = algo.predict(uid,iid)\n",
        "pred"
      ],
      "metadata": {
        "colab": {
          "base_uri": "https://localhost:8080/"
        },
        "id": "qTIaFMzKSrC1",
        "outputId": "317a80ba-40ba-4c2b-9f6e-8ba9544dbbd8"
      },
      "execution_count": null,
      "outputs": [
        {
          "output_type": "execute_result",
          "data": {
            "text/plain": [
              "Prediction(uid='196', iid='302', r_ui=None, est=4.427578829609807, details={'was_impossible': False})"
            ]
          },
          "metadata": {},
          "execution_count": 55
        }
      ]
    },
    {
      "cell_type": "code",
      "source": [
        "import pandas as pd"
      ],
      "metadata": {
        "id": "5fyrgWUJVNeJ"
      },
      "execution_count": null,
      "outputs": []
    },
    {
      "cell_type": "code",
      "source": [
        "## csv를 SVD 하기 위한 DataSet을 주기 위해서는 \n",
        "## 1) df <----- csv, 2) Dataset <------ df"
      ],
      "metadata": {
        "id": "YGH9mcDEXhoD"
      },
      "execution_count": null,
      "outputs": []
    },
    {
      "cell_type": "code",
      "source": [
        "ratings = pd.read_csv('/content/ratings.csv')\n",
        "ratings"
      ],
      "metadata": {
        "colab": {
          "base_uri": "https://localhost:8080/",
          "height": 423
        },
        "id": "6wktmG2FX1NB",
        "outputId": "955c6e7f-9fc1-4af4-a634-6b9723567cff"
      },
      "execution_count": null,
      "outputs": [
        {
          "output_type": "execute_result",
          "data": {
            "text/html": [
              "\n",
              "  <div id=\"df-2122a443-21b4-4a17-b8a0-c4872d99ec10\">\n",
              "    <div class=\"colab-df-container\">\n",
              "      <div>\n",
              "<style scoped>\n",
              "    .dataframe tbody tr th:only-of-type {\n",
              "        vertical-align: middle;\n",
              "    }\n",
              "\n",
              "    .dataframe tbody tr th {\n",
              "        vertical-align: top;\n",
              "    }\n",
              "\n",
              "    .dataframe thead th {\n",
              "        text-align: right;\n",
              "    }\n",
              "</style>\n",
              "<table border=\"1\" class=\"dataframe\">\n",
              "  <thead>\n",
              "    <tr style=\"text-align: right;\">\n",
              "      <th></th>\n",
              "      <th>userId</th>\n",
              "      <th>movieId</th>\n",
              "      <th>rating</th>\n",
              "      <th>timestamp</th>\n",
              "    </tr>\n",
              "  </thead>\n",
              "  <tbody>\n",
              "    <tr>\n",
              "      <th>0</th>\n",
              "      <td>1</td>\n",
              "      <td>1</td>\n",
              "      <td>4.0</td>\n",
              "      <td>964982703</td>\n",
              "    </tr>\n",
              "    <tr>\n",
              "      <th>1</th>\n",
              "      <td>1</td>\n",
              "      <td>3</td>\n",
              "      <td>4.0</td>\n",
              "      <td>964981247</td>\n",
              "    </tr>\n",
              "    <tr>\n",
              "      <th>2</th>\n",
              "      <td>1</td>\n",
              "      <td>6</td>\n",
              "      <td>4.0</td>\n",
              "      <td>964982224</td>\n",
              "    </tr>\n",
              "    <tr>\n",
              "      <th>3</th>\n",
              "      <td>1</td>\n",
              "      <td>47</td>\n",
              "      <td>5.0</td>\n",
              "      <td>964983815</td>\n",
              "    </tr>\n",
              "    <tr>\n",
              "      <th>4</th>\n",
              "      <td>1</td>\n",
              "      <td>50</td>\n",
              "      <td>5.0</td>\n",
              "      <td>964982931</td>\n",
              "    </tr>\n",
              "    <tr>\n",
              "      <th>...</th>\n",
              "      <td>...</td>\n",
              "      <td>...</td>\n",
              "      <td>...</td>\n",
              "      <td>...</td>\n",
              "    </tr>\n",
              "    <tr>\n",
              "      <th>100831</th>\n",
              "      <td>610</td>\n",
              "      <td>166534</td>\n",
              "      <td>4.0</td>\n",
              "      <td>1493848402</td>\n",
              "    </tr>\n",
              "    <tr>\n",
              "      <th>100832</th>\n",
              "      <td>610</td>\n",
              "      <td>168248</td>\n",
              "      <td>5.0</td>\n",
              "      <td>1493850091</td>\n",
              "    </tr>\n",
              "    <tr>\n",
              "      <th>100833</th>\n",
              "      <td>610</td>\n",
              "      <td>168250</td>\n",
              "      <td>5.0</td>\n",
              "      <td>1494273047</td>\n",
              "    </tr>\n",
              "    <tr>\n",
              "      <th>100834</th>\n",
              "      <td>610</td>\n",
              "      <td>168252</td>\n",
              "      <td>5.0</td>\n",
              "      <td>1493846352</td>\n",
              "    </tr>\n",
              "    <tr>\n",
              "      <th>100835</th>\n",
              "      <td>610</td>\n",
              "      <td>170875</td>\n",
              "      <td>3.0</td>\n",
              "      <td>1493846415</td>\n",
              "    </tr>\n",
              "  </tbody>\n",
              "</table>\n",
              "<p>100836 rows × 4 columns</p>\n",
              "</div>\n",
              "      <button class=\"colab-df-convert\" onclick=\"convertToInteractive('df-2122a443-21b4-4a17-b8a0-c4872d99ec10')\"\n",
              "              title=\"Convert this dataframe to an interactive table.\"\n",
              "              style=\"display:none;\">\n",
              "        \n",
              "  <svg xmlns=\"http://www.w3.org/2000/svg\" height=\"24px\"viewBox=\"0 0 24 24\"\n",
              "       width=\"24px\">\n",
              "    <path d=\"M0 0h24v24H0V0z\" fill=\"none\"/>\n",
              "    <path d=\"M18.56 5.44l.94 2.06.94-2.06 2.06-.94-2.06-.94-.94-2.06-.94 2.06-2.06.94zm-11 1L8.5 8.5l.94-2.06 2.06-.94-2.06-.94L8.5 2.5l-.94 2.06-2.06.94zm10 10l.94 2.06.94-2.06 2.06-.94-2.06-.94-.94-2.06-.94 2.06-2.06.94z\"/><path d=\"M17.41 7.96l-1.37-1.37c-.4-.4-.92-.59-1.43-.59-.52 0-1.04.2-1.43.59L10.3 9.45l-7.72 7.72c-.78.78-.78 2.05 0 2.83L4 21.41c.39.39.9.59 1.41.59.51 0 1.02-.2 1.41-.59l7.78-7.78 2.81-2.81c.8-.78.8-2.07 0-2.86zM5.41 20L4 18.59l7.72-7.72 1.47 1.35L5.41 20z\"/>\n",
              "  </svg>\n",
              "      </button>\n",
              "      \n",
              "  <style>\n",
              "    .colab-df-container {\n",
              "      display:flex;\n",
              "      flex-wrap:wrap;\n",
              "      gap: 12px;\n",
              "    }\n",
              "\n",
              "    .colab-df-convert {\n",
              "      background-color: #E8F0FE;\n",
              "      border: none;\n",
              "      border-radius: 50%;\n",
              "      cursor: pointer;\n",
              "      display: none;\n",
              "      fill: #1967D2;\n",
              "      height: 32px;\n",
              "      padding: 0 0 0 0;\n",
              "      width: 32px;\n",
              "    }\n",
              "\n",
              "    .colab-df-convert:hover {\n",
              "      background-color: #E2EBFA;\n",
              "      box-shadow: 0px 1px 2px rgba(60, 64, 67, 0.3), 0px 1px 3px 1px rgba(60, 64, 67, 0.15);\n",
              "      fill: #174EA6;\n",
              "    }\n",
              "\n",
              "    [theme=dark] .colab-df-convert {\n",
              "      background-color: #3B4455;\n",
              "      fill: #D2E3FC;\n",
              "    }\n",
              "\n",
              "    [theme=dark] .colab-df-convert:hover {\n",
              "      background-color: #434B5C;\n",
              "      box-shadow: 0px 1px 3px 1px rgba(0, 0, 0, 0.15);\n",
              "      filter: drop-shadow(0px 1px 2px rgba(0, 0, 0, 0.3));\n",
              "      fill: #FFFFFF;\n",
              "    }\n",
              "  </style>\n",
              "\n",
              "      <script>\n",
              "        const buttonEl =\n",
              "          document.querySelector('#df-2122a443-21b4-4a17-b8a0-c4872d99ec10 button.colab-df-convert');\n",
              "        buttonEl.style.display =\n",
              "          google.colab.kernel.accessAllowed ? 'block' : 'none';\n",
              "\n",
              "        async function convertToInteractive(key) {\n",
              "          const element = document.querySelector('#df-2122a443-21b4-4a17-b8a0-c4872d99ec10');\n",
              "          const dataTable =\n",
              "            await google.colab.kernel.invokeFunction('convertToInteractive',\n",
              "                                                     [key], {});\n",
              "          if (!dataTable) return;\n",
              "\n",
              "          const docLinkHtml = 'Like what you see? Visit the ' +\n",
              "            '<a target=\"_blank\" href=https://colab.research.google.com/notebooks/data_table.ipynb>data table notebook</a>'\n",
              "            + ' to learn more about interactive tables.';\n",
              "          element.innerHTML = '';\n",
              "          dataTable['output_type'] = 'display_data';\n",
              "          await google.colab.output.renderOutput(dataTable, element);\n",
              "          const docLink = document.createElement('div');\n",
              "          docLink.innerHTML = docLinkHtml;\n",
              "          element.appendChild(docLink);\n",
              "        }\n",
              "      </script>\n",
              "    </div>\n",
              "  </div>\n",
              "  "
            ],
            "text/plain": [
              "        userId  movieId  rating   timestamp\n",
              "0            1        1     4.0   964982703\n",
              "1            1        3     4.0   964981247\n",
              "2            1        6     4.0   964982224\n",
              "3            1       47     5.0   964983815\n",
              "4            1       50     5.0   964982931\n",
              "...        ...      ...     ...         ...\n",
              "100831     610   166534     4.0  1493848402\n",
              "100832     610   168248     5.0  1493850091\n",
              "100833     610   168250     5.0  1494273047\n",
              "100834     610   168252     5.0  1493846352\n",
              "100835     610   170875     3.0  1493846415\n",
              "\n",
              "[100836 rows x 4 columns]"
            ]
          },
          "metadata": {},
          "execution_count": 58
        }
      ]
    },
    {
      "cell_type": "code",
      "source": [
        "reader = Reader(rating_scale =(0.5, 5.0))"
      ],
      "metadata": {
        "id": "y7DVhHhkX8dz"
      },
      "execution_count": null,
      "outputs": []
    },
    {
      "cell_type": "code",
      "source": [
        "## svd에서 사용할 수 있는 데이터 셋으로 만들어주자\n",
        "data = Dataset.load_from_df(ratings[['userId','movieId','rating']], reader)"
      ],
      "metadata": {
        "id": "UYRk7QwLYKLh"
      },
      "execution_count": null,
      "outputs": []
    },
    {
      "cell_type": "code",
      "source": [
        "## 데이터 분류, 객체생성, 훈련, 검증 결과 print"
      ],
      "metadata": {
        "id": "DHVRgtg4Y3iG"
      },
      "execution_count": null,
      "outputs": []
    },
    {
      "cell_type": "code",
      "source": [
        "trainset, testset = train_test_split(data,test_size = 0.25, random_state=0)"
      ],
      "metadata": {
        "id": "st6Gopj5ZD75"
      },
      "execution_count": null,
      "outputs": []
    },
    {
      "cell_type": "code",
      "source": [
        "algo = SVD()\n",
        "algo.fit(trainset)\n",
        "predictions = algo.test(testset)\n",
        "accuracy.rmse(predictions)"
      ],
      "metadata": {
        "colab": {
          "base_uri": "https://localhost:8080/"
        },
        "id": "yaUzeVaUZOcP",
        "outputId": "c5a0e595-a30e-4871-a925-fbf950ee4fb0"
      },
      "execution_count": null,
      "outputs": [
        {
          "output_type": "stream",
          "name": "stdout",
          "text": [
            "RMSE: 0.8710\n"
          ]
        },
        {
          "output_type": "execute_result",
          "data": {
            "text/plain": [
              "0.8710183111503011"
            ]
          },
          "metadata": {},
          "execution_count": 103
        }
      ]
    },
    {
      "cell_type": "code",
      "source": [
        "from surprise.model_selection import cross_validate"
      ],
      "metadata": {
        "id": "csihaWIjZSQt"
      },
      "execution_count": null,
      "outputs": []
    },
    {
      "cell_type": "code",
      "source": [
        "cross_validate(algo, data, measures=['RMSE','MAE'], cv=5, verbose =True)"
      ],
      "metadata": {
        "colab": {
          "base_uri": "https://localhost:8080/"
        },
        "id": "CJUFXWCB4xQN",
        "outputId": "f7b51874-25e3-4926-cd93-7fafb379f250"
      },
      "execution_count": null,
      "outputs": [
        {
          "output_type": "stream",
          "name": "stdout",
          "text": [
            "Evaluating RMSE, MAE of algorithm SVD on 5 split(s).\n",
            "\n",
            "                  Fold 1  Fold 2  Fold 3  Fold 4  Fold 5  Mean    Std     \n",
            "RMSE (testset)    0.8789  0.8769  0.8653  0.8756  0.8784  0.8750  0.0050  \n",
            "MAE (testset)     0.6747  0.6735  0.6640  0.6739  0.6743  0.6721  0.0041  \n",
            "Fit time          9.45    9.28    10.59   5.04    5.06    7.88    2.36    \n",
            "Test time         0.58    0.29    0.45    0.39    0.15    0.37    0.15    \n"
          ]
        },
        {
          "output_type": "execute_result",
          "data": {
            "text/plain": [
              "{'fit_time': (9.450012922286987,\n",
              "  9.276583671569824,\n",
              "  10.591615915298462,\n",
              "  5.035592555999756,\n",
              "  5.062147855758667),\n",
              " 'test_mae': array([0.67473868, 0.67352339, 0.66398404, 0.67385969, 0.67426124]),\n",
              " 'test_rmse': array([0.87885504, 0.87693401, 0.86526529, 0.87558787, 0.87836891]),\n",
              " 'test_time': (0.5839014053344727,\n",
              "  0.28869199752807617,\n",
              "  0.44672369956970215,\n",
              "  0.38997316360473633,\n",
              "  0.15337538719177246)}"
            ]
          },
          "metadata": {},
          "execution_count": 108
        }
      ]
    },
    {
      "cell_type": "code",
      "source": [
        "movies = pd.read_csv('/content/movies (1).csv')"
      ],
      "metadata": {
        "id": "1HHSby73Zuug"
      },
      "execution_count": null,
      "outputs": []
    },
    {
      "cell_type": "code",
      "source": [
        "movieIds = ratings[ratings['userId']==9]['movieId']\n",
        "\n",
        "if movieIds[movieIds == 42].count() == 0 :\n",
        "  print('사용자 아이디 9는 영화 아이디 42의 평점 없음')\n",
        "\n",
        "print(movies[movies['movieId']==42])"
      ],
      "metadata": {
        "colab": {
          "base_uri": "https://localhost:8080/"
        },
        "id": "2tpBn9KbsY8C",
        "outputId": "81fdbcd0-dc37-40e1-862d-f99caaf3621c"
      },
      "execution_count": null,
      "outputs": [
        {
          "output_type": "stream",
          "name": "stdout",
          "text": [
            "사용자 아이디 9는 영화 아이디 42의 평점 없음\n",
            "    movieId                   title              genres\n",
            "38       42  Dead Presidents (1995)  Action|Crime|Drama\n"
          ]
        }
      ]
    },
    {
      "cell_type": "code",
      "source": [
        "uid = str(9)\n",
        "iid = str(42)\n",
        "\n",
        "pred = algo.predict(uid, iid, verbose=True)"
      ],
      "metadata": {
        "colab": {
          "base_uri": "https://localhost:8080/"
        },
        "id": "1OFEQt6os5PR",
        "outputId": "f8f45a5d-2036-4cc3-f8dc-b3017a5ff3a6"
      },
      "execution_count": null,
      "outputs": [
        {
          "output_type": "stream",
          "name": "stdout",
          "text": [
            "user: 9          item: 42         r_ui = None   est = 3.50   {'was_impossible': False}\n"
          ]
        }
      ]
    },
    {
      "cell_type": "code",
      "source": [
        "## 사용자가 안본 영화 리스트를 구해서 이중에서 추천하기\n",
        "\n",
        "def get_unseen_surprise(movies, ratings, userId) :\n",
        "  # 전체영화 리스트 \n",
        "  total_movies =movies['movieId'].tolist()\n",
        "\n",
        "  # 내가 본 영화 리스트 \n",
        "  seen_movies = ratings[ratings['userId']==userId]['movieId'].tolist()\n",
        "\n",
        "  # 추천 대상이 되는 영화 리스트 = 전체영화리스트 - 내가 본 영화리스트\n",
        "  unseen_movies = [movie for movie in total_movies if movie not in seen_movies]\n",
        "\n",
        "  print('전체영화리스트 개수 >> ', len(total_movies))\n",
        "  print('내가 본 영화 리스트 개수 >>', len(seen_movies))\n",
        "  print('내가 안본 영화 리스트 개수>>', len(unseen_movies))\n",
        "\n",
        "  return unseen_movies"
      ],
      "metadata": {
        "id": "0xH6KdI-tawP"
      },
      "execution_count": null,
      "outputs": []
    },
    {
      "cell_type": "code",
      "source": [
        "unseen_movies = get_unseen_surprise(movies, ratings, 9)"
      ],
      "metadata": {
        "colab": {
          "base_uri": "https://localhost:8080/"
        },
        "id": "3GJMyD0GuaF8",
        "outputId": "3a2dd67c-8276-4008-c1f4-5666dcc3593c"
      },
      "execution_count": null,
      "outputs": [
        {
          "output_type": "stream",
          "name": "stdout",
          "text": [
            "전체영화리스트 개수 >>  9742\n",
            "내가 본 영화 리스트 개수 >> 46\n",
            "내가 안본 영화 리스트 개수>> 9696\n"
          ]
        }
      ]
    },
    {
      "cell_type": "code",
      "source": [
        "# 클래스안에 클래스 껴놓는것 -> 멤버변수를 공유하고 싶어서 다만 독립적으로 클래스를 사용할 수 없음"
      ],
      "metadata": {
        "id": "-xZkMAgfzH1y"
      },
      "execution_count": null,
      "outputs": []
    },
    {
      "cell_type": "code",
      "source": [
        "def recommend_movie_surprise(algo, userId, unseen_movies, top_n=5):\n",
        "  # 안본 영화 리스트를 하나씩 꺼낸 다음 평점 예측\n",
        "  predictions = [algo.predict(str(userId), str(movieId)) for movieId in unseen_movies]\n",
        "\n",
        "  def sortkey_est(one):\n",
        "    return one.est\n",
        "\n",
        "  predictions.sort(key=sortkey_est, reverse=True)\n",
        "  top_predictions = predictions[:top_n]\n",
        "  \n",
        "  top_movies_ids = [int(pred.iid) for pred in top_predictions]\n",
        "  top_movies_ratings = [pred.est for pred in top_predictions]\n",
        "  top_movies_title = movies[movies.movieId.isin(top_movies_ids)]['title']\n",
        "  top_movies_preds = [(id, title,rating) for id, title, rating in zip(top_movies_ids, top_movies_title,top_movies_ratings)]\n",
        "\n",
        "  return top_movies_preds"
      ],
      "metadata": {
        "id": "kSqRCDb4uxLz"
      },
      "execution_count": null,
      "outputs": []
    },
    {
      "cell_type": "code",
      "source": [
        "top_predictions = recommend_movie_surprise(algo,9, unseen_movies)\n",
        "top_predictions"
      ],
      "metadata": {
        "colab": {
          "base_uri": "https://localhost:8080/"
        },
        "id": "ZEzDlOrPwi2r",
        "outputId": "0f229a07-2b1c-49f8-a22d-bf5b5a6c069c"
      },
      "execution_count": null,
      "outputs": [
        {
          "output_type": "execute_result",
          "data": {
            "text/plain": [
              "[(1, 'Toy Story (1995)', 3.498940113302508),\n",
              " (2, 'Jumanji (1995)', 3.498940113302508),\n",
              " (3, 'Grumpier Old Men (1995)', 3.498940113302508),\n",
              " (4, 'Waiting to Exhale (1995)', 3.498940113302508),\n",
              " (5, 'Father of the Bride Part II (1995)', 3.498940113302508)]"
            ]
          },
          "metadata": {},
          "execution_count": 116
        }
      ]
    },
    {
      "cell_type": "code",
      "source": [
        ""
      ],
      "metadata": {
        "id": "gLqmRrApLs98"
      },
      "execution_count": null,
      "outputs": []
    },
    {
      "cell_type": "markdown",
      "source": [
        "### 새로운 파일로 추천 시스템 만들기"
      ],
      "metadata": {
        "id": "RXJXJ-qLLtkh"
      }
    },
    {
      "cell_type": "code",
      "source": [
        "rating_df =pd.read_csv('/content/movie_rating.csv')\n",
        "rating_df.columns=['userId','movieId','rating']\n",
        "rating_df"
      ],
      "metadata": {
        "colab": {
          "base_uri": "https://localhost:8080/",
          "height": 1000
        },
        "id": "mAc_jJeb7_gu",
        "outputId": "ce541161-fb49-418a-d373-1b0bf2fd8bde"
      },
      "execution_count": null,
      "outputs": [
        {
          "output_type": "execute_result",
          "data": {
            "text/html": [
              "\n",
              "  <div id=\"df-961db833-dba8-46a9-be8e-59e693a7a97d\">\n",
              "    <div class=\"colab-df-container\">\n",
              "      <div>\n",
              "<style scoped>\n",
              "    .dataframe tbody tr th:only-of-type {\n",
              "        vertical-align: middle;\n",
              "    }\n",
              "\n",
              "    .dataframe tbody tr th {\n",
              "        vertical-align: top;\n",
              "    }\n",
              "\n",
              "    .dataframe thead th {\n",
              "        text-align: right;\n",
              "    }\n",
              "</style>\n",
              "<table border=\"1\" class=\"dataframe\">\n",
              "  <thead>\n",
              "    <tr style=\"text-align: right;\">\n",
              "      <th></th>\n",
              "      <th>userId</th>\n",
              "      <th>movieId</th>\n",
              "      <th>rating</th>\n",
              "    </tr>\n",
              "  </thead>\n",
              "  <tbody>\n",
              "    <tr>\n",
              "      <th>0</th>\n",
              "      <td>Jack</td>\n",
              "      <td>Lady</td>\n",
              "      <td>3.0</td>\n",
              "    </tr>\n",
              "    <tr>\n",
              "      <th>1</th>\n",
              "      <td>Jack</td>\n",
              "      <td>Snakes</td>\n",
              "      <td>4.0</td>\n",
              "    </tr>\n",
              "    <tr>\n",
              "      <th>2</th>\n",
              "      <td>Jack</td>\n",
              "      <td>You Me</td>\n",
              "      <td>3.5</td>\n",
              "    </tr>\n",
              "    <tr>\n",
              "      <th>3</th>\n",
              "      <td>Jack</td>\n",
              "      <td>Superman</td>\n",
              "      <td>5.0</td>\n",
              "    </tr>\n",
              "    <tr>\n",
              "      <th>4</th>\n",
              "      <td>Jack</td>\n",
              "      <td>The Night</td>\n",
              "      <td>3.0</td>\n",
              "    </tr>\n",
              "    <tr>\n",
              "      <th>5</th>\n",
              "      <td>Mick</td>\n",
              "      <td>Lady</td>\n",
              "      <td>3.0</td>\n",
              "    </tr>\n",
              "    <tr>\n",
              "      <th>6</th>\n",
              "      <td>Mick</td>\n",
              "      <td>Snakes</td>\n",
              "      <td>4.0</td>\n",
              "    </tr>\n",
              "    <tr>\n",
              "      <th>7</th>\n",
              "      <td>Mick</td>\n",
              "      <td>Just My</td>\n",
              "      <td>2.0</td>\n",
              "    </tr>\n",
              "    <tr>\n",
              "      <th>8</th>\n",
              "      <td>Mick</td>\n",
              "      <td>Superman</td>\n",
              "      <td>3.0</td>\n",
              "    </tr>\n",
              "    <tr>\n",
              "      <th>9</th>\n",
              "      <td>Mick</td>\n",
              "      <td>You Me</td>\n",
              "      <td>2.0</td>\n",
              "    </tr>\n",
              "    <tr>\n",
              "      <th>10</th>\n",
              "      <td>Mick</td>\n",
              "      <td>The Night</td>\n",
              "      <td>3.0</td>\n",
              "    </tr>\n",
              "    <tr>\n",
              "      <th>11</th>\n",
              "      <td>Claudia</td>\n",
              "      <td>Snakes</td>\n",
              "      <td>3.5</td>\n",
              "    </tr>\n",
              "    <tr>\n",
              "      <th>12</th>\n",
              "      <td>Claudia</td>\n",
              "      <td>Just My</td>\n",
              "      <td>3.0</td>\n",
              "    </tr>\n",
              "    <tr>\n",
              "      <th>13</th>\n",
              "      <td>Claudia</td>\n",
              "      <td>You Me</td>\n",
              "      <td>2.5</td>\n",
              "    </tr>\n",
              "    <tr>\n",
              "      <th>14</th>\n",
              "      <td>Claudia</td>\n",
              "      <td>Superman</td>\n",
              "      <td>4.0</td>\n",
              "    </tr>\n",
              "    <tr>\n",
              "      <th>15</th>\n",
              "      <td>Claudia</td>\n",
              "      <td>The Night</td>\n",
              "      <td>4.5</td>\n",
              "    </tr>\n",
              "    <tr>\n",
              "      <th>16</th>\n",
              "      <td>Lisa</td>\n",
              "      <td>Lady</td>\n",
              "      <td>2.5</td>\n",
              "    </tr>\n",
              "    <tr>\n",
              "      <th>17</th>\n",
              "      <td>Lisa</td>\n",
              "      <td>Snakes</td>\n",
              "      <td>3.5</td>\n",
              "    </tr>\n",
              "    <tr>\n",
              "      <th>18</th>\n",
              "      <td>Lisa</td>\n",
              "      <td>Just My</td>\n",
              "      <td>3.0</td>\n",
              "    </tr>\n",
              "    <tr>\n",
              "      <th>19</th>\n",
              "      <td>Lisa</td>\n",
              "      <td>Superman</td>\n",
              "      <td>3.5</td>\n",
              "    </tr>\n",
              "    <tr>\n",
              "      <th>20</th>\n",
              "      <td>Lisa</td>\n",
              "      <td>The Night</td>\n",
              "      <td>3.0</td>\n",
              "    </tr>\n",
              "    <tr>\n",
              "      <th>21</th>\n",
              "      <td>Lisa</td>\n",
              "      <td>You Me</td>\n",
              "      <td>2.5</td>\n",
              "    </tr>\n",
              "    <tr>\n",
              "      <th>22</th>\n",
              "      <td>Toby</td>\n",
              "      <td>Snakes</td>\n",
              "      <td>4.5</td>\n",
              "    </tr>\n",
              "    <tr>\n",
              "      <th>23</th>\n",
              "      <td>Toby</td>\n",
              "      <td>Superman</td>\n",
              "      <td>4.0</td>\n",
              "    </tr>\n",
              "    <tr>\n",
              "      <th>24</th>\n",
              "      <td>Toby</td>\n",
              "      <td>You Me</td>\n",
              "      <td>1.0</td>\n",
              "    </tr>\n",
              "    <tr>\n",
              "      <th>25</th>\n",
              "      <td>Gene</td>\n",
              "      <td>Lady</td>\n",
              "      <td>3.0</td>\n",
              "    </tr>\n",
              "    <tr>\n",
              "      <th>26</th>\n",
              "      <td>Gene</td>\n",
              "      <td>Snakes</td>\n",
              "      <td>3.5</td>\n",
              "    </tr>\n",
              "    <tr>\n",
              "      <th>27</th>\n",
              "      <td>Gene</td>\n",
              "      <td>Just My</td>\n",
              "      <td>1.5</td>\n",
              "    </tr>\n",
              "    <tr>\n",
              "      <th>28</th>\n",
              "      <td>Gene</td>\n",
              "      <td>Superman</td>\n",
              "      <td>5.0</td>\n",
              "    </tr>\n",
              "    <tr>\n",
              "      <th>29</th>\n",
              "      <td>Gene</td>\n",
              "      <td>You Me</td>\n",
              "      <td>3.5</td>\n",
              "    </tr>\n",
              "    <tr>\n",
              "      <th>30</th>\n",
              "      <td>Gene</td>\n",
              "      <td>The Night</td>\n",
              "      <td>3.0</td>\n",
              "    </tr>\n",
              "  </tbody>\n",
              "</table>\n",
              "</div>\n",
              "      <button class=\"colab-df-convert\" onclick=\"convertToInteractive('df-961db833-dba8-46a9-be8e-59e693a7a97d')\"\n",
              "              title=\"Convert this dataframe to an interactive table.\"\n",
              "              style=\"display:none;\">\n",
              "        \n",
              "  <svg xmlns=\"http://www.w3.org/2000/svg\" height=\"24px\"viewBox=\"0 0 24 24\"\n",
              "       width=\"24px\">\n",
              "    <path d=\"M0 0h24v24H0V0z\" fill=\"none\"/>\n",
              "    <path d=\"M18.56 5.44l.94 2.06.94-2.06 2.06-.94-2.06-.94-.94-2.06-.94 2.06-2.06.94zm-11 1L8.5 8.5l.94-2.06 2.06-.94-2.06-.94L8.5 2.5l-.94 2.06-2.06.94zm10 10l.94 2.06.94-2.06 2.06-.94-2.06-.94-.94-2.06-.94 2.06-2.06.94z\"/><path d=\"M17.41 7.96l-1.37-1.37c-.4-.4-.92-.59-1.43-.59-.52 0-1.04.2-1.43.59L10.3 9.45l-7.72 7.72c-.78.78-.78 2.05 0 2.83L4 21.41c.39.39.9.59 1.41.59.51 0 1.02-.2 1.41-.59l7.78-7.78 2.81-2.81c.8-.78.8-2.07 0-2.86zM5.41 20L4 18.59l7.72-7.72 1.47 1.35L5.41 20z\"/>\n",
              "  </svg>\n",
              "      </button>\n",
              "      \n",
              "  <style>\n",
              "    .colab-df-container {\n",
              "      display:flex;\n",
              "      flex-wrap:wrap;\n",
              "      gap: 12px;\n",
              "    }\n",
              "\n",
              "    .colab-df-convert {\n",
              "      background-color: #E8F0FE;\n",
              "      border: none;\n",
              "      border-radius: 50%;\n",
              "      cursor: pointer;\n",
              "      display: none;\n",
              "      fill: #1967D2;\n",
              "      height: 32px;\n",
              "      padding: 0 0 0 0;\n",
              "      width: 32px;\n",
              "    }\n",
              "\n",
              "    .colab-df-convert:hover {\n",
              "      background-color: #E2EBFA;\n",
              "      box-shadow: 0px 1px 2px rgba(60, 64, 67, 0.3), 0px 1px 3px 1px rgba(60, 64, 67, 0.15);\n",
              "      fill: #174EA6;\n",
              "    }\n",
              "\n",
              "    [theme=dark] .colab-df-convert {\n",
              "      background-color: #3B4455;\n",
              "      fill: #D2E3FC;\n",
              "    }\n",
              "\n",
              "    [theme=dark] .colab-df-convert:hover {\n",
              "      background-color: #434B5C;\n",
              "      box-shadow: 0px 1px 3px 1px rgba(0, 0, 0, 0.15);\n",
              "      filter: drop-shadow(0px 1px 2px rgba(0, 0, 0, 0.3));\n",
              "      fill: #FFFFFF;\n",
              "    }\n",
              "  </style>\n",
              "\n",
              "      <script>\n",
              "        const buttonEl =\n",
              "          document.querySelector('#df-961db833-dba8-46a9-be8e-59e693a7a97d button.colab-df-convert');\n",
              "        buttonEl.style.display =\n",
              "          google.colab.kernel.accessAllowed ? 'block' : 'none';\n",
              "\n",
              "        async function convertToInteractive(key) {\n",
              "          const element = document.querySelector('#df-961db833-dba8-46a9-be8e-59e693a7a97d');\n",
              "          const dataTable =\n",
              "            await google.colab.kernel.invokeFunction('convertToInteractive',\n",
              "                                                     [key], {});\n",
              "          if (!dataTable) return;\n",
              "\n",
              "          const docLinkHtml = 'Like what you see? Visit the ' +\n",
              "            '<a target=\"_blank\" href=https://colab.research.google.com/notebooks/data_table.ipynb>data table notebook</a>'\n",
              "            + ' to learn more about interactive tables.';\n",
              "          element.innerHTML = '';\n",
              "          dataTable['output_type'] = 'display_data';\n",
              "          await google.colab.output.renderOutput(dataTable, element);\n",
              "          const docLink = document.createElement('div');\n",
              "          docLink.innerHTML = docLinkHtml;\n",
              "          element.appendChild(docLink);\n",
              "        }\n",
              "      </script>\n",
              "    </div>\n",
              "  </div>\n",
              "  "
            ],
            "text/plain": [
              "     userId    movieId  rating\n",
              "0      Jack       Lady     3.0\n",
              "1      Jack     Snakes     4.0\n",
              "2      Jack     You Me     3.5\n",
              "3      Jack   Superman     5.0\n",
              "4      Jack  The Night     3.0\n",
              "5      Mick       Lady     3.0\n",
              "6      Mick     Snakes     4.0\n",
              "7      Mick    Just My     2.0\n",
              "8      Mick   Superman     3.0\n",
              "9      Mick     You Me     2.0\n",
              "10     Mick  The Night     3.0\n",
              "11  Claudia     Snakes     3.5\n",
              "12  Claudia    Just My     3.0\n",
              "13  Claudia     You Me     2.5\n",
              "14  Claudia   Superman     4.0\n",
              "15  Claudia  The Night     4.5\n",
              "16     Lisa       Lady     2.5\n",
              "17     Lisa     Snakes     3.5\n",
              "18     Lisa    Just My     3.0\n",
              "19     Lisa   Superman     3.5\n",
              "20     Lisa  The Night     3.0\n",
              "21     Lisa     You Me     2.5\n",
              "22     Toby     Snakes     4.5\n",
              "23     Toby   Superman     4.0\n",
              "24     Toby     You Me     1.0\n",
              "25     Gene       Lady     3.0\n",
              "26     Gene     Snakes     3.5\n",
              "27     Gene    Just My     1.5\n",
              "28     Gene   Superman     5.0\n",
              "29     Gene     You Me     3.5\n",
              "30     Gene  The Night     3.0"
            ]
          },
          "metadata": {},
          "execution_count": 224
        }
      ]
    },
    {
      "cell_type": "code",
      "source": [
        "import numpy as np\n",
        "movie_li = list(set(rating_df.title.tolist()))\n",
        "# id = [i+1 for i in range(len(movie_li))]"
      ],
      "metadata": {
        "id": "ECfsSfxB-swg"
      },
      "execution_count": null,
      "outputs": []
    },
    {
      "cell_type": "code",
      "source": [
        "movie_df =pd.DataFrame({'movieId':movie_li})"
      ],
      "metadata": {
        "id": "oiJktezD8Wuj"
      },
      "execution_count": null,
      "outputs": []
    },
    {
      "cell_type": "code",
      "source": [
        "movie_df"
      ],
      "metadata": {
        "colab": {
          "base_uri": "https://localhost:8080/",
          "height": 238
        },
        "id": "ezCfZNfU_s0A",
        "outputId": "2e3e39e6-c246-4c81-d050-67d550e5e04f"
      },
      "execution_count": null,
      "outputs": [
        {
          "output_type": "execute_result",
          "data": {
            "text/html": [
              "\n",
              "  <div id=\"df-5de3452d-c861-4534-92b1-04db7a3bbbfb\">\n",
              "    <div class=\"colab-df-container\">\n",
              "      <div>\n",
              "<style scoped>\n",
              "    .dataframe tbody tr th:only-of-type {\n",
              "        vertical-align: middle;\n",
              "    }\n",
              "\n",
              "    .dataframe tbody tr th {\n",
              "        vertical-align: top;\n",
              "    }\n",
              "\n",
              "    .dataframe thead th {\n",
              "        text-align: right;\n",
              "    }\n",
              "</style>\n",
              "<table border=\"1\" class=\"dataframe\">\n",
              "  <thead>\n",
              "    <tr style=\"text-align: right;\">\n",
              "      <th></th>\n",
              "      <th>movieId</th>\n",
              "    </tr>\n",
              "  </thead>\n",
              "  <tbody>\n",
              "    <tr>\n",
              "      <th>0</th>\n",
              "      <td>The Night</td>\n",
              "    </tr>\n",
              "    <tr>\n",
              "      <th>1</th>\n",
              "      <td>Lady</td>\n",
              "    </tr>\n",
              "    <tr>\n",
              "      <th>2</th>\n",
              "      <td>Just My</td>\n",
              "    </tr>\n",
              "    <tr>\n",
              "      <th>3</th>\n",
              "      <td>Snakes</td>\n",
              "    </tr>\n",
              "    <tr>\n",
              "      <th>4</th>\n",
              "      <td>Superman</td>\n",
              "    </tr>\n",
              "    <tr>\n",
              "      <th>5</th>\n",
              "      <td>You Me</td>\n",
              "    </tr>\n",
              "  </tbody>\n",
              "</table>\n",
              "</div>\n",
              "      <button class=\"colab-df-convert\" onclick=\"convertToInteractive('df-5de3452d-c861-4534-92b1-04db7a3bbbfb')\"\n",
              "              title=\"Convert this dataframe to an interactive table.\"\n",
              "              style=\"display:none;\">\n",
              "        \n",
              "  <svg xmlns=\"http://www.w3.org/2000/svg\" height=\"24px\"viewBox=\"0 0 24 24\"\n",
              "       width=\"24px\">\n",
              "    <path d=\"M0 0h24v24H0V0z\" fill=\"none\"/>\n",
              "    <path d=\"M18.56 5.44l.94 2.06.94-2.06 2.06-.94-2.06-.94-.94-2.06-.94 2.06-2.06.94zm-11 1L8.5 8.5l.94-2.06 2.06-.94-2.06-.94L8.5 2.5l-.94 2.06-2.06.94zm10 10l.94 2.06.94-2.06 2.06-.94-2.06-.94-.94-2.06-.94 2.06-2.06.94z\"/><path d=\"M17.41 7.96l-1.37-1.37c-.4-.4-.92-.59-1.43-.59-.52 0-1.04.2-1.43.59L10.3 9.45l-7.72 7.72c-.78.78-.78 2.05 0 2.83L4 21.41c.39.39.9.59 1.41.59.51 0 1.02-.2 1.41-.59l7.78-7.78 2.81-2.81c.8-.78.8-2.07 0-2.86zM5.41 20L4 18.59l7.72-7.72 1.47 1.35L5.41 20z\"/>\n",
              "  </svg>\n",
              "      </button>\n",
              "      \n",
              "  <style>\n",
              "    .colab-df-container {\n",
              "      display:flex;\n",
              "      flex-wrap:wrap;\n",
              "      gap: 12px;\n",
              "    }\n",
              "\n",
              "    .colab-df-convert {\n",
              "      background-color: #E8F0FE;\n",
              "      border: none;\n",
              "      border-radius: 50%;\n",
              "      cursor: pointer;\n",
              "      display: none;\n",
              "      fill: #1967D2;\n",
              "      height: 32px;\n",
              "      padding: 0 0 0 0;\n",
              "      width: 32px;\n",
              "    }\n",
              "\n",
              "    .colab-df-convert:hover {\n",
              "      background-color: #E2EBFA;\n",
              "      box-shadow: 0px 1px 2px rgba(60, 64, 67, 0.3), 0px 1px 3px 1px rgba(60, 64, 67, 0.15);\n",
              "      fill: #174EA6;\n",
              "    }\n",
              "\n",
              "    [theme=dark] .colab-df-convert {\n",
              "      background-color: #3B4455;\n",
              "      fill: #D2E3FC;\n",
              "    }\n",
              "\n",
              "    [theme=dark] .colab-df-convert:hover {\n",
              "      background-color: #434B5C;\n",
              "      box-shadow: 0px 1px 3px 1px rgba(0, 0, 0, 0.15);\n",
              "      filter: drop-shadow(0px 1px 2px rgba(0, 0, 0, 0.3));\n",
              "      fill: #FFFFFF;\n",
              "    }\n",
              "  </style>\n",
              "\n",
              "      <script>\n",
              "        const buttonEl =\n",
              "          document.querySelector('#df-5de3452d-c861-4534-92b1-04db7a3bbbfb button.colab-df-convert');\n",
              "        buttonEl.style.display =\n",
              "          google.colab.kernel.accessAllowed ? 'block' : 'none';\n",
              "\n",
              "        async function convertToInteractive(key) {\n",
              "          const element = document.querySelector('#df-5de3452d-c861-4534-92b1-04db7a3bbbfb');\n",
              "          const dataTable =\n",
              "            await google.colab.kernel.invokeFunction('convertToInteractive',\n",
              "                                                     [key], {});\n",
              "          if (!dataTable) return;\n",
              "\n",
              "          const docLinkHtml = 'Like what you see? Visit the ' +\n",
              "            '<a target=\"_blank\" href=https://colab.research.google.com/notebooks/data_table.ipynb>data table notebook</a>'\n",
              "            + ' to learn more about interactive tables.';\n",
              "          element.innerHTML = '';\n",
              "          dataTable['output_type'] = 'display_data';\n",
              "          await google.colab.output.renderOutput(dataTable, element);\n",
              "          const docLink = document.createElement('div');\n",
              "          docLink.innerHTML = docLinkHtml;\n",
              "          element.appendChild(docLink);\n",
              "        }\n",
              "      </script>\n",
              "    </div>\n",
              "  </div>\n",
              "  "
            ],
            "text/plain": [
              "     movieId\n",
              "0  The Night\n",
              "1       Lady\n",
              "2    Just My\n",
              "3     Snakes\n",
              "4   Superman\n",
              "5     You Me"
            ]
          },
          "metadata": {},
          "execution_count": 226
        }
      ]
    },
    {
      "cell_type": "code",
      "source": [
        "reader = Reader(rating_scale =(0.5, 5.0))"
      ],
      "metadata": {
        "id": "SBR1zno-9x2_"
      },
      "execution_count": null,
      "outputs": []
    },
    {
      "cell_type": "code",
      "source": [
        "data = Dataset.load_from_df(rating_df, reader)"
      ],
      "metadata": {
        "id": "RO0OmB_G-773"
      },
      "execution_count": null,
      "outputs": []
    },
    {
      "cell_type": "code",
      "source": [
        "trainset1, testset1 = train_test_split(data,test_size = 0.25, random_state=0)"
      ],
      "metadata": {
        "id": "_ZJFWlN5_oxe"
      },
      "execution_count": null,
      "outputs": []
    },
    {
      "cell_type": "code",
      "source": [
        "algo = SVD()\n",
        "algo.fit(trainset1)\n",
        "pred1 = algo.test(testset1)\n",
        "accuracy.rmse(pred1)"
      ],
      "metadata": {
        "colab": {
          "base_uri": "https://localhost:8080/"
        },
        "id": "TIwM7bi5AZi9",
        "outputId": "b75b022a-aec0-4b67-911e-9887b687459c"
      },
      "execution_count": null,
      "outputs": [
        {
          "output_type": "stream",
          "name": "stdout",
          "text": [
            "RMSE: 0.8748\n"
          ]
        },
        {
          "output_type": "execute_result",
          "data": {
            "text/plain": [
              "0.8747646762022275"
            ]
          },
          "metadata": {},
          "execution_count": 230
        }
      ]
    },
    {
      "cell_type": "code",
      "source": [
        "cross_validate(algo, data, measures=['RMSE','MAE'], cv=5, verbose =True)"
      ],
      "metadata": {
        "colab": {
          "base_uri": "https://localhost:8080/"
        },
        "id": "Ue7UgbHPAfzp",
        "outputId": "f0284807-40a8-43aa-d3e9-259afbbcc9e3"
      },
      "execution_count": null,
      "outputs": [
        {
          "output_type": "stream",
          "name": "stdout",
          "text": [
            "Evaluating RMSE, MAE of algorithm SVD on 5 split(s).\n",
            "\n",
            "                  Fold 1  Fold 2  Fold 3  Fold 4  Fold 5  Mean    Std     \n",
            "RMSE (testset)    1.2397  0.7993  0.5399  0.6412  1.1643  0.8769  0.2790  \n",
            "MAE (testset)     0.9969  0.5173  0.4440  0.5832  0.9294  0.6942  0.2250  \n",
            "Fit time          0.00    0.00    0.00    0.00    0.00    0.00    0.00    \n",
            "Test time         0.00    0.00    0.00    0.00    0.00    0.00    0.00    \n"
          ]
        },
        {
          "output_type": "execute_result",
          "data": {
            "text/plain": [
              "{'fit_time': (0.0017879009246826172,\n",
              "  0.002578258514404297,\n",
              "  0.002259969711303711,\n",
              "  0.0015711784362792969,\n",
              "  0.0014445781707763672),\n",
              " 'test_mae': array([0.99687628, 0.51731173, 0.44401205, 0.58323452, 0.92944148]),\n",
              " 'test_rmse': array([1.23973167, 0.79931695, 0.53994465, 0.64122768, 1.16427221]),\n",
              " 'test_time': (0.0015778541564941406,\n",
              "  0.0011508464813232422,\n",
              "  0.00010013580322265625,\n",
              "  7.081031799316406e-05,\n",
              "  5.984306335449219e-05)}"
            ]
          },
          "metadata": {},
          "execution_count": 231
        }
      ]
    },
    {
      "cell_type": "code",
      "source": [
        "unseen_movie_toby = get_unseen_surprise(movie_df, rating_df,'Toby')"
      ],
      "metadata": {
        "colab": {
          "base_uri": "https://localhost:8080/"
        },
        "id": "XG8GmqpZAmww",
        "outputId": "11056908-5165-4d9d-c104-03029c8bd4f7"
      },
      "execution_count": null,
      "outputs": [
        {
          "output_type": "stream",
          "name": "stdout",
          "text": [
            "전체영화리스트 개수 >>  6\n",
            "내가 본 영화 리스트 개수 >> 3\n",
            "내가 안본 영화 리스트 개수>> 3\n"
          ]
        }
      ]
    },
    {
      "cell_type": "code",
      "source": [
        "def recommend_movie_surprise(algo, userId, top_n=5):\n",
        "  # 안본 영화 리스트를 하나씩 꺼낸 다음 평점 예측\n",
        "  unseen_movies=get_unseen_surprise(movie_df, rating_df,userId)\n",
        "  predictions = [algo.predict(str(userId), str(movieId)) for movieId in unseen_movies]\n",
        "\n",
        "  def sortkey_est(one):\n",
        "    return one.est\n",
        "\n",
        "  predictions.sort(key=sortkey_est, reverse=True)\n",
        "  top_predictions = predictions[:top_n]\n",
        "  \n",
        "  top_movies_ids = [pred.iid for pred in top_predictions]\n",
        "  top_movies_ratings = [pred.est for pred in top_predictions]\n",
        "  top_movies_preds = [(id,rating) for id, rating in zip(top_movies_ids, top_movies_ratings)]\n",
        "\n",
        "  return top_movies_preds"
      ],
      "metadata": {
        "id": "QbEyr0hEF3q2"
      },
      "execution_count": null,
      "outputs": []
    },
    {
      "cell_type": "code",
      "source": [
        "recommend_movie_surprise(algo, 'Jack')"
      ],
      "metadata": {
        "colab": {
          "base_uri": "https://localhost:8080/"
        },
        "id": "ZS9HX09KBQeI",
        "outputId": "fe25fbe3-65f7-4dc0-9955-d23be12cd497"
      },
      "execution_count": null,
      "outputs": [
        {
          "output_type": "stream",
          "name": "stdout",
          "text": [
            "전체영화리스트 개수 >>  6\n",
            "내가 본 영화 리스트 개수 >> 5\n",
            "내가 안본 영화 리스트 개수>> 1\n"
          ]
        },
        {
          "output_type": "execute_result",
          "data": {
            "text/plain": [
              "[('Just My', 3.1045680024189086)]"
            ]
          },
          "metadata": {},
          "execution_count": 255
        }
      ]
    },
    {
      "cell_type": "code",
      "source": [
        ""
      ],
      "metadata": {
        "id": "qMdsojcxC08N"
      },
      "execution_count": null,
      "outputs": []
    }
  ]
}