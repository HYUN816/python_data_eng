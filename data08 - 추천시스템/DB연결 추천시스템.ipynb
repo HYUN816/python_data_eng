{
 "cells": [
  {
   "cell_type": "code",
   "execution_count": 1,
   "id": "eb65401c",
   "metadata": {},
   "outputs": [],
   "source": [
    "# !pip install pymysql"
   ]
  },
  {
   "cell_type": "code",
   "execution_count": 2,
   "id": "708c5c2c",
   "metadata": {},
   "outputs": [],
   "source": [
    "import pymysql"
   ]
  },
  {
   "cell_type": "code",
   "execution_count": 3,
   "id": "d1b938fd",
   "metadata": {},
   "outputs": [],
   "source": [
    "con = pymysql.connect(\n",
    "    host=\"localhost\",\n",
    "    port = 3306,\n",
    "    user = 'root',\n",
    "    password = '*tld5rk1vhfm',\n",
    "    db='mldb2',\n",
    "    charset='utf8'\n",
    ")"
   ]
  },
  {
   "cell_type": "code",
   "execution_count": 4,
   "id": "716175c9",
   "metadata": {},
   "outputs": [
    {
     "name": "stdout",
     "output_type": "stream",
     "text": [
      "1. 연결성공\n"
     ]
    }
   ],
   "source": [
    "con\n",
    "print('1. 연결성공')"
   ]
  },
  {
   "cell_type": "code",
   "execution_count": 5,
   "id": "e6488b7c",
   "metadata": {},
   "outputs": [
    {
     "name": "stdout",
     "output_type": "stream",
     "text": [
      "2. 커서 객체 획득\n"
     ]
    }
   ],
   "source": [
    "cur = con.cursor()\n",
    "cur\n",
    "print('2. 커서 객체 획득')"
   ]
  },
  {
   "cell_type": "code",
   "execution_count": 6,
   "id": "13a5116e",
   "metadata": {},
   "outputs": [],
   "source": [
    "# sql = 'select * from member'\n",
    "sql ='''\n",
    "    SELECT m.name, m.tel, b.content\n",
    "    from board b\n",
    "    inner join member m on m.id=b.writer\n",
    "    WHERE content like \"%java%\"\n",
    "'''"
   ]
  },
  {
   "cell_type": "code",
   "execution_count": 7,
   "id": "17ca5662",
   "metadata": {},
   "outputs": [
    {
     "name": "stdout",
     "output_type": "stream",
     "text": [
      "3.sql 전송 성공 2\n"
     ]
    }
   ],
   "source": [
    "result_count = cur.execute(sql)\n",
    "result_count\n",
    "print('3.sql 전송 성공', result_count)"
   ]
  },
  {
   "cell_type": "code",
   "execution_count": 8,
   "id": "d920ff18",
   "metadata": {},
   "outputs": [
    {
     "name": "stdout",
     "output_type": "stream",
     "text": [
      "4.검색결과-----------\n",
      "(('apple', '555555555', 'fun java'), ('apple', '555555555', 'good java'))\n"
     ]
    }
   ],
   "source": [
    "rows=cur.fetchall()\n",
    "print('4.검색결과-----------')\n",
    "print(rows)"
   ]
  },
  {
   "cell_type": "code",
   "execution_count": 9,
   "id": "6f9155d7",
   "metadata": {},
   "outputs": [],
   "source": [
    "con.close()"
   ]
  },
  {
   "cell_type": "code",
   "execution_count": 10,
   "id": "f46241cf",
   "metadata": {},
   "outputs": [
    {
     "name": "stdout",
     "output_type": "stream",
     "text": [
      "0 apple\n",
      "1 apple\n"
     ]
    }
   ],
   "source": [
    "for index, row in enumerate(rows) :\n",
    "    print(index, row[0])"
   ]
  },
  {
   "cell_type": "markdown",
   "id": "981ea954",
   "metadata": {},
   "source": [
    "### 함수로 만들기 "
   ]
  },
  {
   "cell_type": "code",
   "execution_count": 11,
   "id": "1cfc5d32",
   "metadata": {},
   "outputs": [],
   "source": [
    "def connect() :\n",
    "    con = pymysql.connect(\n",
    "    host=\"localhost\",\n",
    "    port = 3306,\n",
    "    user = 'root',\n",
    "    password = '*tld5rk1vhfm',\n",
    "    db='mldb2',\n",
    "    charset='utf8'\n",
    ")\n",
    "    print('1. 연결성공')\n",
    "    \n",
    "    cur = con.cursor()\n",
    "    print('2. 커서 객체 획득')\n",
    "    \n",
    "    return cur, con\n",
    "    "
   ]
  },
  {
   "cell_type": "code",
   "execution_count": 12,
   "id": "9132db2f",
   "metadata": {},
   "outputs": [
    {
     "name": "stdout",
     "output_type": "stream",
     "text": [
      "1. 연결성공\n",
      "2. 커서 객체 획득\n"
     ]
    }
   ],
   "source": [
    "cur2, con = connect()"
   ]
  },
  {
   "cell_type": "code",
   "execution_count": 13,
   "id": "e6d5c632",
   "metadata": {},
   "outputs": [
    {
     "data": {
      "text/plain": [
       "<pymysql.cursors.Cursor at 0x277250a07c0>"
      ]
     },
     "execution_count": 13,
     "metadata": {},
     "output_type": "execute_result"
    }
   ],
   "source": [
    "cur2"
   ]
  },
  {
   "cell_type": "code",
   "execution_count": 14,
   "id": "e1a3f2c9",
   "metadata": {},
   "outputs": [
    {
     "data": {
      "text/plain": [
       "<pymysql.connections.Connection at 0x27725213a30>"
      ]
     },
     "execution_count": 14,
     "metadata": {},
     "output_type": "execute_result"
    }
   ],
   "source": [
    "con"
   ]
  },
  {
   "cell_type": "code",
   "execution_count": 15,
   "id": "d4cd16e7",
   "metadata": {},
   "outputs": [],
   "source": [
    "def sql_execute(cur2, data) :\n",
    "    sql = \"\"\"\n",
    "    select o2.orderid, m.name, o2.productid, o2.totalprice\n",
    "    from orderlist o2\n",
    "    inner join `member` m\n",
    "    on o2.memberid = m.id and m.id = %s\n",
    "    order by productid desc\n",
    "    \"\"\"\n",
    "    \n",
    "    result = cur2.execute(sql,data)\n",
    "    return result "
   ]
  },
  {
   "cell_type": "code",
   "execution_count": 16,
   "id": "57499443",
   "metadata": {},
   "outputs": [
    {
     "data": {
      "text/plain": [
       "4"
      ]
     },
     "execution_count": 16,
     "metadata": {},
     "output_type": "execute_result"
    }
   ],
   "source": [
    "sql_execute(cur2, 'park')"
   ]
  },
  {
   "cell_type": "code",
   "execution_count": 17,
   "id": "252a2259",
   "metadata": {},
   "outputs": [],
   "source": [
    "def out_data(cur2) :\n",
    "    rows = cur2.fetchall()\n",
    "    return rows"
   ]
  },
  {
   "cell_type": "code",
   "execution_count": 18,
   "id": "a1519c90",
   "metadata": {},
   "outputs": [
    {
     "data": {
      "text/plain": [
       "((2, 'park', '101', 6000),\n",
       " (1, 'park', '100', 5000),\n",
       " (3, 'park', '100', 10000),\n",
       " (4, 'park', '100', 3000))"
      ]
     },
     "execution_count": 18,
     "metadata": {},
     "output_type": "execute_result"
    }
   ],
   "source": [
    "result_rows = out_data(cur2)\n",
    "result_rows"
   ]
  },
  {
   "cell_type": "code",
   "execution_count": 90,
   "id": "4b77db80",
   "metadata": {},
   "outputs": [],
   "source": [
    "def db_close(con) :\n",
    "    con.close()"
   ]
  },
  {
   "cell_type": "code",
   "execution_count": 91,
   "id": "29711e31",
   "metadata": {},
   "outputs": [],
   "source": [
    "db_close(con)"
   ]
  },
  {
   "cell_type": "code",
   "execution_count": 19,
   "id": "defab7e6",
   "metadata": {},
   "outputs": [
    {
     "data": {
      "text/plain": [
       "[6000, 5000, 10000, 3000]"
      ]
     },
     "execution_count": 19,
     "metadata": {},
     "output_type": "execute_result"
    }
   ],
   "source": [
    "# 제일 높은 금액 ?\n",
    "\n",
    "[x[3] for x in result_rows]"
   ]
  },
  {
   "cell_type": "code",
   "execution_count": 20,
   "id": "dc5c2b3c",
   "metadata": {},
   "outputs": [
    {
     "data": {
      "text/plain": [
       "10000"
      ]
     },
     "execution_count": 20,
     "metadata": {},
     "output_type": "execute_result"
    }
   ],
   "source": [
    "max([x[3] for x in result_rows])"
   ]
  },
  {
   "cell_type": "code",
   "execution_count": 21,
   "id": "7633b8bb",
   "metadata": {},
   "outputs": [],
   "source": [
    "# 제일 많이 산 물건의 id? \n",
    "\n",
    "import pandas as pd"
   ]
  },
  {
   "cell_type": "code",
   "execution_count": 22,
   "id": "a85bcbb4",
   "metadata": {},
   "outputs": [],
   "source": [
    "result_df = pd.DataFrame(data=result_rows,\n",
    "                        columns=['주문id','name','제품id','주문총가격'])"
   ]
  },
  {
   "cell_type": "code",
   "execution_count": 23,
   "id": "45924ea1",
   "metadata": {},
   "outputs": [
    {
     "data": {
      "text/html": [
       "<div>\n",
       "<style scoped>\n",
       "    .dataframe tbody tr th:only-of-type {\n",
       "        vertical-align: middle;\n",
       "    }\n",
       "\n",
       "    .dataframe tbody tr th {\n",
       "        vertical-align: top;\n",
       "    }\n",
       "\n",
       "    .dataframe thead th {\n",
       "        text-align: right;\n",
       "    }\n",
       "</style>\n",
       "<table border=\"1\" class=\"dataframe\">\n",
       "  <thead>\n",
       "    <tr style=\"text-align: right;\">\n",
       "      <th></th>\n",
       "      <th>주문id</th>\n",
       "      <th>name</th>\n",
       "      <th>제품id</th>\n",
       "      <th>주문총가격</th>\n",
       "    </tr>\n",
       "  </thead>\n",
       "  <tbody>\n",
       "    <tr>\n",
       "      <th>0</th>\n",
       "      <td>2</td>\n",
       "      <td>park</td>\n",
       "      <td>101</td>\n",
       "      <td>6000</td>\n",
       "    </tr>\n",
       "    <tr>\n",
       "      <th>1</th>\n",
       "      <td>1</td>\n",
       "      <td>park</td>\n",
       "      <td>100</td>\n",
       "      <td>5000</td>\n",
       "    </tr>\n",
       "    <tr>\n",
       "      <th>2</th>\n",
       "      <td>3</td>\n",
       "      <td>park</td>\n",
       "      <td>100</td>\n",
       "      <td>10000</td>\n",
       "    </tr>\n",
       "    <tr>\n",
       "      <th>3</th>\n",
       "      <td>4</td>\n",
       "      <td>park</td>\n",
       "      <td>100</td>\n",
       "      <td>3000</td>\n",
       "    </tr>\n",
       "  </tbody>\n",
       "</table>\n",
       "</div>"
      ],
      "text/plain": [
       "   주문id  name 제품id  주문총가격\n",
       "0     2  park  101   6000\n",
       "1     1  park  100   5000\n",
       "2     3  park  100  10000\n",
       "3     4  park  100   3000"
      ]
     },
     "execution_count": 23,
     "metadata": {},
     "output_type": "execute_result"
    }
   ],
   "source": [
    "result_df"
   ]
  },
  {
   "cell_type": "code",
   "execution_count": 24,
   "id": "19e96d2f",
   "metadata": {},
   "outputs": [
    {
     "data": {
      "text/plain": [
       "['101', '100', '100', '100']"
      ]
     },
     "execution_count": 24,
     "metadata": {},
     "output_type": "execute_result"
    }
   ],
   "source": [
    "[x for x in result_df['제품id']]"
   ]
  },
  {
   "cell_type": "code",
   "execution_count": 25,
   "id": "d764b3fe",
   "metadata": {},
   "outputs": [],
   "source": [
    "from collections import Counter"
   ]
  },
  {
   "cell_type": "code",
   "execution_count": 26,
   "id": "ecdce061",
   "metadata": {},
   "outputs": [],
   "source": [
    "counter_id = Counter(result_df['제품id'])"
   ]
  },
  {
   "cell_type": "code",
   "execution_count": 27,
   "id": "fffb873b",
   "metadata": {},
   "outputs": [
    {
     "data": {
      "text/plain": [
       "Counter({'101': 1, '100': 3})"
      ]
     },
     "execution_count": 27,
     "metadata": {},
     "output_type": "execute_result"
    }
   ],
   "source": [
    "counter_id"
   ]
  },
  {
   "cell_type": "code",
   "execution_count": 28,
   "id": "92ec3413",
   "metadata": {},
   "outputs": [
    {
     "name": "stdout",
     "output_type": "stream",
     "text": [
      "[('100', 3)]\n",
      "100\n"
     ]
    },
    {
     "data": {
      "text/plain": [
       "'100'"
      ]
     },
     "execution_count": 28,
     "metadata": {},
     "output_type": "execute_result"
    }
   ],
   "source": [
    "max_id = counter_id.most_common(n=1)\n",
    "print(max_id)\n",
    "print(max_id[0][0])\n",
    "max_id_result = max_id[0][0]\n",
    "max_id_result"
   ]
  },
  {
   "cell_type": "code",
   "execution_count": 29,
   "id": "337f9118",
   "metadata": {},
   "outputs": [],
   "source": [
    "## 추천시스템 만들기 \n",
    "\n",
    "def sql_execute2(cur2,data) :\n",
    "    sql = \"\"\"\n",
    "    select * from product\n",
    "    where id = %s\n",
    "    \"\"\"\n",
    "    result2 = cur2.execute(sql, data)\n",
    "    return result2"
   ]
  },
  {
   "cell_type": "code",
   "execution_count": 30,
   "id": "1f24c123",
   "metadata": {},
   "outputs": [
    {
     "name": "stdout",
     "output_type": "stream",
     "text": [
      "1. 연결성공\n",
      "2. 커서 객체 획득\n"
     ]
    },
    {
     "data": {
      "text/plain": [
       "<pymysql.cursors.Cursor at 0x27725213d30>"
      ]
     },
     "execution_count": 30,
     "metadata": {},
     "output_type": "execute_result"
    }
   ],
   "source": [
    "cur3, con = connect()\n",
    "cur3"
   ]
  },
  {
   "cell_type": "code",
   "execution_count": 31,
   "id": "9fe68608",
   "metadata": {},
   "outputs": [
    {
     "data": {
      "text/plain": [
       "1"
      ]
     },
     "execution_count": 31,
     "metadata": {},
     "output_type": "execute_result"
    }
   ],
   "source": [
    "sql_result2 = sql_execute2(cur3,max_id_result)\n",
    "sql_result2"
   ]
  },
  {
   "cell_type": "code",
   "execution_count": 32,
   "id": "a08ecea1",
   "metadata": {},
   "outputs": [
    {
     "data": {
      "text/plain": [
       "('100', 'java', 'fun java', '1000', 1)"
      ]
     },
     "execution_count": 32,
     "metadata": {},
     "output_type": "execute_result"
    }
   ],
   "source": [
    "result2_rows = out_data(cur3)\n",
    "result2_rows[0]"
   ]
  },
  {
   "cell_type": "code",
   "execution_count": 33,
   "id": "59d53899",
   "metadata": {},
   "outputs": [
    {
     "name": "stdout",
     "output_type": "stream",
     "text": [
      "당신에게 추천하고 싶은 물건은 다음과 같습니다.\n",
      "----------------------------------------------\n",
      "물건의 이름은  java\n",
      "물건의 내용은  fun java\n",
      "물건의 가격은  1000\n"
     ]
    }
   ],
   "source": [
    "print('당신에게 추천하고 싶은 물건은 다음과 같습니다.')\n",
    "print('----------------------------------------------')\n",
    "print('물건의 이름은 ',result2_rows[0][1])\n",
    "print('물건의 내용은 ',result2_rows[0][2])\n",
    "print('물건의 가격은 ',result2_rows[0][3])"
   ]
  },
  {
   "cell_type": "code",
   "execution_count": 34,
   "id": "91f54314",
   "metadata": {},
   "outputs": [],
   "source": [
    "## 물건 구매하기 \n",
    "def sql_execute3(con, cur2, data) :\n",
    "    sql = \"\"\"\n",
    "    insert into orderlist values (null, %s,%s,%s)\n",
    "    \"\"\"\n",
    "    result = cur2.execute(sql,data)\n",
    "    con.commit()\n",
    "    return result"
   ]
  },
  {
   "cell_type": "code",
   "execution_count": 35,
   "id": "4df298ba",
   "metadata": {},
   "outputs": [
    {
     "name": "stdout",
     "output_type": "stream",
     "text": [
      "구매하시겠습니까?(yes/no)yes\n",
      "--------구매를 진행합니다.---------\n",
      "당신의 id는park\n",
      "구매완료\n"
     ]
    }
   ],
   "source": [
    "order_question = input('구매하시겠습니까?(yes/no)')\n",
    "if order_question == 'yes' :\n",
    "    print('--------구매를 진행합니다.---------')\n",
    "    your_id = input('당신의 id는')\n",
    "    data_list =[your_id, result2_rows[0][0], int(result2_rows[0][3])]\n",
    "    result3 = sql_execute3(con,cur2,data_list)\n",
    "    \n",
    "    if result3 == 1 :\n",
    "        print('구매완료')\n",
    "    else : \n",
    "        print('구매실패')"
   ]
  },
  {
   "cell_type": "code",
   "execution_count": 36,
   "id": "585b57f7",
   "metadata": {},
   "outputs": [],
   "source": [
    "con.close()"
   ]
  },
  {
   "cell_type": "markdown",
   "id": "dd1e49d4",
   "metadata": {},
   "source": [
    "### minimini project\n",
    "\n",
    "추천 알고리즘 : 사용자가 가장 최근 구매한 물품의 카테고리와 같은 제품을 추천한다."
   ]
  },
  {
   "cell_type": "code",
   "execution_count": 37,
   "id": "e3df1d4d",
   "metadata": {},
   "outputs": [],
   "source": [
    "def connect():\n",
    "    con = pymysql.connect(host='localhost' , \n",
    "                          port=3306 , user ='root', \n",
    "                          password = '*tld5rk1vhfm', db='mldb2',charset = 'utf8')\n",
    "    print('1.연결성공')\n",
    "    cur=con.cursor()\n",
    "    print('2. 커서객체 획득')\n",
    "    return cur, con"
   ]
  },
  {
   "cell_type": "code",
   "execution_count": 38,
   "id": "83a33a4d",
   "metadata": {},
   "outputs": [
    {
     "name": "stdout",
     "output_type": "stream",
     "text": [
      "1.연결성공\n",
      "2. 커서객체 획득\n"
     ]
    }
   ],
   "source": [
    "cur4, con = connect()"
   ]
  },
  {
   "cell_type": "code",
   "execution_count": 39,
   "id": "6a5e9166",
   "metadata": {},
   "outputs": [],
   "source": [
    "def sql_execute4(cur, data):\n",
    "    sql = \"\"\"\n",
    "    select o2.orderid, m.name, o2.productid, p.category\n",
    "    from orderlist o2\n",
    "    inner join `member` m \n",
    "    on o2.memberid = m.id and m.id = %s \n",
    "    inner join product p \n",
    "    on o2.productid = p.id \n",
    "    order by productid desc\n",
    "    \"\"\"\n",
    "    result = cur.execute(sql,data)\n",
    "    return result "
   ]
  },
  {
   "cell_type": "code",
   "execution_count": 40,
   "id": "a9748de7",
   "metadata": {},
   "outputs": [],
   "source": [
    "result4 = sql_execute4(cur4, 'park')"
   ]
  },
  {
   "cell_type": "code",
   "execution_count": 41,
   "id": "00ff8f60",
   "metadata": {},
   "outputs": [],
   "source": [
    "result_rows4 = out_data(cur4)"
   ]
  },
  {
   "cell_type": "code",
   "execution_count": 42,
   "id": "da7bf930",
   "metadata": {},
   "outputs": [
    {
     "data": {
      "text/plain": [
       "((2, 'park', '101', 2),\n",
       " (1, 'park', '100', 1),\n",
       " (3, 'park', '100', 1),\n",
       " (4, 'park', '100', 1))"
      ]
     },
     "execution_count": 42,
     "metadata": {},
     "output_type": "execute_result"
    }
   ],
   "source": [
    "result_rows4"
   ]
  },
  {
   "cell_type": "code",
   "execution_count": 43,
   "id": "edfda9d6",
   "metadata": {},
   "outputs": [
    {
     "data": {
      "text/html": [
       "<div>\n",
       "<style scoped>\n",
       "    .dataframe tbody tr th:only-of-type {\n",
       "        vertical-align: middle;\n",
       "    }\n",
       "\n",
       "    .dataframe tbody tr th {\n",
       "        vertical-align: top;\n",
       "    }\n",
       "\n",
       "    .dataframe thead th {\n",
       "        text-align: right;\n",
       "    }\n",
       "</style>\n",
       "<table border=\"1\" class=\"dataframe\">\n",
       "  <thead>\n",
       "    <tr style=\"text-align: right;\">\n",
       "      <th></th>\n",
       "      <th>orderid</th>\n",
       "      <th>이름</th>\n",
       "      <th>물건id</th>\n",
       "      <th>물건 카테고리</th>\n",
       "    </tr>\n",
       "  </thead>\n",
       "  <tbody>\n",
       "    <tr>\n",
       "      <th>0</th>\n",
       "      <td>2</td>\n",
       "      <td>park</td>\n",
       "      <td>101</td>\n",
       "      <td>2</td>\n",
       "    </tr>\n",
       "    <tr>\n",
       "      <th>1</th>\n",
       "      <td>1</td>\n",
       "      <td>park</td>\n",
       "      <td>100</td>\n",
       "      <td>1</td>\n",
       "    </tr>\n",
       "    <tr>\n",
       "      <th>2</th>\n",
       "      <td>3</td>\n",
       "      <td>park</td>\n",
       "      <td>100</td>\n",
       "      <td>1</td>\n",
       "    </tr>\n",
       "    <tr>\n",
       "      <th>3</th>\n",
       "      <td>4</td>\n",
       "      <td>park</td>\n",
       "      <td>100</td>\n",
       "      <td>1</td>\n",
       "    </tr>\n",
       "  </tbody>\n",
       "</table>\n",
       "</div>"
      ],
      "text/plain": [
       "   orderid    이름 물건id  물건 카테고리\n",
       "0        2  park  101        2\n",
       "1        1  park  100        1\n",
       "2        3  park  100        1\n",
       "3        4  park  100        1"
      ]
     },
     "execution_count": 43,
     "metadata": {},
     "output_type": "execute_result"
    }
   ],
   "source": [
    "df = pd.DataFrame(result_rows4 , columns=['orderid','이름','물건id','물건 카테고리'])\n",
    "df"
   ]
  },
  {
   "cell_type": "code",
   "execution_count": 44,
   "id": "58e74e6a",
   "metadata": {},
   "outputs": [
    {
     "data": {
      "text/plain": [
       "1"
      ]
     },
     "execution_count": 44,
     "metadata": {},
     "output_type": "execute_result"
    }
   ],
   "source": [
    "latest_id = df[df.orderid == max(df.orderid)]['물건 카테고리'].values\n",
    "latest_id[0]"
   ]
  },
  {
   "cell_type": "code",
   "execution_count": 45,
   "id": "b0e7ea34",
   "metadata": {},
   "outputs": [],
   "source": [
    "def sql_excute5(cur,data):\n",
    "    sql=\"\"\"\n",
    "    select * from product p\n",
    "    where p.category = %s\n",
    "    \"\"\"\n",
    "    result= cur.execute(sql,data)\n",
    "    return result"
   ]
  },
  {
   "cell_type": "code",
   "execution_count": 46,
   "id": "69bbb5c9",
   "metadata": {},
   "outputs": [
    {
     "data": {
      "text/plain": [
       "3"
      ]
     },
     "execution_count": 46,
     "metadata": {},
     "output_type": "execute_result"
    }
   ],
   "source": [
    "sql_excute5(cur4,latest_id[0])"
   ]
  },
  {
   "cell_type": "code",
   "execution_count": 47,
   "id": "4e7f004a",
   "metadata": {},
   "outputs": [
    {
     "data": {
      "text/plain": [
       "(('100', 'java', 'fun java', '1000', 1),\n",
       " ('104', 'swift', 'fun swift', '5000', 1),\n",
       " ('108', 'elk', 'fun elk', '9000', 1))"
      ]
     },
     "execution_count": 47,
     "metadata": {},
     "output_type": "execute_result"
    }
   ],
   "source": [
    "recommend = out_data(cur4)\n",
    "recommend"
   ]
  },
  {
   "cell_type": "code",
   "execution_count": 48,
   "id": "1ef93499",
   "metadata": {},
   "outputs": [
    {
     "data": {
      "text/plain": [
       "3"
      ]
     },
     "execution_count": 48,
     "metadata": {},
     "output_type": "execute_result"
    }
   ],
   "source": [
    "len(recommend)"
   ]
  },
  {
   "cell_type": "code",
   "execution_count": 49,
   "id": "b21c6e12",
   "metadata": {},
   "outputs": [
    {
     "name": "stdout",
     "output_type": "stream",
     "text": [
      "당신에게 추천하고 싶은 물건은 다음과 같습니다.\n",
      "-----------------------------------------------\n",
      "추천 제품 : java \t 가격 :  1000\n",
      "추천 제품 : swift \t 가격 :  5000\n",
      "추천 제품 : elk \t 가격 :  9000\n"
     ]
    }
   ],
   "source": [
    "print('당신에게 추천하고 싶은 물건은 다음과 같습니다.')\n",
    "print('-----------------------------------------------')\n",
    "\n",
    "for i in recommend :\n",
    "    print('추천 제품 :', i[1], '\\t 가격 : ',i[3])\n"
   ]
  },
  {
   "cell_type": "code",
   "execution_count": 50,
   "id": "48a08483",
   "metadata": {},
   "outputs": [],
   "source": [
    "def sql_excute6(con ,cur , data):\n",
    "    sql = \"\"\"\n",
    "    insert into orderlist values (null,%s,%s,%s)\n",
    "    \"\"\"\n",
    "    result = cur.execute(sql,data)\n",
    "    con.commit()\n",
    "    return result"
   ]
  },
  {
   "cell_type": "code",
   "execution_count": 53,
   "id": "bc2f5762",
   "metadata": {},
   "outputs": [
    {
     "name": "stdout",
     "output_type": "stream",
     "text": [
      "몇번제품 구매하시겠습니까? (싫으면 n) >>> 2\n",
      "-----구매를 진행합니다. ----------\n",
      "당신의 id는 park\n",
      "-------구매 완료---------\n",
      "몇번제품 구매하시겠습니까? (싫으면 n) >>> 1\n",
      "-----구매를 진행합니다. ----------\n",
      "당신의 id는 park\n",
      "-------구매 완료---------\n",
      "몇번제품 구매하시겠습니까? (싫으면 n) >>> n\n"
     ]
    }
   ],
   "source": [
    "n=0\n",
    "while n==0:\n",
    "    order_question = input('몇번제품 구매하시겠습니까? (싫으면 n) >>> ')\n",
    "    if order_question !='n':\n",
    "        print('-----구매를 진행합니다. ----------')\n",
    "        your_id= input('당신의 id는 ')\n",
    "        \n",
    "        data_list=[your_id, recommend[int(order_question)-1][0], int(recommend[int(order_question)-1][3])]\n",
    "        result5= sql_excute6(con,cur4,data_list)\n",
    "        if result5==1:\n",
    "            print('-------구매 완료---------')\n",
    "        else:\n",
    "            print('------구매 문제 발생')\n",
    "    else:\n",
    "        n=1"
   ]
  },
  {
   "cell_type": "code",
   "execution_count": null,
   "id": "5d2926a0",
   "metadata": {},
   "outputs": [],
   "source": []
  }
 ],
 "metadata": {
  "kernelspec": {
   "display_name": "Python 3 (ipykernel)",
   "language": "python",
   "name": "python3"
  },
  "language_info": {
   "codemirror_mode": {
    "name": "ipython",
    "version": 3
   },
   "file_extension": ".py",
   "mimetype": "text/x-python",
   "name": "python",
   "nbconvert_exporter": "python",
   "pygments_lexer": "ipython3",
   "version": "3.9.7"
  }
 },
 "nbformat": 4,
 "nbformat_minor": 5
}
