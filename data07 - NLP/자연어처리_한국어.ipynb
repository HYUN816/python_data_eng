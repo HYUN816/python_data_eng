{
  "nbformat": 4,
  "nbformat_minor": 0,
  "metadata": {
    "colab": {
      "name": "자연어처리-한국어.ipynb",
      "provenance": [],
      "authorship_tag": "ABX9TyPF46c66qNV8RceFAygt1RB"
    },
    "kernelspec": {
      "name": "python3",
      "display_name": "Python 3"
    },
    "language_info": {
      "name": "python"
    }
  },
  "cells": [
    {
      "cell_type": "code",
      "execution_count": null,
      "metadata": {
        "colab": {
          "base_uri": "https://localhost:8080/"
        },
        "id": "FWmzq-0RmN4D",
        "outputId": "2c355ec5-ba91-428b-8dbd-9135b9c1e66d"
      },
      "outputs": [
        {
          "output_type": "stream",
          "name": "stdout",
          "text": [
            "Requirement already satisfied: konlpy in /usr/local/lib/python3.7/dist-packages (0.5.2)\n",
            "Requirement already satisfied: lxml>=4.1.0 in /usr/local/lib/python3.7/dist-packages (from konlpy) (4.2.6)\n",
            "Requirement already satisfied: numpy>=1.6 in /usr/local/lib/python3.7/dist-packages (from konlpy) (1.19.5)\n",
            "Requirement already satisfied: colorama in /usr/local/lib/python3.7/dist-packages (from konlpy) (0.4.4)\n",
            "Requirement already satisfied: JPype1>=0.7.0 in /usr/local/lib/python3.7/dist-packages (from konlpy) (1.3.0)\n",
            "Requirement already satisfied: tweepy>=3.7.0 in /usr/local/lib/python3.7/dist-packages (from konlpy) (3.10.0)\n",
            "Requirement already satisfied: beautifulsoup4==4.6.0 in /usr/local/lib/python3.7/dist-packages (from konlpy) (4.6.0)\n",
            "Requirement already satisfied: typing-extensions in /usr/local/lib/python3.7/dist-packages (from JPype1>=0.7.0->konlpy) (3.10.0.2)\n",
            "Requirement already satisfied: requests-oauthlib>=0.7.0 in /usr/local/lib/python3.7/dist-packages (from tweepy>=3.7.0->konlpy) (1.3.0)\n",
            "Requirement already satisfied: requests[socks]>=2.11.1 in /usr/local/lib/python3.7/dist-packages (from tweepy>=3.7.0->konlpy) (2.23.0)\n",
            "Requirement already satisfied: six>=1.10.0 in /usr/local/lib/python3.7/dist-packages (from tweepy>=3.7.0->konlpy) (1.15.0)\n",
            "Requirement already satisfied: oauthlib>=3.0.0 in /usr/local/lib/python3.7/dist-packages (from requests-oauthlib>=0.7.0->tweepy>=3.7.0->konlpy) (3.1.1)\n",
            "Requirement already satisfied: urllib3!=1.25.0,!=1.25.1,<1.26,>=1.21.1 in /usr/local/lib/python3.7/dist-packages (from requests[socks]>=2.11.1->tweepy>=3.7.0->konlpy) (1.24.3)\n",
            "Requirement already satisfied: chardet<4,>=3.0.2 in /usr/local/lib/python3.7/dist-packages (from requests[socks]>=2.11.1->tweepy>=3.7.0->konlpy) (3.0.4)\n",
            "Requirement already satisfied: certifi>=2017.4.17 in /usr/local/lib/python3.7/dist-packages (from requests[socks]>=2.11.1->tweepy>=3.7.0->konlpy) (2021.10.8)\n",
            "Requirement already satisfied: idna<3,>=2.5 in /usr/local/lib/python3.7/dist-packages (from requests[socks]>=2.11.1->tweepy>=3.7.0->konlpy) (2.10)\n",
            "Requirement already satisfied: PySocks!=1.5.7,>=1.5.6 in /usr/local/lib/python3.7/dist-packages (from requests[socks]>=2.11.1->tweepy>=3.7.0->konlpy) (1.7.1)\n"
          ]
        }
      ],
      "source": [
        "!pip install konlpy"
      ]
    },
    {
      "cell_type": "code",
      "source": [
        "import json\n",
        "import re\n",
        "\n",
        "from konlpy.tag import Okt\n",
        "\n",
        "from collections import Counter\n",
        "\n",
        "import matplotlib \n",
        "import matplotlib.pyplot as plt\n",
        "from matplotlib import font_manager, rc\n",
        "from wordcloud import WordCloud"
      ],
      "metadata": {
        "id": "Tn-NXU7xmU2u"
      },
      "execution_count": null,
      "outputs": []
    },
    {
      "cell_type": "code",
      "source": [
        "okt= Okt()\n",
        "okt"
      ],
      "metadata": {
        "colab": {
          "base_uri": "https://localhost:8080/"
        },
        "id": "aduAecg5mvL9",
        "outputId": "0ce9c044-b604-4355-eefb-52c4174a7611"
      },
      "execution_count": null,
      "outputs": [
        {
          "output_type": "execute_result",
          "data": {
            "text/plain": [
              "<konlpy.tag._okt.Okt at 0x7fd564aaa110>"
            ]
          },
          "metadata": {},
          "execution_count": 4
        }
      ]
    },
    {
      "cell_type": "code",
      "source": [
        "words = '잎새에 이는 바람에도 나는 괴로워했다.'"
      ],
      "metadata": {
        "id": "Ein3k953m1I3"
      },
      "execution_count": null,
      "outputs": []
    },
    {
      "cell_type": "code",
      "source": [
        "noun_list =okt.nouns(words)\n",
        "noun_list"
      ],
      "metadata": {
        "colab": {
          "base_uri": "https://localhost:8080/"
        },
        "id": "UZtEJ-J_nRu7",
        "outputId": "7629b3eb-aff3-4d03-8749-c329621b7b24"
      },
      "execution_count": null,
      "outputs": [
        {
          "output_type": "execute_result",
          "data": {
            "text/plain": [
              "['잎새', '바람', '나']"
            ]
          },
          "metadata": {},
          "execution_count": 6
        }
      ]
    },
    {
      "cell_type": "code",
      "source": [
        "count = Counter(noun_list)\n",
        "count"
      ],
      "metadata": {
        "colab": {
          "base_uri": "https://localhost:8080/"
        },
        "id": "_87HnNkEnd5E",
        "outputId": "dae23128-d51e-472e-b7c2-4ab7ad5b1916"
      },
      "execution_count": null,
      "outputs": [
        {
          "output_type": "execute_result",
          "data": {
            "text/plain": [
              "Counter({'나': 1, '바람': 1, '잎새': 1})"
            ]
          },
          "metadata": {},
          "execution_count": 7
        }
      ]
    },
    {
      "cell_type": "code",
      "source": [
        "count.most_common(2)"
      ],
      "metadata": {
        "colab": {
          "base_uri": "https://localhost:8080/"
        },
        "id": "-RLgzsVsnrvf",
        "outputId": "63ee5f01-f447-43ed-9f37-b415f2742657"
      },
      "execution_count": null,
      "outputs": [
        {
          "output_type": "execute_result",
          "data": {
            "text/plain": [
              "[('잎새', 1), ('바람', 1)]"
            ]
          },
          "metadata": {},
          "execution_count": 8
        }
      ]
    },
    {
      "cell_type": "code",
      "source": [
        "news ='''출제 오류 논란이 일었던 2022학년도 대학수학능력시험 생명과학Ⅱ 20번 문제에 대해 법원이 출제 오류가 맞다고 결론 냈다.\n",
        "\n",
        "서울행정법원 행정6부(부장 이주영)는 15일 오후 2시 수능 응시자 김모 씨 등 92명이 한국교육과정평가원을 상대로 낸 정답 결정 처분 취소소송에서 원고 승소 판결했다.\n",
        "\n",
        "당초 예정됐던 선고일은 이달 17일이었지만, 재판부는 입학전형에 미치는 영향 등을 고려해 선고일을 이날로 앞당겼다. 또한 이번 재판은 행정소송으로는 이례적으로 지난 10일 한 차례 변론기일만 열고 바로 결론을 냈다.\n",
        "\n",
        "이번 재판 결과에 대한 정부 당국의 불복으로 항소심 재판까지 갈 가능성도 배제할 수 없다. 과거 2014학년도 수능 세계지리 8번 문항 오류 논란도 1년 뒤 항소심까지 재판이 이어지며 장기화되기도 했다.\n",
        "\n",
        "논란이 된 생명과학Ⅱ 20번 문항은 집단Ⅰ과 집단Ⅱ 중 하디·바인베르크 평형이 유지되는 집단을 찾고 ‘보기’ 진위를 판단하는 문항이다. 하지만 문제에 주어진 값으로 특정 개체수가 0보다 작은 음수(-)가 나오면서 출제 오류라는 지적이 제기됐다. 정답에서 제외해야 하는 음수 개체수가 나왔고, 같은 논리가 2015학년도 수능에서도 나왔다는 게 수험생들의 주장이다. 또 수험생들은 문제 오류로 시간이 지체되는 등 피해를 입었다고도 주장했다.\n",
        "\n",
        "반면 평가원 측은 지난달 29일 문제에 이상이 없다고 판정했다. 평가원 측은 “이 문항의 조건이 완전하지 않다고 해도 학업 성취 수준을 변별하기 위한 평가 문항으로서 타당성이 유지된다”고 맞섰다.\n",
        "\n",
        "논란이 지속되자 교육부는 한국대학교육협의회와 협의를 거쳐 수시 합격자 발표일을 이달 18일로 연기했다. 이에 따라 수시 합격자 등록일은 이달 17~20일에서 18~21일로, 수시 미등록 충원 기간은 이달 21~27일에서 22~28일로 하루씩 늦춰졌다. 교육 당국은 수험생의 혼란을 막기 위해 재판부가 앞당긴 선고 일정과 상관없이 연기된 일정을 유지할 방침이다. 평가원은 지난 10일 배부한 수능성적표에도 생명과학II 응시생 6515명의 해당 과목 성적을 공란으로 표시했다.'''"
      ],
      "metadata": {
        "id": "u1OSrwwAoOw0"
      },
      "execution_count": null,
      "outputs": []
    },
    {
      "cell_type": "code",
      "source": [
        "noun_list2 =okt.nouns(news)\n",
        "noun_list2"
      ],
      "metadata": {
        "colab": {
          "base_uri": "https://localhost:8080/"
        },
        "id": "1GQpyB87opm5",
        "outputId": "7b90d83d-9259-4454-a335-89c79536e78b"
      },
      "execution_count": null,
      "outputs": [
        {
          "output_type": "execute_result",
          "data": {
            "text/plain": [
              "['출제',\n",
              " '오류',\n",
              " '논란',\n",
              " '학년',\n",
              " '대학',\n",
              " '수학',\n",
              " '능력',\n",
              " '시험',\n",
              " '생명과학',\n",
              " '번',\n",
              " '문제',\n",
              " '대해',\n",
              " '법원',\n",
              " '출제',\n",
              " '오류',\n",
              " '결론',\n",
              " '서울',\n",
              " '행정법원',\n",
              " '행정',\n",
              " '부',\n",
              " '부장',\n",
              " '이주영',\n",
              " '오후',\n",
              " '수능',\n",
              " '응시',\n",
              " '김모',\n",
              " '씨',\n",
              " '등',\n",
              " '명',\n",
              " '한국',\n",
              " '교육과정평가원',\n",
              " '상대로',\n",
              " '정답',\n",
              " '결정',\n",
              " '처분',\n",
              " '취소소송',\n",
              " '원고',\n",
              " '승소',\n",
              " '판결',\n",
              " '당초',\n",
              " '예정',\n",
              " '선고',\n",
              " '일',\n",
              " '달',\n",
              " '재판',\n",
              " '입학',\n",
              " '전형',\n",
              " '영향',\n",
              " '등',\n",
              " '고려',\n",
              " '선고',\n",
              " '일',\n",
              " '날로',\n",
              " '또한',\n",
              " '이번',\n",
              " '재판',\n",
              " '행정소송',\n",
              " '이례',\n",
              " '지난',\n",
              " '차례',\n",
              " '변론기일',\n",
              " '바로',\n",
              " '결론',\n",
              " '이번',\n",
              " '재판',\n",
              " '결과',\n",
              " '대한',\n",
              " '정부',\n",
              " '당국',\n",
              " '불복',\n",
              " '항소심',\n",
              " '재판',\n",
              " '가능성',\n",
              " '배제',\n",
              " '수',\n",
              " '과거',\n",
              " '학년',\n",
              " '수능',\n",
              " '세계',\n",
              " '지리',\n",
              " '번',\n",
              " '문항',\n",
              " '오류',\n",
              " '논란',\n",
              " '뒤',\n",
              " '항소심',\n",
              " '재판',\n",
              " '장기',\n",
              " '기도',\n",
              " '논란',\n",
              " '생명과학',\n",
              " '번',\n",
              " '문항',\n",
              " '집단',\n",
              " '과',\n",
              " '집단',\n",
              " '중',\n",
              " '하디',\n",
              " '바인',\n",
              " '베르크',\n",
              " '평형',\n",
              " '유지',\n",
              " '집단',\n",
              " '보기',\n",
              " '진위',\n",
              " '판단',\n",
              " '문항',\n",
              " '문제',\n",
              " '값',\n",
              " '특정',\n",
              " '개체',\n",
              " '수가',\n",
              " '음수',\n",
              " '출제',\n",
              " '오류',\n",
              " '지적',\n",
              " '제기',\n",
              " '정답',\n",
              " '제외',\n",
              " '음수',\n",
              " '개체',\n",
              " '수가',\n",
              " '논리',\n",
              " '학년',\n",
              " '수능',\n",
              " '게',\n",
              " '수험생',\n",
              " '주장',\n",
              " '또',\n",
              " '수험생',\n",
              " '문제',\n",
              " '오류로',\n",
              " '시간',\n",
              " '지체',\n",
              " '등',\n",
              " '피해',\n",
              " '주장',\n",
              " '반면',\n",
              " '평가원',\n",
              " '측은',\n",
              " '지난달',\n",
              " '문제',\n",
              " '이상',\n",
              " '판정',\n",
              " '평가원',\n",
              " '측은',\n",
              " '이',\n",
              " '문항',\n",
              " '조건',\n",
              " '해도',\n",
              " '학업',\n",
              " '성취',\n",
              " '수준',\n",
              " '변별',\n",
              " '위',\n",
              " '평가',\n",
              " '문항',\n",
              " '타당성',\n",
              " '유지',\n",
              " '고',\n",
              " '논란',\n",
              " '지속',\n",
              " '교육부',\n",
              " '한국',\n",
              " '대학교육',\n",
              " '협의',\n",
              " '회',\n",
              " '협의',\n",
              " '수시',\n",
              " '합격자',\n",
              " '발표',\n",
              " '일',\n",
              " '달',\n",
              " '연기',\n",
              " '이',\n",
              " '수시',\n",
              " '합격자',\n",
              " '등록',\n",
              " '일',\n",
              " '달',\n",
              " '수시',\n",
              " '미등록',\n",
              " '충',\n",
              " '기간',\n",
              " '달',\n",
              " '하루',\n",
              " '교육',\n",
              " '당국',\n",
              " '수험생',\n",
              " '혼란',\n",
              " '위해',\n",
              " '재판',\n",
              " '부가',\n",
              " '선고',\n",
              " '일정',\n",
              " '연기',\n",
              " '일정',\n",
              " '유지',\n",
              " '방침',\n",
              " '평가원',\n",
              " '지난',\n",
              " '배부',\n",
              " '수능',\n",
              " '성적표',\n",
              " '생명과학',\n",
              " '응시',\n",
              " '생',\n",
              " '명의',\n",
              " '해당',\n",
              " '과목',\n",
              " '성적',\n",
              " '공란',\n",
              " '표시']"
            ]
          },
          "metadata": {},
          "execution_count": 10
        }
      ]
    },
    {
      "cell_type": "code",
      "source": [
        "count2 = Counter(noun_list2)\n",
        "count2"
      ],
      "metadata": {
        "colab": {
          "base_uri": "https://localhost:8080/"
        },
        "id": "t0PWL6Zeoxsy",
        "outputId": "a08dcb44-3575-4c8f-df6c-559d1f4c8b38"
      },
      "execution_count": null,
      "outputs": [
        {
          "output_type": "execute_result",
          "data": {
            "text/plain": [
              "Counter({'가능성': 1,\n",
              "         '값': 1,\n",
              "         '개체': 2,\n",
              "         '게': 1,\n",
              "         '결과': 1,\n",
              "         '결론': 2,\n",
              "         '결정': 1,\n",
              "         '고': 1,\n",
              "         '고려': 1,\n",
              "         '공란': 1,\n",
              "         '과': 1,\n",
              "         '과거': 1,\n",
              "         '과목': 1,\n",
              "         '교육': 1,\n",
              "         '교육과정평가원': 1,\n",
              "         '교육부': 1,\n",
              "         '기간': 1,\n",
              "         '기도': 1,\n",
              "         '김모': 1,\n",
              "         '날로': 1,\n",
              "         '논란': 4,\n",
              "         '논리': 1,\n",
              "         '능력': 1,\n",
              "         '달': 4,\n",
              "         '당국': 2,\n",
              "         '당초': 1,\n",
              "         '대학': 1,\n",
              "         '대학교육': 1,\n",
              "         '대한': 1,\n",
              "         '대해': 1,\n",
              "         '뒤': 1,\n",
              "         '등': 3,\n",
              "         '등록': 1,\n",
              "         '또': 1,\n",
              "         '또한': 1,\n",
              "         '명': 1,\n",
              "         '명의': 1,\n",
              "         '문제': 4,\n",
              "         '문항': 5,\n",
              "         '미등록': 1,\n",
              "         '바로': 1,\n",
              "         '바인': 1,\n",
              "         '반면': 1,\n",
              "         '발표': 1,\n",
              "         '방침': 1,\n",
              "         '배부': 1,\n",
              "         '배제': 1,\n",
              "         '번': 3,\n",
              "         '법원': 1,\n",
              "         '베르크': 1,\n",
              "         '변론기일': 1,\n",
              "         '변별': 1,\n",
              "         '보기': 1,\n",
              "         '부': 1,\n",
              "         '부가': 1,\n",
              "         '부장': 1,\n",
              "         '불복': 1,\n",
              "         '상대로': 1,\n",
              "         '생': 1,\n",
              "         '생명과학': 3,\n",
              "         '서울': 1,\n",
              "         '선고': 3,\n",
              "         '성적': 1,\n",
              "         '성적표': 1,\n",
              "         '성취': 1,\n",
              "         '세계': 1,\n",
              "         '수': 1,\n",
              "         '수가': 2,\n",
              "         '수능': 4,\n",
              "         '수시': 3,\n",
              "         '수준': 1,\n",
              "         '수학': 1,\n",
              "         '수험생': 3,\n",
              "         '승소': 1,\n",
              "         '시간': 1,\n",
              "         '시험': 1,\n",
              "         '씨': 1,\n",
              "         '연기': 2,\n",
              "         '영향': 1,\n",
              "         '예정': 1,\n",
              "         '오류': 4,\n",
              "         '오류로': 1,\n",
              "         '오후': 1,\n",
              "         '원고': 1,\n",
              "         '위': 1,\n",
              "         '위해': 1,\n",
              "         '유지': 3,\n",
              "         '음수': 2,\n",
              "         '응시': 2,\n",
              "         '이': 2,\n",
              "         '이례': 1,\n",
              "         '이번': 2,\n",
              "         '이상': 1,\n",
              "         '이주영': 1,\n",
              "         '일': 4,\n",
              "         '일정': 2,\n",
              "         '입학': 1,\n",
              "         '장기': 1,\n",
              "         '재판': 6,\n",
              "         '전형': 1,\n",
              "         '정답': 2,\n",
              "         '정부': 1,\n",
              "         '제기': 1,\n",
              "         '제외': 1,\n",
              "         '조건': 1,\n",
              "         '주장': 2,\n",
              "         '중': 1,\n",
              "         '지난': 2,\n",
              "         '지난달': 1,\n",
              "         '지리': 1,\n",
              "         '지속': 1,\n",
              "         '지적': 1,\n",
              "         '지체': 1,\n",
              "         '진위': 1,\n",
              "         '집단': 3,\n",
              "         '차례': 1,\n",
              "         '처분': 1,\n",
              "         '출제': 3,\n",
              "         '충': 1,\n",
              "         '취소소송': 1,\n",
              "         '측은': 2,\n",
              "         '타당성': 1,\n",
              "         '특정': 1,\n",
              "         '판결': 1,\n",
              "         '판단': 1,\n",
              "         '판정': 1,\n",
              "         '평가': 1,\n",
              "         '평가원': 3,\n",
              "         '평형': 1,\n",
              "         '표시': 1,\n",
              "         '피해': 1,\n",
              "         '하디': 1,\n",
              "         '하루': 1,\n",
              "         '학년': 3,\n",
              "         '학업': 1,\n",
              "         '한국': 2,\n",
              "         '합격자': 2,\n",
              "         '항소심': 2,\n",
              "         '해당': 1,\n",
              "         '해도': 1,\n",
              "         '행정': 1,\n",
              "         '행정법원': 1,\n",
              "         '행정소송': 1,\n",
              "         '협의': 2,\n",
              "         '혼란': 1,\n",
              "         '회': 1})"
            ]
          },
          "metadata": {},
          "execution_count": 11
        }
      ]
    },
    {
      "cell_type": "code",
      "source": [
        "count2.most_common(15)"
      ],
      "metadata": {
        "colab": {
          "base_uri": "https://localhost:8080/"
        },
        "id": "aCXWVGgYo3BQ",
        "outputId": "3be4cf7d-0db8-4d3b-9931-810943bb2cb2"
      },
      "execution_count": null,
      "outputs": [
        {
          "output_type": "execute_result",
          "data": {
            "text/plain": [
              "[('재판', 6),\n",
              " ('문항', 5),\n",
              " ('오류', 4),\n",
              " ('논란', 4),\n",
              " ('문제', 4),\n",
              " ('수능', 4),\n",
              " ('일', 4),\n",
              " ('달', 4),\n",
              " ('출제', 3),\n",
              " ('학년', 3),\n",
              " ('생명과학', 3),\n",
              " ('번', 3),\n",
              " ('등', 3),\n",
              " ('선고', 3),\n",
              " ('집단', 3)]"
            ]
          },
          "metadata": {},
          "execution_count": 12
        }
      ]
    },
    {
      "cell_type": "code",
      "source": [
        "word_count = {}\n",
        "for tag,count2 in count2.most_common(15):\n",
        "  if(len(str(tag))>1) :\n",
        "    word_count[tag] = count2\n",
        "word_count"
      ],
      "metadata": {
        "colab": {
          "base_uri": "https://localhost:8080/"
        },
        "id": "gfZ8qmr6pQKi",
        "outputId": "fb4c473d-88a4-4c85-fbe9-8ff9bb7aa3fd"
      },
      "execution_count": null,
      "outputs": [
        {
          "output_type": "execute_result",
          "data": {
            "text/plain": [
              "{'논란': 4,\n",
              " '문제': 4,\n",
              " '문항': 5,\n",
              " '생명과학': 3,\n",
              " '선고': 3,\n",
              " '수능': 4,\n",
              " '오류': 4,\n",
              " '재판': 6,\n",
              " '집단': 3,\n",
              " '출제': 3,\n",
              " '학년': 3}"
            ]
          },
          "metadata": {},
          "execution_count": 13
        }
      ]
    },
    {
      "cell_type": "code",
      "source": [
        "# xml -> <money>1000<money>\n",
        "# Extensible Markup Language (확장가능한 ML)\n",
        "\n",
        "# json -> {noney : 1000}\n",
        "# Javascript Object Notation"
      ],
      "metadata": {
        "id": "bFtMMI6Zv99t"
      },
      "execution_count": null,
      "outputs": []
    },
    {
      "cell_type": "code",
      "source": [
        "file_name='/content/etnews.kr_facebook_2016-01-01_2018-08-01_4차 산업혁명.json'\n",
        "json_data = json.loads(open(file_name, 'r', encoding='utf-8').read())\n",
        "# 읽기 stream = 'r', 쓰기 stream\n",
        "\n",
        "json_data"
      ],
      "metadata": {
        "colab": {
          "base_uri": "https://localhost:8080/"
        },
        "id": "MYubOgdxrxA0",
        "outputId": "1811c0a9-f808-4595-aacc-4333f812846b"
      },
      "execution_count": null,
      "outputs": [
        {
          "output_type": "execute_result",
          "data": {
            "text/plain": [
              "[{'created_time': '2018-06-20 18:06:39',\n",
              "  'link': 'https://www.facebook.com/etnews.kr/videos/1981346601899735/',\n",
              "  'message': '6월의 스파크포럼 - \"미래 시대, 조직의 변화도 시작됐다!\"\\n\\n스파크포럼은 현 사회의 사회문제 및 이슈를 제기하고, 그 이슈를 혁신적으로 해결하고자 하는 소셜이노베이터를 발굴, 지원하여 우리 사회 따뜻한 변화를 확산시키지 위해 만들어진 도전과 만남의 자리입니다.\\n\\n6월의 스파크포럼에서는 4차 산업혁명 시대의 기업조직과 조직문화를 살펴보고, 조직의 변화를 받아들이고 실험해나가는 사례를 통해 미래 시대 조직이 나아가야 할 방향을 함께 생각해보고자 합니다.',\n",
              "  'name': '6월의 스파크포럼 - \"미래 시대, 조직의 변화도 시작됐다!\"',\n",
              "  'post_id': '407886705912407_1981346601899735',\n",
              "  'total_comments': 3},\n",
              " {'created_time': '2018-06-14 10:41:16',\n",
              "  'link': 'http://www.etnews.com/20180612000347',\n",
              "  'message': '로봇이 4차 산업혁명 주요 성장 동력으로 떠오르면서 국내 로봇 기업에 재평가가 이뤄지고 있다는 분석입니다.',\n",
              "  'name': '기술력 갖춘 로봇기업 몸값 치솟는다',\n",
              "  'post_id': '407886705912407_1971252229575839',\n",
              "  'total_comments': 0},\n",
              " {'created_time': '2018-04-10 17:42:00',\n",
              "  'link': 'http://www.etnews.com/20180409000360?mc=em_002_00001',\n",
              "  'message': '4차 산업혁명 시대 금융 산업 전반 점검해야 한다는...',\n",
              "  'name': \"휘청거리는 대한민국 '금융'...서민도 기업도 ICT도 실종\",\n",
              "  'post_id': '407886705912407_1900738133293916',\n",
              "  'total_comments': 0},\n",
              " {'created_time': '2018-03-05 12:05:00',\n",
              "  'link': 'https://goo.gl/qPEyAJ',\n",
              "  'message': \"공통 간판 공약은 '4차 산업혁명 선도 도시 구현'과 '가상화폐·블록체인 기술 활용' 등입니다. https://goo.gl/qPEyAJ\",\n",
              "  'name': \"지방선거 D-100 정책 공약 '4차산업혁명'에 초점\",\n",
              "  'post_id': '407886705912407_1859978837369846',\n",
              "  'total_comments': 0},\n",
              " {'created_time': '2018-02-05 17:20:01',\n",
              "  'link': 'http://www.etnews.com/20180205000237',\n",
              "  'message': '이번 과정은 4차 산업혁명 핵심 기술인 AI에 대한 통찰력과 알파고를 통해 우리 일상과 익숙해진 로봇, 빅데이터 산업 흐름을 알려줍니다. #인공지능 #최고위과정 #산학연최고전문가 https://goo.gl/jSZSNX',\n",
              "  'name': '[알림]제2기 인공지능 최고위 과정 모집',\n",
              "  'post_id': '407886705912407_1829059807128416',\n",
              "  'total_comments': 0},\n",
              " {'created_time': '2018-01-29 23:39:00',\n",
              "  'link': 'http://www.etnews.com/20180129000403?mc=em_003_00001',\n",
              "  'message': '4차 산업혁명 모든 기술과 서비스 구현',\n",
              "  'name': \"첫 스마트시티 '부산·세종' 낙점...규제 프리존으로\",\n",
              "  'post_id': '407886705912407_1821177084583355',\n",
              "  'total_comments': 0},\n",
              " {'created_time': '2017-11-09 18:11:43',\n",
              "  'link': 'http://www.sek.co.kr/2017/nbf',\n",
              "  'message': '산업혁명의 나라, 영국엔 4차 산업혁명이 없다?\\n한국-영국 경험과 지혜를 모으는 ‘미래비즈니스포럼 2017’ 개최',\n",
              "  'name': '미래비즈니스포럼 2017 : 손에 잡히는 4차 산업혁명',\n",
              "  'post_id': '407886705912407_1735224763178588',\n",
              "  'total_comments': 0},\n",
              " {'created_time': '2017-10-25 13:08:49',\n",
              "  'link': 'https://www.facebook.com/etnews.kr/videos/1720053844695680/',\n",
              "  'message': \"[전자신문TV 라이브] SBA 신직업위크\\n\\n4차 산업혁명 시대의 경쟁력 확보와 일자리 창출의 해법을 신직업에서 찾고 있는 서울산업진흥원(SBA)이 자신들의 역량과 노력을 모두 담은 '제 2회 신직업위크'를 진행하고 있습니다.\\n\\n이번 전자신문TV라이브는 서울 대치동 SBA 신직업교육센터에서 강만구 신직업교육팀장과 서지윤 신직업리서치팀수석, 윤석원 테스트웍스 대표 등과 함께 '제 2회 신직업위크'와 최신 신직업트렌드를 알아보는 시간으로 마련했습니다. 많은 시청 바랍니다. \\n\\n#전자신문 #전자신문엔터 #전자신문TV #라이브 #소셜방송 #현장라이브 #손보련 #신직업위크 #서울산업진흥원 #SBA #신직업 #서울 #강만구 #서지윤 #윤석원 #테스트웍스 #소프트웨어 #테스터 #소프트웨어테스터\",\n",
              "  'name': '[전자신문TV 라이브] SBA 신직업위크',\n",
              "  'post_id': '407886705912407_1720053844695680',\n",
              "  'total_comments': 0},\n",
              " {'created_time': '2017-10-06 11:50:00',\n",
              "  'link': 'http://www.etnews.com/20171005000056?mc=em_011_00001',\n",
              "  'message': '혹시 우리나라도?~~4차 산업혁명 시대 떠오르는 일자리 전략으로 강추~~',\n",
              "  'name': '日, 인공지능 활용능력 자격시험 만든다',\n",
              "  'post_id': '407886705912407_1700789646622100',\n",
              "  'total_comments': 1},\n",
              " {'created_time': '2017-09-25 15:30:00',\n",
              "  'link': 'http://www.etnews.com/20170924000106?mc=em_003_00001',\n",
              "  'message': '4차 산업혁명 대응에 가장 강점 분야는 5세대 이동통신...건강한 산업 생태계 조성 노력 강조',\n",
              "  'name': \"김상조 공정위원장 “기업집단국, 조사국과 달라…'존경받는 기업' 만드는 게 핵심”\",\n",
              "  'post_id': '407886705912407_1691461310888267',\n",
              "  'total_comments': 0},\n",
              " {'created_time': '2017-08-29 00:54:00',\n",
              "  'link': 'http://www.etnews.com/20170825000162?mc=em_009_00001',\n",
              "  'message': \"중앙부처 공무원 51.3% '4차 산업혁명 관련 가장 시급히 대응해야 할 기술적 과제'로 빅데이터 활용 꼽\",\n",
              "  'name': '현직 공무원들 \"빅데이터·AI, 정책에 적극 활용\"…4차 산업혁명 인식 높아',\n",
              "  'post_id': '407886705912407_1665258370175228',\n",
              "  'total_comments': 1},\n",
              " {'created_time': '2017-08-17 15:37:14',\n",
              "  'link': 'https://www.facebook.com/etnews.kr/videos/1655135431187522/',\n",
              "  'message': '[전자신문TV 라이브] 직격인터뷰 - 서울산업진흥원(SBA) 주형철 대표이사\\n\\n최근 각급 공공기관들이 4차 산업혁명기를 맞은 국내 중소기업의 경쟁력과 일자리 창출을 위해 노력하고 있는데요.\\n\\n이번 전자신문TV 라이브는 중소기업 활성화와 일자리 창출에 앞장서는 공공기관 중 대표적 사례로 꼽히는 서울산업진흥원 주형철 대표이사를 모시고 다양한 이야기를 듣는 시간으로 진행됩니다.\\n\\n#전자신문 #전자신문TV #서울산업진흥원 #SBA #주형철 #소성렬',\n",
              "  'name': '[전자신문TV 라이브] 직격인터뷰 - 서울산업진흥원(SBA) 주형철 대표이사',\n",
              "  'post_id': '407886705912407_1655135431187522',\n",
              "  'total_comments': 15},\n",
              " {'created_time': '2017-08-12 17:48:00',\n",
              "  'link': 'http://www.etnews.com/20170810000414?mc=em_009_00001',\n",
              "  'message': '4차 산업혁명 대응은 일자리 창출과 함께 문재인 정부 주요 국정 과제인 데도 우선순위에서 밀렸다는 지적',\n",
              "  'name': '4차 산업혁명위 출범 후순위로 밀렸다',\n",
              "  'post_id': '407886705912407_1648865381814527',\n",
              "  'total_comments': 0},\n",
              " {'created_time': '2017-06-09 22:00:00',\n",
              "  'link': 'http://www.etnews.com/20170608000300?mc=em_009_00001',\n",
              "  'message': '통합·개혁 행보에서 빠른 움직임을 보였지만 4차 산업혁명 등 신성장동력 창출에서는 한 발짝도 못 나갔다는 평입니다...',\n",
              "  'name': \"새정부 출범 한 달...'통합·개혁'엔 진일보, '4차 산업혁명 대응' 한발짝도 못 나가\",\n",
              "  'post_id': '407886705912407_1579376925430040',\n",
              "  'total_comments': 4},\n",
              " {'created_time': '2017-05-24 18:30:00',\n",
              "  'link': 'http://www.etnews.com/20170524000281?mc=em_001_00001',\n",
              "  'message': \"미래창조과학부가 주최하고 전자신문사, 한국경제신문, 한국정보통신진흥협회(KAIT) 주관으로 24일 서울 강남구 삼성동 코엑스에서 개막된 '월드IT쇼(WIS) 2017'은 4차 산업혁명이 더 이상 개념이 아니라 현실로 다가왔음을 입증했습니다~\",\n",
              "  'name': '[WIS 2017]4차 산업혁명, 현실과 마주한 날',\n",
              "  'post_id': '407886705912407_1562807837086949',\n",
              "  'total_comments': 0},\n",
              " {'created_time': '2017-05-17 18:38:04',\n",
              "  'link': 'https://www.facebook.com/etnews.kr/photos/a.409377469096664/1556319464402453/?type=3',\n",
              "  'message': '[전자신문TV 라이브 예고]\\n이번 전자신문TV는 4차 산업혁명과 과학기술 영상컨퍼런스를 생중계합니다~! 광운대학교 이승현 교수님을 모시고 진행하는 이번 행사는 VR. AR 기술과 몰힙형 미디어에 대해 설명해 주신다고 합니다!\\n\\n이번 행사는 전자신문 Entertainment와 가상현실 스튜디오 솔루션을 제작한 다림비젼, 중견기업TV와 함께  4차 산업 정보 채널 IBSB(IT Tech. & Business SNS Broadcast)를 통해 진행합니다.\\n\\nIBSB는 전세계 4차 산업 혁명의 현장의 생생한 IT 소식과 정보, 컨퍼런스의 강연, VOD정보를 VR 기술과 원격 Live방송 기술을 중심으로 시간과 거리를 초월하는 실시간 TELE-Presentation 기술의 새로운 방송 서비스입니다.\\n\\n이런 유익한 강의를 전자신문 페이스북을 통해서 시청하실 수 있습니다~ 많은 관심부탁드립니다♥',\n",
              "  'name': 'Timeline Photos',\n",
              "  'post_id': '407886705912407_1556319464402453',\n",
              "  'total_comments': 1},\n",
              " {'created_time': '2017-04-05 07:00:00',\n",
              "  'link': 'http://www.etnews.com/20170404000230',\n",
              "  'message': '대선 국면이지만 법안의 시급성 때문에 4차 산업혁명 대비 법제 개편 논의가 불붙을 전망입니다...',\n",
              "  'name': \"'4차 산업혁명 기본법' 나왔다…대선 기간 법제화 논의 불붙을듯\",\n",
              "  'post_id': '407886705912407_1505222409512159',\n",
              "  'total_comments': 1},\n",
              " {'created_time': '2017-02-14 08:30:01',\n",
              "  'link': 'http://www.etnews.com/20170213000307',\n",
              "  'message': '4차 산업혁명 시대 대비!!!',\n",
              "  'name': '[차기 정부 거버넌스 개편 방향 좌담회]\"400조 정부, 혁신부총리가 답이다\"',\n",
              "  'post_id': '407886705912407_1452393468128387',\n",
              "  'total_comments': 0},\n",
              " {'created_time': '2016-01-25 06:00:00',\n",
              "  'link': 'http://www.etnews.com/20160124000075',\n",
              "  'message': '‘#4차산업혁명 의 이해(Mastering the Fourth Industrial Revolution)’...\\n23일 폐막한 #다보스포럼 에서는  4차 산업혁명 기대와 우려가 교차했는데요. 구글, 애플, 페이스북, 삼성전자, LG전자가 앞다퉈 4차 산업혁명 흐름에 뛰어 들고 있습니다.',\n",
              "  'name': '[이슈분석]다보스포럼, 4차 산업혁명 기대와 우려 교차',\n",
              "  'post_id': '407886705912407_1106254916075579',\n",
              "  'total_comments': 0}]"
            ]
          },
          "metadata": {},
          "execution_count": 15
        }
      ]
    },
    {
      "cell_type": "code",
      "source": [
        "all_data = ''\n",
        "for item in json_data : \n",
        "  if 'message' in item.keys() :\n",
        "    all_data = all_data + re.sub(r'[^\\w]',' ', item['message']) + \" \"\n",
        "print(all_data)"
      ],
      "metadata": {
        "colab": {
          "base_uri": "https://localhost:8080/"
        },
        "id": "5BWv8puQw59x",
        "outputId": "8f20ad9c-8c19-4618-8f84-627119aee758"
      },
      "execution_count": null,
      "outputs": [
        {
          "output_type": "stream",
          "name": "stdout",
          "text": [
            "6월의 스파크포럼    미래 시대  조직의 변화도 시작됐다    스파크포럼은 현 사회의 사회문제 및 이슈를 제기하고  그 이슈를 혁신적으로 해결하고자 하는 소셜이노베이터를 발굴  지원하여 우리 사회 따뜻한 변화를 확산시키지 위해 만들어진 도전과 만남의 자리입니다   6월의 스파크포럼에서는 4차 산업혁명 시대의 기업조직과 조직문화를 살펴보고  조직의 변화를 받아들이고 실험해나가는 사례를 통해 미래 시대 조직이 나아가야 할 방향을 함께 생각해보고자 합니다  로봇이 4차 산업혁명 주요 성장 동력으로 떠오르면서 국내 로봇 기업에 재평가가 이뤄지고 있다는 분석입니다  4차 산업혁명 시대 금융 산업 전반 점검해야 한다는    공통 간판 공약은  4차 산업혁명 선도 도시 구현 과  가상화폐 블록체인 기술 활용  등입니다  https   goo gl qPEyAJ 이번 과정은 4차 산업혁명 핵심 기술인 AI에 대한 통찰력과 알파고를 통해 우리 일상과 익숙해진 로봇  빅데이터 산업 흐름을 알려줍니다   인공지능  최고위과정  산학연최고전문가 https   goo gl jSZSNX 4차 산업혁명 모든 기술과 서비스 구현 산업혁명의 나라  영국엔 4차 산업혁명이 없다  한국 영국 경험과 지혜를 모으는  미래비즈니스포럼 2017  개최  전자신문TV 라이브  SBA 신직업위크  4차 산업혁명 시대의 경쟁력 확보와 일자리 창출의 해법을 신직업에서 찾고 있는 서울산업진흥원 SBA 이 자신들의 역량과 노력을 모두 담은  제 2회 신직업위크 를 진행하고 있습니다   이번 전자신문TV라이브는 서울 대치동 SBA 신직업교육센터에서 강만구 신직업교육팀장과 서지윤 신직업리서치팀수석  윤석원 테스트웍스 대표 등과 함께  제 2회 신직업위크 와 최신 신직업트렌드를 알아보는 시간으로 마련했습니다  많은 시청 바랍니다     전자신문  전자신문엔터  전자신문TV  라이브  소셜방송  현장라이브  손보련  신직업위크  서울산업진흥원  SBA  신직업  서울  강만구  서지윤  윤석원  테스트웍스  소프트웨어  테스터  소프트웨어테스터 혹시 우리나라도   4차 산업혁명 시대 떠오르는 일자리 전략으로 강추   4차 산업혁명 대응에 가장 강점 분야는 5세대 이동통신   건강한 산업 생태계 조성 노력 강조 중앙부처 공무원 51 3   4차 산업혁명 관련 가장 시급히 대응해야 할 기술적 과제 로 빅데이터 활용 꼽  전자신문TV 라이브  직격인터뷰   서울산업진흥원 SBA  주형철 대표이사  최근 각급 공공기관들이 4차 산업혁명기를 맞은 국내 중소기업의 경쟁력과 일자리 창출을 위해 노력하고 있는데요   이번 전자신문TV 라이브는 중소기업 활성화와 일자리 창출에 앞장서는 공공기관 중 대표적 사례로 꼽히는 서울산업진흥원 주형철 대표이사를 모시고 다양한 이야기를 듣는 시간으로 진행됩니다    전자신문  전자신문TV  서울산업진흥원  SBA  주형철  소성렬 4차 산업혁명 대응은 일자리 창출과 함께 문재인 정부 주요 국정 과제인 데도 우선순위에서 밀렸다는 지적 통합 개혁 행보에서 빠른 움직임을 보였지만 4차 산업혁명 등 신성장동력 창출에서는 한 발짝도 못 나갔다는 평입니다    미래창조과학부가 주최하고 전자신문사  한국경제신문  한국정보통신진흥협회 KAIT  주관으로 24일 서울 강남구 삼성동 코엑스에서 개막된  월드IT쇼 WIS  2017 은 4차 산업혁명이 더 이상 개념이 아니라 현실로 다가왔음을 입증했습니다   전자신문TV 라이브 예고  이번 전자신문TV는 4차 산업혁명과 과학기술 영상컨퍼런스를 생중계합니다   광운대학교 이승현 교수님을 모시고 진행하는 이번 행사는 VR  AR 기술과 몰힙형 미디어에 대해 설명해 주신다고 합니다   이번 행사는 전자신문 Entertainment와 가상현실 스튜디오 솔루션을 제작한 다림비젼  중견기업TV와 함께  4차 산업 정보 채널 IBSB IT Tech    Business SNS Broadcast 를 통해 진행합니다   IBSB는 전세계 4차 산업 혁명의 현장의 생생한 IT 소식과 정보  컨퍼런스의 강연  VOD정보를 VR 기술과 원격 Live방송 기술을 중심으로 시간과 거리를 초월하는 실시간 TELE Presentation 기술의 새로운 방송 서비스입니다   이런 유익한 강의를 전자신문 페이스북을 통해서 시청하실 수 있습니다  많은 관심부탁드립니다  대선 국면이지만 법안의 시급성 때문에 4차 산업혁명 대비 법제 개편 논의가 불붙을 전망입니다    4차 산업혁명 시대 대비      4차산업혁명 의 이해 Mastering the Fourth Industrial Revolution      23일 폐막한  다보스포럼 에서는  4차 산업혁명 기대와 우려가 교차했는데요  구글  애플  페이스북  삼성전자  LG전자가 앞다퉈 4차 산업혁명 흐름에 뛰어 들고 있습니다  \n"
          ]
        }
      ]
    },
    {
      "cell_type": "code",
      "source": [
        "# 명사 단어 추출\n",
        "# 카운트 딕셔너리 확인\n",
        "# 10위 확인\n",
        "noun = okt.nouns(all_data)"
      ],
      "metadata": {
        "id": "M8Hoc0cnyCNT"
      },
      "execution_count": null,
      "outputs": []
    },
    {
      "cell_type": "code",
      "source": [
        "count3 = Counter(noun)\n",
        "count3"
      ],
      "metadata": {
        "colab": {
          "base_uri": "https://localhost:8080/"
        },
        "id": "eBdLkLZYyMT5",
        "outputId": "69f2d207-4f81-4a5b-eded-3ee68aeb2fff"
      },
      "execution_count": null,
      "outputs": [
        {
          "output_type": "execute_result",
          "data": {
            "text/plain": [
              "Counter({'가상': 1,\n",
              "         '가상현실': 1,\n",
              "         '가장': 2,\n",
              "         '간판': 1,\n",
              "         '강': 2,\n",
              "         '강남구': 1,\n",
              "         '강연': 1,\n",
              "         '강의': 1,\n",
              "         '강점': 1,\n",
              "         '강조': 1,\n",
              "         '강추': 1,\n",
              "         '개념': 1,\n",
              "         '개막': 1,\n",
              "         '개최': 1,\n",
              "         '개편': 1,\n",
              "         '개혁': 1,\n",
              "         '거리': 1,\n",
              "         '격인': 1,\n",
              "         '경쟁력': 2,\n",
              "         '경제': 1,\n",
              "         '경험': 1,\n",
              "         '공공기관': 2,\n",
              "         '공무원': 1,\n",
              "         '공약': 1,\n",
              "         '공통': 1,\n",
              "         '과': 1,\n",
              "         '과정': 2,\n",
              "         '과제': 2,\n",
              "         '과학기술': 1,\n",
              "         '관련': 1,\n",
              "         '관심': 1,\n",
              "         '광운대': 1,\n",
              "         '교수': 1,\n",
              "         '교육': 2,\n",
              "         '교차': 1,\n",
              "         '구글': 1,\n",
              "         '구현': 2,\n",
              "         '국내': 2,\n",
              "         '국면': 1,\n",
              "         '국정': 2,\n",
              "         '그': 1,\n",
              "         '금융': 1,\n",
              "         '급': 1,\n",
              "         '기대': 1,\n",
              "         '기술': 8,\n",
              "         '기업': 3,\n",
              "         '꼽': 1,\n",
              "         '나라': 1,\n",
              "         '노력': 3,\n",
              "         '논의': 1,\n",
              "         '다림': 1,\n",
              "         '다보스': 1,\n",
              "         '대비': 2,\n",
              "         '대선': 1,\n",
              "         '대응': 3,\n",
              "         '대치동': 1,\n",
              "         '대표': 2,\n",
              "         '대표이사': 2,\n",
              "         '대한': 1,\n",
              "         '대해': 1,\n",
              "         '더': 1,\n",
              "         '도시': 1,\n",
              "         '도전': 1,\n",
              "         '동력': 1,\n",
              "         '등': 3,\n",
              "         '때문': 1,\n",
              "         '라이브': 7,\n",
              "         '렬': 1,\n",
              "         '로': 1,\n",
              "         '로봇': 3,\n",
              "         '를': 2,\n",
              "         '리서치': 1,\n",
              "         '마련': 1,\n",
              "         '만구': 2,\n",
              "         '만남': 1,\n",
              "         '모두': 1,\n",
              "         '모든': 1,\n",
              "         '모시': 2,\n",
              "         '몰힙형': 1,\n",
              "         '못': 1,\n",
              "         '문재인': 1,\n",
              "         '문제': 1,\n",
              "         '미디어': 1,\n",
              "         '미래': 3,\n",
              "         '미래창조과학부': 1,\n",
              "         '및': 1,\n",
              "         '발굴': 1,\n",
              "         '발짝': 1,\n",
              "         '방송': 3,\n",
              "         '방향': 1,\n",
              "         '법안': 1,\n",
              "         '법제': 1,\n",
              "         '베이': 1,\n",
              "         '변화': 3,\n",
              "         '보련': 1,\n",
              "         '보통신': 1,\n",
              "         '부처': 1,\n",
              "         '분석': 1,\n",
              "         '분야': 1,\n",
              "         '불': 1,\n",
              "         '블록': 1,\n",
              "         '비젼': 1,\n",
              "         '비즈니스': 1,\n",
              "         '빅데이터': 2,\n",
              "         '사례': 2,\n",
              "         '사회': 3,\n",
              "         '산업': 10,\n",
              "         '산업혁명': 22,\n",
              "         '산학': 1,\n",
              "         '삼성': 1,\n",
              "         '삼성동': 1,\n",
              "         '생각': 1,\n",
              "         '생중계': 1,\n",
              "         '생태계': 1,\n",
              "         '서비스': 2,\n",
              "         '서울': 3,\n",
              "         '선도': 1,\n",
              "         '설명': 1,\n",
              "         '성장': 1,\n",
              "         '성장동력': 1,\n",
              "         '세대': 1,\n",
              "         '센터': 1,\n",
              "         '소셜': 2,\n",
              "         '소식': 1,\n",
              "         '소프트웨어': 2,\n",
              "         '손': 1,\n",
              "         '솔루션': 1,\n",
              "         '쇼': 1,\n",
              "         '수': 1,\n",
              "         '수석': 1,\n",
              "         '순위': 1,\n",
              "         '스튜디오': 1,\n",
              "         '스파크': 3,\n",
              "         '시간': 3,\n",
              "         '시급': 1,\n",
              "         '시대': 7,\n",
              "         '시작': 1,\n",
              "         '시청': 2,\n",
              "         '신문': 1,\n",
              "         '신문사': 1,\n",
              "         '실시간': 1,\n",
              "         '실험': 1,\n",
              "         '알파': 1,\n",
              "         '앞': 1,\n",
              "         '애플': 1,\n",
              "         '역량': 1,\n",
              "         '영국': 2,\n",
              "         '영상': 1,\n",
              "         '예고': 1,\n",
              "         '우려': 1,\n",
              "         '우리': 2,\n",
              "         '우리나라': 1,\n",
              "         '우선': 1,\n",
              "         '움직임': 1,\n",
              "         '웍스': 2,\n",
              "         '원격': 1,\n",
              "         '월드': 1,\n",
              "         '위': 5,\n",
              "         '위해': 2,\n",
              "         '윤석': 2,\n",
              "         '은': 1,\n",
              "         '음': 1,\n",
              "         '의': 1,\n",
              "         '이': 1,\n",
              "         '이노': 1,\n",
              "         '이동통신': 1,\n",
              "         '이번': 6,\n",
              "         '이상': 1,\n",
              "         '이슈': 2,\n",
              "         '이승현': 1,\n",
              "         '이야기': 1,\n",
              "         '이해': 1,\n",
              "         '인공': 1,\n",
              "         '일상': 1,\n",
              "         '일자리': 5,\n",
              "         '입증': 1,\n",
              "         '자리': 1,\n",
              "         '자신': 1,\n",
              "         '재': 1,\n",
              "         '전략': 1,\n",
              "         '전망': 1,\n",
              "         '전문가': 1,\n",
              "         '전반': 1,\n",
              "         '전세계': 1,\n",
              "         '전자': 3,\n",
              "         '전자신문': 13,\n",
              "         '점검': 1,\n",
              "         '정보': 3,\n",
              "         '정부': 1,\n",
              "         '제': 2,\n",
              "         '제기': 1,\n",
              "         '제작': 1,\n",
              "         '조성': 1,\n",
              "         '조직': 4,\n",
              "         '주관': 1,\n",
              "         '주요': 2,\n",
              "         '주최': 1,\n",
              "         '주형': 3,\n",
              "         '중': 1,\n",
              "         '중견': 1,\n",
              "         '중소기업': 2,\n",
              "         '중심': 1,\n",
              "         '중앙': 1,\n",
              "         '지능': 1,\n",
              "         '지원': 1,\n",
              "         '지윤': 2,\n",
              "         '지적': 1,\n",
              "         '지혜': 1,\n",
              "         '직': 1,\n",
              "         '직문': 1,\n",
              "         '직업': 10,\n",
              "         '진행': 4,\n",
              "         '진흥': 6,\n",
              "         '차': 23,\n",
              "         '창': 5,\n",
              "         '채널': 1,\n",
              "         '철': 3,\n",
              "         '체인': 1,\n",
              "         '초월': 1,\n",
              "         '최고': 2,\n",
              "         '최근': 1,\n",
              "         '최신': 1,\n",
              "         '컨퍼런스': 2,\n",
              "         '코엑스': 1,\n",
              "         '터': 4,\n",
              "         '터뷰': 1,\n",
              "         '테스': 2,\n",
              "         '테스트': 2,\n",
              "         '통찰': 1,\n",
              "         '통합': 1,\n",
              "         '통해': 4,\n",
              "         '트렌드': 1,\n",
              "         '팀': 2,\n",
              "         '페이스북': 2,\n",
              "         '평': 1,\n",
              "         '평가': 1,\n",
              "         '폐막': 1,\n",
              "         '포럼': 5,\n",
              "         '학교': 1,\n",
              "         '한국': 2,\n",
              "         '해결': 1,\n",
              "         '해법': 1,\n",
              "         '핵심': 1,\n",
              "         '행보': 1,\n",
              "         '행사': 2,\n",
              "         '혁명': 1,\n",
              "         '혁신': 1,\n",
              "         '현': 1,\n",
              "         '현실': 1,\n",
              "         '현장': 2,\n",
              "         '협회': 1,\n",
              "         '혹시': 1,\n",
              "         '화폐': 1,\n",
              "         '확보': 1,\n",
              "         '확산': 1,\n",
              "         '활성화': 1,\n",
              "         '활용': 2,\n",
              "         '흐름': 2})"
            ]
          },
          "metadata": {},
          "execution_count": 18
        }
      ]
    },
    {
      "cell_type": "code",
      "source": [
        "word_count3 = dict()\n",
        "for tag, count in count3.most_common(10):\n",
        "    if(len(str(tag)) > 1):\n",
        "        word_count2[tag] = count\n",
        "word_count3"
      ],
      "metadata": {
        "colab": {
          "base_uri": "https://localhost:8080/"
        },
        "id": "JKBUuJrj7VsC",
        "outputId": "9724c357-46a1-4298-a332-912d198f0bbd"
      },
      "execution_count": null,
      "outputs": [
        {
          "output_type": "execute_result",
          "data": {
            "text/plain": [
              "{'기술': 8,\n",
              " '라이브': 7,\n",
              " '산업': 10,\n",
              " '산업혁명': 22,\n",
              " '시대': 7,\n",
              " '이번': 6,\n",
              " '전자신문': 13,\n",
              " '직업': 10,\n",
              " '진흥': 6}"
            ]
          },
          "metadata": {},
          "execution_count": 26
        }
      ]
    },
    {
      "cell_type": "code",
      "source": [
        "# colab에 한글 폰트 설치 \n",
        "\n",
        "# !sudo apt-get install -y fonts-nanum\n",
        "# !sudo fc-cache -fv\n",
        "# !rm ~/.cache/matplotlib -rf\n",
        "\n"
      ],
      "metadata": {
        "id": "Aw6HPXa50frM"
      },
      "execution_count": null,
      "outputs": []
    },
    {
      "cell_type": "code",
      "source": [
        "plt.rc('font', family = 'NanumGothic')"
      ],
      "metadata": {
        "id": "MnsqjyFX2zT9"
      },
      "execution_count": null,
      "outputs": []
    },
    {
      "cell_type": "code",
      "source": [
        "plt.figure(figsize=(12,5))\n",
        "plt.xlabel='키워드'\n",
        "plt.ylabel='빈도수'\n",
        "plt.grid(True)\n",
        "\n",
        "\n",
        "plt.bar(range(len(word_count3)), word_count3.values())\n",
        "plt.xticks(range(len(word_count3)), word_count3.keys(), rotation ='85')\n",
        "plt.show()"
      ],
      "metadata": {
        "colab": {
          "base_uri": "https://localhost:8080/",
          "height": 348
        },
        "id": "O5T1lg7858V9",
        "outputId": "ab93dbdd-2bc2-4b8e-c643-bd156cdc13e5"
      },
      "execution_count": null,
      "outputs": [
        {
          "output_type": "display_data",
          "data": {
            "image/png": "[encoded data removed]",
            "text/plain": [
              "<Figure size 864x360 with 1 Axes>"
            ]
          },
          "metadata": {
            "needs_background": "light"
          }
        }
      ]
    },
    {
      "cell_type": "code",
      "source": [
        ""
      ],
      "metadata": {
        "id": "YMdUMj3L79Mw"
      },
      "execution_count": null,
      "outputs": []
    },
    {
      "cell_type": "code",
      "source": [
        "file_mk ='/content/www.mk.co.kr-rss-40300001-.json'\n",
        "mk_rss = json.loads(open(file_mk, 'r', encoding='utf-8-sig').read())\n",
        "# 읽기 stream = 'r', 쓰기 stream\n",
        "\n",
        "mk_rss"
      ],
      "metadata": {
        "colab": {
          "base_uri": "https://localhost:8080/"
        },
        "id": "Ho6EqM9U8c0Y",
        "outputId": "5271f921-fca5-48bd-a3b6-5ceba0bd7ef1"
      },
      "execution_count": null,
      "outputs": [
        {
          "output_type": "execute_result",
          "data": {
            "text/plain": [
              "{'feed': {'author': '',\n",
              "  'description': '매일경제 : 전체뉴스',\n",
              "  'image': '',\n",
              "  'link': 'https://www.mk.co.kr/',\n",
              "  'title': '매일경제 : 전체뉴스',\n",
              "  'url': 'https://www.mk.co.kr/rss/40300001/'},\n",
              " 'items': [{'author': '매일경제',\n",
              "   'categories': ['전체뉴스'],\n",
              "   'content': '윤석열 국민의힘 대선 후보 부인인 김건희 코바나컨텐츠 대표는 15일 국민 여러분께 심려를 끼쳐 드린 점에 대해 사과할 의향이 있다고 밝혔다.김 대표는 이날 서울 서초구 코바나컨텐츠 사무실 앞에서 연합뉴스 ..',\n",
              "   'description': '윤석열 국민의힘 대선 후보 부인인 김건희 코바나컨텐츠 대표는 15일 국민 여러분께 심려를 끼쳐 드린 점에 대해 사과할 의향이 있다고 밝혔다.김 대표는 이날 서울 서초구 코바나컨텐츠 사무실 앞에서 연합뉴스 ..',\n",
              "   'enclosure': {},\n",
              "   'guid': '3afdd80877b1b6e0b9853d6392382c56',\n",
              "   'link': 'https://www.mk.co.kr/news/politics/view/2021/12/1138011/',\n",
              "   'pubDate': '2021-12-15 06:31:28',\n",
              "   'thumbnail': '',\n",
              "   'title': '김건희 \"국민께 심려끼쳐…사과 의향 있다\"'},\n",
              "  {'author': '매일경제',\n",
              "   'categories': ['전체뉴스'],\n",
              "   'content': '자신의 부인과 바람을 피웠던 남성과 다투는 과정에서 급소를 때려 숨지게 한 40대 남성이 징역 2년을 선고받았다.광주지법 형사12부(노재호 부장판사)는 폭행치사 혐의로 재판에 넘겨진 A(48)씨에게 징역 2년을 ..',\n",
              "   'description': '자신의 부인과 바람을 피웠던 남성과 다투는 과정에서 급소를 때려 숨지게 한 40대 남성이 징역 2년을 선고받았다.광주지법 형사12부(노재호 부장판사)는 폭행치사 혐의로 재판에 넘겨진 A(48)씨에게 징역 2년을 ..',\n",
              "   'enclosure': {},\n",
              "   'guid': '8f0b73519233d3dda74a05587a766088',\n",
              "   'link': 'https://www.mk.co.kr/news/society/view/2021/12/1137769/',\n",
              "   'pubDate': '2021-12-15 05:26:42',\n",
              "   'thumbnail': '',\n",
              "   'title': '\"네가 여기서 왜나와\"…남편, 아내내연남 급소차 살인'},\n",
              "  {'author': '매일경제',\n",
              "   'categories': ['전체뉴스'],\n",
              "   'content': \"'현금 2억만 있으면 A재개발 구역 내집 마련 가능', ’B재개발 빌라 매물 강추(조합원 자격 취득)'오세훈 표 신속통합기획 재개발 공모가 시민들의 높은 호응 속에 흥행 가도를 달리고 있는 가운데 시장 과열을 부..\",\n",
              "   'description': \"'현금 2억만 있으면 A재개발 구역 내집 마련 가능', ’B재개발 빌라 매물 강추(조합원 자격 취득)'오세훈 표 신속통합기획 재개발 공모가 시민들의 높은 호응 속에 흥행 가도를 달리고 있는 가운데 시장 과열을 부..\",\n",
              "   'enclosure': {},\n",
              "   'guid': 'f71ca63654607e0c67a6c938a90eabd5',\n",
              "   'link': 'https://www.mk.co.kr/news/realestate/view/2021/12/1137357/',\n",
              "   'pubDate': '2021-12-15 02:44:01',\n",
              "   'thumbnail': '',\n",
              "   'title': '서울시 신통기획 재개발 교란행위 곳곳에서 포착'},\n",
              "  {'author': '매일경제',\n",
              "   'categories': ['전체뉴스'],\n",
              "   'content': '[김현정 매경닷컴 기자][ⓒ 매일경제 &amp; mk.co.kr, 무단전재 및 재배포 금지]',\n",
              "   'description': '[김현정 매경닷컴 기자][ⓒ 매일경제 &amp; mk.co.kr, 무단전재 및 재배포 금지]',\n",
              "   'enclosure': {},\n",
              "   'guid': 'a15c00cd5f9e3e204acc96450948bcb8',\n",
              "   'link': 'https://www.mk.co.kr/news/politics/view/2021/12/1138080/',\n",
              "   'pubDate': '2021-12-15 06:49:45',\n",
              "   'thumbnail': '',\n",
              "   'title': '정부, 손실보상 시행령 개정…인원제한 포함키로'},\n",
              "  {'author': '매일경제',\n",
              "   'categories': ['전체뉴스'],\n",
              "   'content': '15일 2022학년도 대학수학능력시험(수능) 출제오류가 법정에서 인정되면서 출제기관인 한국교육과정평가원이 생명과학Ⅱ 20번 문항을 전원 정답 처리해 채점한 성적을 오후 6시부터 제공한다.    평가원은 이번 ..',\n",
              "   'description': '15일 2022학년도 대학수학능력시험(수능) 출제오류가 법정에서 인정되면서 출제기관인 한국교육과정평가원이 생명과학Ⅱ 20번 문항을 전원 정답 처리해 채점한 성적을 오후 6시부터 제공한다.    평가원은 이번 ..',\n",
              "   'enclosure': {},\n",
              "   'guid': '76107c1006c96b2c2b45cf81630d2467',\n",
              "   'link': 'https://www.mk.co.kr/news/society/view/2021/12/1138081/',\n",
              "   'pubDate': '2021-12-15 06:49:12',\n",
              "   'thumbnail': '',\n",
              "   'title': \"'오류인정' 수능 생명과학Ⅱ 문항 전원 정답처리\"},\n",
              "  {'author': '매일경제',\n",
              "   'categories': ['전체뉴스'],\n",
              "   'content': '정부는 15일 유진규 울산경찰청장을 인천경찰청장으로, 최승렬 강원경찰청장을 경기남부경찰청장으로 내정하는 등 치안정감 인사를 단행했다.    윤희근 경찰청 자치경찰협력정책관, 유재성 경찰청 과학수사관리..',\n",
              "   'description': '정부는 15일 유진규 울산경찰청장을 인천경찰청장으로, 최승렬 강원경찰청장을 경기남부경찰청장으로 내정하는 등 치안정감 인사를 단행했다.    윤희근 경찰청 자치경찰협력정책관, 유재성 경찰청 과학수사관리..',\n",
              "   'enclosure': {},\n",
              "   'guid': '99ff8e3162439825cfe3400793e1aee6',\n",
              "   'link': 'https://www.mk.co.kr/news/society/view/2021/12/1137755/',\n",
              "   'pubDate': '2021-12-15 05:23:31',\n",
              "   'thumbnail': '',\n",
              "   'title': '인천경찰청장 유진규·경기남부경찰청장 최승렬'},\n",
              "  {'author': '매일경제',\n",
              "   'categories': ['전체뉴스'],\n",
              "   'content': '라임자산운용(이하 라임) 관련 로비 혐의가 1심에서 유죄로 인정돼 징역 3년의 실형을 선고받은 윤갑근 전 고검장이 항소심에서 무죄를 선고받고 석방됐다.    서울고법 형사1-1부(이승련 엄상필 심담 부장판사)..',\n",
              "   'description': '라임자산운용(이하 라임) 관련 로비 혐의가 1심에서 유죄로 인정돼 징역 3년의 실형을 선고받은 윤갑근 전 고검장이 항소심에서 무죄를 선고받고 석방됐다.    서울고법 형사1-1부(이승련 엄상필 심담 부장판사)..',\n",
              "   'enclosure': {},\n",
              "   'guid': '2f32e3ff75eab3e12b237b83e3b8f31c',\n",
              "   'link': 'https://www.mk.co.kr/news/society/view/2021/12/1137633/',\n",
              "   'pubDate': '2021-12-15 05:00:27',\n",
              "   'thumbnail': '',\n",
              "   'title': \"'라임 로비' 윤갑근 전 고검장 항소심서 무죄\"},\n",
              "  {'author': '매일경제',\n",
              "   'categories': ['전체뉴스'],\n",
              "   'content': '청와대가 더불어민주당 이재명 대선후보가 제안한 다주택자 양도세 중과의 한시적 유예 방안과 관련해 민주당 측에 반대 입장을 전달했다.     여당 대선후보의 정책 제안에 대해 청와대가 거듭 제동을 거는 모양..',\n",
              "   'description': '청와대가 더불어민주당 이재명 대선후보가 제안한 다주택자 양도세 중과의 한시적 유예 방안과 관련해 민주당 측에 반대 입장을 전달했다.     여당 대선후보의 정책 제안에 대해 청와대가 거듭 제동을 거는 모양..',\n",
              "   'enclosure': {},\n",
              "   'guid': '7d8daff65f5b69f0b4679189fef34ffa',\n",
              "   'link': 'https://www.mk.co.kr/news/politics/view/2021/12/1137985/',\n",
              "   'pubDate': '2021-12-15 06:24:26',\n",
              "   'thumbnail': '',\n",
              "   'title': \"靑 '다주택자 양도세 완화 반대' 與에 전달\"},\n",
              "  {'author': '매일경제',\n",
              "   'categories': ['전체뉴스'],\n",
              "   'content': '최근 메타버스와 대체불가토큰(NFT) 관련 종목들이 고점을 찍고 하락세를 보이고 있다. 관련 테마 상품인 ETF 역시 수익률이 갈수록 떨어지고 있다.15일 한국거래소에 따르면 대표적인 메타버스 관련주인 위지윅스튜..',\n",
              "   'description': '최근 메타버스와 대체불가토큰(NFT) 관련 종목들이 고점을 찍고 하락세를 보이고 있다. 관련 테마 상품인 ETF 역시 수익률이 갈수록 떨어지고 있다.15일 한국거래소에 따르면 대표적인 메타버스 관련주인 위지윅스튜..',\n",
              "   'enclosure': {},\n",
              "   'guid': '28f4b95540d01b4df53a5b6457d4ee69',\n",
              "   'link': 'https://www.mk.co.kr/news/stock/view/2021/12/1137903/',\n",
              "   'pubDate': '2021-12-15 06:03:09',\n",
              "   'thumbnail': '',\n",
              "   'title': '\"사자마자 손절\"…메타버스·NFT 담은 개미들 속탄다'},\n",
              "  {'author': '매일경제',\n",
              "   'categories': ['전체뉴스'],\n",
              "   'content': '속옷 차림으로 등장해 항공사 승무원 유니폼과 유사한 의상을 직접 입으면서 소개하는 룩북 영상으로 화제가 됐던 여성 유튜버 A씨가 악플에 대해 법적 대응을 하겠다고 밝혔다.유튜버 A씨는 15일 자신의 유튜브 ..',\n",
              "   'description': '속옷 차림으로 등장해 항공사 승무원 유니폼과 유사한 의상을 직접 입으면서 소개하는 룩북 영상으로 화제가 됐던 여성 유튜버 A씨가 악플에 대해 법적 대응을 하겠다고 밝혔다.유튜버 A씨는 15일 자신의 유튜브 ..',\n",
              "   'enclosure': {},\n",
              "   'guid': 'f90e3891c931c65241d7b7fec84ff256',\n",
              "   'link': 'https://www.mk.co.kr/news/society/view/2021/12/1137836/',\n",
              "   'pubDate': '2021-12-15 05:49:05',\n",
              "   'thumbnail': '',\n",
              "   'title': '\"수치심 느껴\"…승무원 룩북 유튜버, 악플 법적 대응'}],\n",
              " 'status': 'ok'}"
            ]
          },
          "metadata": {},
          "execution_count": 35
        }
      ]
    },
    {
      "cell_type": "code",
      "source": [
        "mk_data = mk_rss['items']\n",
        "mk_article=''\n",
        "for item in mk_data :\n",
        "  if 'content' in item.keys() :\n",
        "    mk_article = mk_article + re.sub(r'[^\\w]',' ', item['content']) + \" \"\n",
        "print(mk_article)"
      ],
      "metadata": {
        "colab": {
          "base_uri": "https://localhost:8080/"
        },
        "id": "CD_kNxcI-vEw",
        "outputId": "dce63f49-2908-40f5-bbfe-7e1336630c86"
      },
      "execution_count": null,
      "outputs": [
        {
          "output_type": "stream",
          "name": "stdout",
          "text": [
            "윤석열 국민의힘 대선 후보 부인인 김건희 코바나컨텐츠 대표는 15일 국민 여러분께 심려를 끼쳐 드린 점에 대해 사과할 의향이 있다고 밝혔다 김 대표는 이날 서울 서초구 코바나컨텐츠 사무실 앞에서 연합뉴스    자신의 부인과 바람을 피웠던 남성과 다투는 과정에서 급소를 때려 숨지게 한 40대 남성이 징역 2년을 선고받았다 광주지법 형사12부 노재호 부장판사 는 폭행치사 혐의로 재판에 넘겨진 A 48 씨에게 징역 2년을     현금 2억만 있으면 A재개발 구역 내집 마련 가능    B재개발 빌라 매물 강추 조합원 자격 취득  오세훈 표 신속통합기획 재개발 공모가 시민들의 높은 호응 속에 흥행 가도를 달리고 있는 가운데 시장 과열을 부    김현정 매경닷컴 기자    매일경제  amp  mk co kr  무단전재 및 재배포 금지  15일 2022학년도 대학수학능력시험 수능  출제오류가 법정에서 인정되면서 출제기관인 한국교육과정평가원이 생명과학Ⅱ 20번 문항을 전원 정답 처리해 채점한 성적을 오후 6시부터 제공한다     평가원은 이번    정부는 15일 유진규 울산경찰청장을 인천경찰청장으로  최승렬 강원경찰청장을 경기남부경찰청장으로 내정하는 등 치안정감 인사를 단행했다     윤희근 경찰청 자치경찰협력정책관  유재성 경찰청 과학수사관리   라임자산운용 이하 라임  관련 로비 혐의가 1심에서 유죄로 인정돼 징역 3년의 실형을 선고받은 윤갑근 전 고검장이 항소심에서 무죄를 선고받고 석방됐다     서울고법 형사1 1부 이승련 엄상필 심담 부장판사    청와대가 더불어민주당 이재명 대선후보가 제안한 다주택자 양도세 중과의 한시적 유예 방안과 관련해 민주당 측에 반대 입장을 전달했다      여당 대선후보의 정책 제안에 대해 청와대가 거듭 제동을 거는 모양   최근 메타버스와 대체불가토큰 NFT  관련 종목들이 고점을 찍고 하락세를 보이고 있다  관련 테마 상품인 ETF 역시 수익률이 갈수록 떨어지고 있다 15일 한국거래소에 따르면 대표적인 메타버스 관련주인 위지윅스튜   속옷 차림으로 등장해 항공사 승무원 유니폼과 유사한 의상을 직접 입으면서 소개하는 룩북 영상으로 화제가 됐던 여성 유튜버 A씨가 악플에 대해 법적 대응을 하겠다고 밝혔다 유튜버 A씨는 15일 자신의 유튜브    \n"
          ]
        }
      ]
    },
    {
      "cell_type": "code",
      "source": [
        "noun_article = okt.nouns(mk_article)"
      ],
      "metadata": {
        "id": "R1ojeB26BIWb"
      },
      "execution_count": null,
      "outputs": []
    },
    {
      "cell_type": "code",
      "source": [
        "# noun_article"
      ],
      "metadata": {
        "id": "nQKY8fpQBFbB"
      },
      "execution_count": null,
      "outputs": []
    },
    {
      "cell_type": "code",
      "source": [
        "count4 = Counter(noun_article)"
      ],
      "metadata": {
        "id": "3C0eg0MDBmJ6"
      },
      "execution_count": null,
      "outputs": []
    },
    {
      "cell_type": "code",
      "source": [
        "# count4"
      ],
      "metadata": {
        "id": "QKyD1ZXDBtHR"
      },
      "execution_count": null,
      "outputs": []
    },
    {
      "cell_type": "code",
      "source": [
        "word_count4 =dict()\n",
        "for tag, count in count4.most_common(15):\n",
        "  if (len(str(tag))>1) :\n",
        "    word_count4[tag] = count\n",
        "word_count4\n",
        "\n"
      ],
      "metadata": {
        "colab": {
          "base_uri": "https://localhost:8080/"
        },
        "id": "ajhgNOr9By7p",
        "outputId": "0940fb65-6bf5-40b4-b1eb-fa3ee86b99d7"
      },
      "execution_count": null,
      "outputs": [
        {
          "output_type": "execute_result",
          "data": {
            "text/plain": [
              "{'경찰청장': 4,\n",
              " '관련': 5,\n",
              " '국민': 2,\n",
              " '대선': 3,\n",
              " '대표': 3,\n",
              " '대해': 3,\n",
              " '선고': 3,\n",
              " '재개발': 3,\n",
              " '징역': 3,\n",
              " '컨텐츠': 2,\n",
              " '코바': 2,\n",
              " '후보': 3}"
            ]
          },
          "metadata": {},
          "execution_count": 87
        }
      ]
    },
    {
      "cell_type": "code",
      "source": [
        "plt.figure(figsize=(12,5))\n",
        "plt.xlabel='키워드'\n",
        "plt.ylabel='빈도수'\n",
        "plt.grid(True)\n",
        "\n",
        "plt.bar(range(len(word_count4)), word_count4.values())\n",
        "plt.xticks(range(len(word_count4)), word_count4.keys(), rotation ='85')\n",
        "plt.show()"
      ],
      "metadata": {
        "colab": {
          "base_uri": "https://localhost:8080/",
          "height": 348
        },
        "id": "BajOt8wABu7Z",
        "outputId": "e80dd1e3-b265-4320-8c68-44339c7cf5da"
      },
      "execution_count": null,
      "outputs": [
        {
          "output_type": "display_data",
          "data": {
            "image/png": "[encoded data removed]",
            "text/plain": [
              "<Figure size 864x360 with 1 Axes>"
            ]
          },
          "metadata": {
            "needs_background": "light"
          }
        }
      ]
    }
  ]
}