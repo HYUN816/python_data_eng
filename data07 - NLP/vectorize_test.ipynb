{
  "nbformat": 4,
  "nbformat_minor": 0,
  "metadata": {
    "colab": {
      "name": "vectorize_test.ipynb",
      "provenance": [],
      "collapsed_sections": [],
      "authorship_tag": "ABX9TyOkKPmyQE7ShQc5r/fRgJ9G"
    },
    "kernelspec": {
      "name": "python3",
      "display_name": "Python 3"
    },
    "language_info": {
      "name": "python"
    }
  },
  "cells": [
    {
      "cell_type": "code",
      "execution_count": null,
      "metadata": {
        "id": "z1bwN6b6xyPz"
      },
      "outputs": [],
      "source": [
        "from sklearn.feature_extraction.text import TfidfVectorizer, CountVectorizer"
      ]
    },
    {
      "cell_type": "code",
      "source": [
        "# 말뭉치 만들기\n",
        "\n",
        "corpus = [\"you konw I want your love\",\n",
        "          \"l like you\",\n",
        "          \"what should I do\",\n",
        "          \"I hate you\",\n",
        "          \"smile face\"\n",
        "          ]"
      ],
      "metadata": {
        "id": "lENg9eI_yiqb"
      },
      "execution_count": null,
      "outputs": []
    },
    {
      "cell_type": "code",
      "source": [
        "cv = CountVectorizer()"
      ],
      "metadata": {
        "id": "mmwwwsIyzBXQ"
      },
      "execution_count": null,
      "outputs": []
    },
    {
      "cell_type": "code",
      "source": [
        "## 1. 사전 만들기 -> fit()\n",
        "## 2. 사전에 들어있는 id로 인코딩 -> transform()\n",
        "## 3. 1,2 을 함께 처리하고자 하는 경우는 fit_transform()"
      ],
      "metadata": {
        "id": "zwBqaI1X1rn-"
      },
      "execution_count": null,
      "outputs": []
    },
    {
      "cell_type": "code",
      "source": [
        "# 인코딩 : 데이터를 원하는 형태로 바꾸는 것 \n",
        "cv.fit_transform(corpus).toarray()"
      ],
      "metadata": {
        "colab": {
          "base_uri": "https://localhost:8080/"
        },
        "id": "YL3vzJKO0bGw",
        "outputId": "6f057847-fd24-4182-82dc-2beefee41fe9"
      },
      "execution_count": null,
      "outputs": [
        {
          "output_type": "execute_result",
          "data": {
            "text/plain": [
              "array([[0, 0, 0, 1, 0, 1, 0, 0, 1, 0, 1, 1],\n",
              "       [0, 0, 0, 0, 1, 0, 0, 0, 0, 0, 1, 0],\n",
              "       [1, 0, 0, 0, 0, 0, 1, 0, 0, 1, 0, 0],\n",
              "       [0, 0, 1, 0, 0, 0, 0, 0, 0, 0, 1, 0],\n",
              "       [0, 1, 0, 0, 0, 0, 0, 1, 0, 0, 0, 0]])"
            ]
          },
          "metadata": {},
          "execution_count": 74
        }
      ]
    },
    {
      "cell_type": "code",
      "source": [
        "cv.vocabulary_"
      ],
      "metadata": {
        "colab": {
          "base_uri": "https://localhost:8080/"
        },
        "id": "3WpZwPzz1Lw5",
        "outputId": "c78eddcd-7d59-4a52-9470-3bc1f150077c"
      },
      "execution_count": null,
      "outputs": [
        {
          "output_type": "execute_result",
          "data": {
            "text/plain": [
              "{'do': 0,\n",
              " 'face': 1,\n",
              " 'hate': 2,\n",
              " 'konw': 3,\n",
              " 'like': 4,\n",
              " 'love': 5,\n",
              " 'should': 6,\n",
              " 'smile': 7,\n",
              " 'want': 8,\n",
              " 'what': 9,\n",
              " 'you': 10,\n",
              " 'your': 11}"
            ]
          },
          "metadata": {},
          "execution_count": 75
        }
      ]
    },
    {
      "cell_type": "code",
      "source": [
        "tfidf = TfidfVectorizer()"
      ],
      "metadata": {
        "id": "jW7goE-F07j0"
      },
      "execution_count": null,
      "outputs": []
    },
    {
      "cell_type": "code",
      "source": [
        "tfidf.fit(corpus)"
      ],
      "metadata": {
        "colab": {
          "base_uri": "https://localhost:8080/"
        },
        "id": "HfSmJjc82Il_",
        "outputId": "eb854bf9-3f04-4e45-e74f-467e3ee79703"
      },
      "execution_count": null,
      "outputs": [
        {
          "output_type": "execute_result",
          "data": {
            "text/plain": [
              "TfidfVectorizer()"
            ]
          },
          "metadata": {},
          "execution_count": 77
        }
      ]
    },
    {
      "cell_type": "code",
      "source": [
        "tfidf.transform(corpus)"
      ],
      "metadata": {
        "colab": {
          "base_uri": "https://localhost:8080/"
        },
        "id": "DcGjnX3i220x",
        "outputId": "7040e845-bd63-40d2-aea9-f8b15e8ccc44"
      },
      "execution_count": null,
      "outputs": [
        {
          "output_type": "execute_result",
          "data": {
            "text/plain": [
              "<5x12 sparse matrix of type '<class 'numpy.float64'>'\n",
              "\twith 14 stored elements in Compressed Sparse Row format>"
            ]
          },
          "metadata": {},
          "execution_count": 78
        }
      ]
    },
    {
      "cell_type": "code",
      "source": [
        "tfidf.transform(corpus).toarray()"
      ],
      "metadata": {
        "colab": {
          "base_uri": "https://localhost:8080/"
        },
        "id": "c5fBk3hyG_Px",
        "outputId": "3101b11a-2c51-4007-a6a7-96fccfa3d586"
      },
      "execution_count": null,
      "outputs": [
        {
          "output_type": "execute_result",
          "data": {
            "text/plain": [
              "array([[0.        , 0.        , 0.        , 0.47412465, 0.        ,\n",
              "        0.47412465, 0.        , 0.        , 0.47412465, 0.        ,\n",
              "        0.3175268 , 0.47412465],\n",
              "       [0.        , 0.        , 0.        , 0.        , 0.83088075,\n",
              "        0.        , 0.        , 0.        , 0.        , 0.        ,\n",
              "        0.55645052, 0.        ],\n",
              "       [0.57735027, 0.        , 0.        , 0.        , 0.        ,\n",
              "        0.        , 0.57735027, 0.        , 0.        , 0.57735027,\n",
              "        0.        , 0.        ],\n",
              "       [0.        , 0.        , 0.83088075, 0.        , 0.        ,\n",
              "        0.        , 0.        , 0.        , 0.        , 0.        ,\n",
              "        0.55645052, 0.        ],\n",
              "       [0.        , 0.70710678, 0.        , 0.        , 0.        ,\n",
              "        0.        , 0.        , 0.70710678, 0.        , 0.        ,\n",
              "        0.        , 0.        ]])"
            ]
          },
          "metadata": {},
          "execution_count": 79
        }
      ]
    },
    {
      "cell_type": "code",
      "source": [
        "sentence = ['i like like like hate smile']"
      ],
      "metadata": {
        "id": "0csNPc7u3HVa"
      },
      "execution_count": null,
      "outputs": []
    },
    {
      "cell_type": "code",
      "source": [
        "nd2array = cv.transform(sentence).toarray()\n",
        "nd2array"
      ],
      "metadata": {
        "colab": {
          "base_uri": "https://localhost:8080/"
        },
        "id": "UMcvMRr43a6p",
        "outputId": "f32db60b-bd52-4f22-8391-7301486a2bd5"
      },
      "execution_count": null,
      "outputs": [
        {
          "output_type": "execute_result",
          "data": {
            "text/plain": [
              "array([[0, 0, 1, 0, 3, 0, 0, 1, 0, 0, 0, 0]])"
            ]
          },
          "metadata": {},
          "execution_count": 81
        }
      ]
    },
    {
      "cell_type": "code",
      "source": [
        "nd2array[0]"
      ],
      "metadata": {
        "colab": {
          "base_uri": "https://localhost:8080/"
        },
        "id": "locLoD783hEq",
        "outputId": "1b4ecde2-8bb5-4d9c-c774-9c397b4ee640"
      },
      "execution_count": null,
      "outputs": [
        {
          "output_type": "execute_result",
          "data": {
            "text/plain": [
              "array([0, 0, 1, 0, 3, 0, 0, 1, 0, 0, 0, 0])"
            ]
          },
          "metadata": {},
          "execution_count": 82
        }
      ]
    },
    {
      "cell_type": "code",
      "source": [
        "nd2array2 = tfidf.transform(sentence).toarray()\n",
        "nd2array2"
      ],
      "metadata": {
        "colab": {
          "base_uri": "https://localhost:8080/"
        },
        "id": "oeibtF_X4A9d",
        "outputId": "d4c50a5a-992e-4178-8f9a-bceeea8382a3"
      },
      "execution_count": null,
      "outputs": [
        {
          "output_type": "execute_result",
          "data": {
            "text/plain": [
              "array([[0.        , 0.        , 0.30151134, 0.        , 0.90453403,\n",
              "        0.        , 0.        , 0.30151134, 0.        , 0.        ,\n",
              "        0.        , 0.        ]])"
            ]
          },
          "metadata": {},
          "execution_count": 83
        }
      ]
    },
    {
      "cell_type": "code",
      "source": [
        "cv.inverse_transform(nd2array)"
      ],
      "metadata": {
        "colab": {
          "base_uri": "https://localhost:8080/"
        },
        "id": "Nct8fkXC4WYW",
        "outputId": "c08d68d1-86d8-40de-9076-31822a310ff0"
      },
      "execution_count": null,
      "outputs": [
        {
          "output_type": "execute_result",
          "data": {
            "text/plain": [
              "[array(['hate', 'like', 'smile'], dtype='<U6')]"
            ]
          },
          "metadata": {},
          "execution_count": 84
        }
      ]
    },
    {
      "cell_type": "code",
      "source": [
        "tfidf.inverse_transform(nd2array2)"
      ],
      "metadata": {
        "colab": {
          "base_uri": "https://localhost:8080/"
        },
        "id": "5PpXLuYp4exk",
        "outputId": "f23bf00c-7e68-44b7-89b8-c868bce8233d"
      },
      "execution_count": null,
      "outputs": [
        {
          "output_type": "execute_result",
          "data": {
            "text/plain": [
              "[array(['hate', 'like', 'smile'], dtype='<U6')]"
            ]
          },
          "metadata": {},
          "execution_count": 85
        }
      ]
    },
    {
      "cell_type": "code",
      "source": [
        "feature_list = cv.get_feature_names()\n",
        "feature_list"
      ],
      "metadata": {
        "colab": {
          "base_uri": "https://localhost:8080/"
        },
        "id": "F4JqdkHQ4031",
        "outputId": "8482f63a-570c-4b66-9b96-b62bb1138c02"
      },
      "execution_count": null,
      "outputs": [
        {
          "output_type": "stream",
          "name": "stderr",
          "text": [
            "/usr/local/lib/python3.7/dist-packages/sklearn/utils/deprecation.py:87: FutureWarning: Function get_feature_names is deprecated; get_feature_names is deprecated in 1.0 and will be removed in 1.2. Please use get_feature_names_out instead.\n",
            "  warnings.warn(msg, category=FutureWarning)\n"
          ]
        },
        {
          "output_type": "execute_result",
          "data": {
            "text/plain": [
              "['do',\n",
              " 'face',\n",
              " 'hate',\n",
              " 'konw',\n",
              " 'like',\n",
              " 'love',\n",
              " 'should',\n",
              " 'smile',\n",
              " 'want',\n",
              " 'what',\n",
              " 'you',\n",
              " 'your']"
            ]
          },
          "metadata": {},
          "execution_count": 86
        }
      ]
    },
    {
      "cell_type": "code",
      "source": [
        "# dic <-- list\n",
        "\n",
        "dictionary = dict()"
      ],
      "metadata": {
        "id": "HhRfqa-d5KQ2"
      },
      "execution_count": null,
      "outputs": []
    },
    {
      "cell_type": "code",
      "source": [
        "for index, element in enumerate(feature_list) :\n",
        "  dictionary[index] = element\n",
        "dictionary"
      ],
      "metadata": {
        "id": "Qc6kpg2U5wqF",
        "colab": {
          "base_uri": "https://localhost:8080/"
        },
        "outputId": "58da6cfa-1979-4232-eb5e-5ac4a814d4c4"
      },
      "execution_count": null,
      "outputs": [
        {
          "output_type": "execute_result",
          "data": {
            "text/plain": [
              "{0: 'do',\n",
              " 1: 'face',\n",
              " 2: 'hate',\n",
              " 3: 'konw',\n",
              " 4: 'like',\n",
              " 5: 'love',\n",
              " 6: 'should',\n",
              " 7: 'smile',\n",
              " 8: 'want',\n",
              " 9: 'what',\n",
              " 10: 'you',\n",
              " 11: 'your'}"
            ]
          },
          "metadata": {},
          "execution_count": 88
        }
      ]
    },
    {
      "cell_type": "code",
      "source": [
        "## 스팸을 나타내는 사전 만들기(단어10개)\n",
        "## 스팸이 아닌 사전을 만들기(단어10개)\n",
        "\n",
        "spam_dict = [\"advertise\", \"promotion\", \"sales\", \"hu\", \"special\", \"sale\",\"member\", \"company\"]\n",
        "ham_dict = [\"order\", \"confirm\", \"check\", \"customer\", \"payment\", \"send\", \"general\", \"club\"]"
      ],
      "metadata": {
        "id": "PpHwQujz-kTQ"
      },
      "execution_count": null,
      "outputs": []
    },
    {
      "cell_type": "code",
      "source": [
        "cv.fit(spam_dict)"
      ],
      "metadata": {
        "colab": {
          "base_uri": "https://localhost:8080/"
        },
        "id": "pHvURkKS_K73",
        "outputId": "b5dd3526-2f08-4ea6-d73f-c7de2a532fc6"
      },
      "execution_count": null,
      "outputs": [
        {
          "output_type": "execute_result",
          "data": {
            "text/plain": [
              "CountVectorizer()"
            ]
          },
          "metadata": {},
          "execution_count": 90
        }
      ]
    },
    {
      "cell_type": "code",
      "source": [
        "cv.vocabulary_"
      ],
      "metadata": {
        "colab": {
          "base_uri": "https://localhost:8080/"
        },
        "id": "kDgM6s8eCNOr",
        "outputId": "67d027d9-d2e8-4217-d68f-ceb03292e065"
      },
      "execution_count": null,
      "outputs": [
        {
          "output_type": "execute_result",
          "data": {
            "text/plain": [
              "{'advertise': 0,\n",
              " 'company': 1,\n",
              " 'hu': 2,\n",
              " 'member': 3,\n",
              " 'promotion': 4,\n",
              " 'sale': 5,\n",
              " 'sales': 6,\n",
              " 'special': 7}"
            ]
          },
          "metadata": {},
          "execution_count": 91
        }
      ]
    },
    {
      "cell_type": "code",
      "source": [
        "email = [\"promotion!!! hu good sales sale check payment\"]"
      ],
      "metadata": {
        "id": "Gz6xDLdoHU69"
      },
      "execution_count": null,
      "outputs": []
    },
    {
      "cell_type": "code",
      "source": [
        "result1 = cv.transform(email).toarray()\n",
        "result1"
      ],
      "metadata": {
        "colab": {
          "base_uri": "https://localhost:8080/"
        },
        "id": "KkVTWkyRHTMR",
        "outputId": "2aa6bb91-f082-44e6-bb61-a6f4aa170d45"
      },
      "execution_count": null,
      "outputs": [
        {
          "output_type": "execute_result",
          "data": {
            "text/plain": [
              "array([[0, 0, 1, 0, 1, 1, 1, 0]])"
            ]
          },
          "metadata": {},
          "execution_count": 93
        }
      ]
    },
    {
      "cell_type": "code",
      "source": [
        "cv.fit(ham_dict)"
      ],
      "metadata": {
        "colab": {
          "base_uri": "https://localhost:8080/"
        },
        "id": "YQnhxSzfHYft",
        "outputId": "331d47d7-ebbc-4204-e3de-26c8be7ad77f"
      },
      "execution_count": null,
      "outputs": [
        {
          "output_type": "execute_result",
          "data": {
            "text/plain": [
              "CountVectorizer()"
            ]
          },
          "metadata": {},
          "execution_count": 94
        }
      ]
    },
    {
      "cell_type": "code",
      "source": [
        "cv.vocabulary_"
      ],
      "metadata": {
        "colab": {
          "base_uri": "https://localhost:8080/"
        },
        "id": "pN4KzcrfHdnV",
        "outputId": "df0b98a7-dc44-4287-fca1-6ee6b8ddbe89"
      },
      "execution_count": null,
      "outputs": [
        {
          "output_type": "execute_result",
          "data": {
            "text/plain": [
              "{'check': 0,\n",
              " 'club': 1,\n",
              " 'confirm': 2,\n",
              " 'customer': 3,\n",
              " 'general': 4,\n",
              " 'order': 5,\n",
              " 'payment': 6,\n",
              " 'send': 7}"
            ]
          },
          "metadata": {},
          "execution_count": 95
        }
      ]
    },
    {
      "cell_type": "code",
      "source": [
        "result2 = cv.transform(email).toarray()\n",
        "result2"
      ],
      "metadata": {
        "colab": {
          "base_uri": "https://localhost:8080/"
        },
        "id": "mAmvsNf8_h4P",
        "outputId": "7f839b20-3aa1-4c6b-bd4d-3e1223ac75be"
      },
      "execution_count": null,
      "outputs": [
        {
          "output_type": "execute_result",
          "data": {
            "text/plain": [
              "array([[1, 0, 0, 0, 0, 0, 1, 0]])"
            ]
          },
          "metadata": {},
          "execution_count": 96
        }
      ]
    },
    {
      "cell_type": "code",
      "source": [
        "result2 = ham_fit.transform(email).toarray()\n",
        "result2"
      ],
      "metadata": {
        "colab": {
          "base_uri": "https://localhost:8080/"
        },
        "id": "YrHEIfS3Cfq1",
        "outputId": "a6f0bd51-8bc6-4335-fcc0-fe80dbb6c0b5"
      },
      "execution_count": null,
      "outputs": [
        {
          "output_type": "execute_result",
          "data": {
            "text/plain": [
              "array([[1, 0, 0, 0, 0, 0, 1, 0]])"
            ]
          },
          "metadata": {},
          "execution_count": 97
        }
      ]
    },
    {
      "cell_type": "code",
      "source": [
        "## result1의 0이 아닌 개수의 합, result2의 0이 아닌 개수의 합\n",
        "result1_count =0\n",
        "result2_count =0"
      ],
      "metadata": {
        "id": "xMjIsSrGEBIL"
      },
      "execution_count": null,
      "outputs": []
    },
    {
      "cell_type": "code",
      "source": [
        "for item in result1[0] : \n",
        "    if(item!=0):\n",
        "      result1_count = result1_count +1\n",
        "result1_count"
      ],
      "metadata": {
        "colab": {
          "base_uri": "https://localhost:8080/"
        },
        "id": "LWj6iYBWEYva",
        "outputId": "ad66444a-02dc-4de1-e82a-f265d2167553"
      },
      "execution_count": null,
      "outputs": [
        {
          "output_type": "execute_result",
          "data": {
            "text/plain": [
              "4"
            ]
          },
          "metadata": {},
          "execution_count": 99
        }
      ]
    },
    {
      "cell_type": "code",
      "source": [
        "for item in result2[0] : \n",
        "    if(item!=0):\n",
        "      result2_count = result2_count +1\n",
        "result2_count"
      ],
      "metadata": {
        "colab": {
          "base_uri": "https://localhost:8080/"
        },
        "id": "x0zwGi4-FIWW",
        "outputId": "78d321b4-8f46-412d-e1bf-7caf542833e7"
      },
      "execution_count": null,
      "outputs": [
        {
          "output_type": "execute_result",
          "data": {
            "text/plain": [
              "2"
            ]
          },
          "metadata": {},
          "execution_count": 100
        }
      ]
    },
    {
      "cell_type": "code",
      "source": [
        "## 한글버전 "
      ],
      "metadata": {
        "id": "_xIw4SnYHlOs"
      },
      "execution_count": null,
      "outputs": []
    },
    {
      "cell_type": "code",
      "source": [
        "spam_dict2 = [\"광고\", \"홍보\", \"판매\", \"허경영\", \"특가\", \"세일\",\"회원\", \"회사\"]\n",
        "ham_dict2 = [\"주문\", \"확인\", \"체크\", \"고객\", \"지불\", \"배송\", \"일반\", \"동호회\"]"
      ],
      "metadata": {
        "id": "ZMWs63SGGvbx"
      },
      "execution_count": null,
      "outputs": []
    },
    {
      "cell_type": "code",
      "source": [
        "email2 = [\" 광고 !! 허경영 good 세일 확인 지불\"]"
      ],
      "metadata": {
        "id": "WOySTUMuHsVH"
      },
      "execution_count": null,
      "outputs": []
    },
    {
      "cell_type": "code",
      "source": [
        "cv2 = CountVectorizer()"
      ],
      "metadata": {
        "id": "y9i_ccMjHogI"
      },
      "execution_count": null,
      "outputs": []
    },
    {
      "cell_type": "code",
      "source": [
        "cv2.fit(spam_dict2)"
      ],
      "metadata": {
        "colab": {
          "base_uri": "https://localhost:8080/"
        },
        "id": "TqoZl276Hp6e",
        "outputId": "21061f07-b6f9-439b-b5d9-863e94dcce03"
      },
      "execution_count": null,
      "outputs": [
        {
          "output_type": "execute_result",
          "data": {
            "text/plain": [
              "CountVectorizer()"
            ]
          },
          "metadata": {},
          "execution_count": 105
        }
      ]
    },
    {
      "cell_type": "code",
      "source": [
        "result3 = cv2.transform(email2).toarray()\n",
        "result3"
      ],
      "metadata": {
        "colab": {
          "base_uri": "https://localhost:8080/"
        },
        "id": "YMxGvqgMHuel",
        "outputId": "f55b78fb-5c36-40ba-a746-42f7ae330e93"
      },
      "execution_count": null,
      "outputs": [
        {
          "output_type": "execute_result",
          "data": {
            "text/plain": [
              "array([[1, 1, 0, 0, 1, 0, 0, 0]])"
            ]
          },
          "metadata": {},
          "execution_count": 106
        }
      ]
    },
    {
      "cell_type": "code",
      "source": [
        "cv2.fit(ham_dict2)"
      ],
      "metadata": {
        "colab": {
          "base_uri": "https://localhost:8080/"
        },
        "id": "7bPILDRaHvTc",
        "outputId": "fc2159c2-cf29-4900-9b2d-36986cadce45"
      },
      "execution_count": null,
      "outputs": [
        {
          "output_type": "execute_result",
          "data": {
            "text/plain": [
              "CountVectorizer()"
            ]
          },
          "metadata": {},
          "execution_count": 107
        }
      ]
    },
    {
      "cell_type": "code",
      "source": [
        "result4 = cv2.transform(email2).toarray()\n",
        "result4"
      ],
      "metadata": {
        "colab": {
          "base_uri": "https://localhost:8080/"
        },
        "id": "6X5fOU1IHwVq",
        "outputId": "f27df6d5-73bf-42e4-a80d-89532dabc6c4"
      },
      "execution_count": null,
      "outputs": [
        {
          "output_type": "execute_result",
          "data": {
            "text/plain": [
              "array([[0, 0, 0, 0, 0, 1, 0, 1]])"
            ]
          },
          "metadata": {},
          "execution_count": 108
        }
      ]
    },
    {
      "cell_type": "code",
      "source": [
        "result3_count = 0\n",
        "result4_count = 0"
      ],
      "metadata": {
        "id": "YomievnRHxpm"
      },
      "execution_count": null,
      "outputs": []
    },
    {
      "cell_type": "code",
      "source": [
        "for item in result3[0]:\n",
        "  # print(item > 0)\n",
        "  if (item != 0):\n",
        "    result3_count = result3_count + 1\n",
        "result3_count\n",
        "\n",
        "for item in result4[0]:\n",
        "  # print(item > 0)\n",
        "  if (item != 0):\n",
        "    result4_count = result4_count + 1\n",
        "print(result3_count, result4_count)"
      ],
      "metadata": {
        "colab": {
          "base_uri": "https://localhost:8080/"
        },
        "id": "ITCXJZgrHznd",
        "outputId": "1c92d966-33d9-4d37-eb78-d8e4ecdcc682"
      },
      "execution_count": null,
      "outputs": [
        {
          "output_type": "stream",
          "name": "stdout",
          "text": [
            "3 2\n"
          ]
        }
      ]
    },
    {
      "cell_type": "markdown",
      "source": [
        "### 감정분류기(영어ver)"
      ],
      "metadata": {
        "id": "77iy7YBbH_6a"
      }
    },
    {
      "cell_type": "code",
      "source": [
        "pos_dic =['happy','joyful', 'proud','optimistic','aroused','confident', 'respect']\n",
        "neg_dic=['bad','unhappy','stressful','tired','disappointed','lonely','rejected']"
      ],
      "metadata": {
        "id": "qTLfkXLjICSE"
      },
      "execution_count": null,
      "outputs": []
    },
    {
      "cell_type": "code",
      "source": [
        "sen = [input('write sentence>> ').lower()]\n",
        "sen"
      ],
      "metadata": {
        "colab": {
          "base_uri": "https://localhost:8080/"
        },
        "id": "tJJQWfq4I8qh",
        "outputId": "9d27794f-6c35-4894-9edf-31a9a775fed6"
      },
      "execution_count": null,
      "outputs": [
        {
          "name": "stdout",
          "output_type": "stream",
          "text": [
            "write sentence>> i am happy now because i passed the exam i am confident for everything but i was very stressful during preparing exam. i don't believe it. i am proud of me\n"
          ]
        },
        {
          "output_type": "execute_result",
          "data": {
            "text/plain": [
              "[\"i am happy now because i passed the exam i am confident for everything but i was very stressful during preparing exam. i don't believe it. i am proud of me\"]"
            ]
          },
          "metadata": {},
          "execution_count": 125
        }
      ]
    },
    {
      "cell_type": "code",
      "source": [
        "tfidf = TfidfVectorizer()"
      ],
      "metadata": {
        "id": "iYEJ2QYFJNlf"
      },
      "execution_count": null,
      "outputs": []
    },
    {
      "cell_type": "code",
      "source": [
        "tfidf.fit(pos_dic)"
      ],
      "metadata": {
        "colab": {
          "base_uri": "https://localhost:8080/"
        },
        "id": "mA4UN4QSJa4q",
        "outputId": "00963284-037a-4531-f2ed-c9e37bc16aed"
      },
      "execution_count": null,
      "outputs": [
        {
          "output_type": "execute_result",
          "data": {
            "text/plain": [
              "TfidfVectorizer()"
            ]
          },
          "metadata": {},
          "execution_count": 121
        }
      ]
    },
    {
      "cell_type": "code",
      "source": [
        "tfidf.vocabulary_"
      ],
      "metadata": {
        "colab": {
          "base_uri": "https://localhost:8080/"
        },
        "id": "HLBTKm5DJcsZ",
        "outputId": "b317900f-9626-4e3c-8212-89bec179685f"
      },
      "execution_count": null,
      "outputs": [
        {
          "output_type": "execute_result",
          "data": {
            "text/plain": [
              "{'aroused': 0,\n",
              " 'confident': 1,\n",
              " 'happy': 2,\n",
              " 'joyful': 3,\n",
              " 'optimistic': 4,\n",
              " 'proud': 5,\n",
              " 'respect': 6}"
            ]
          },
          "metadata": {},
          "execution_count": 123
        }
      ]
    },
    {
      "cell_type": "code",
      "source": [
        "result_p = tfidf.transform(sen).toarray()\n",
        "result_p"
      ],
      "metadata": {
        "colab": {
          "base_uri": "https://localhost:8080/"
        },
        "id": "Cmtn9L_kJfFm",
        "outputId": "a12f697d-fcf1-4aef-aacb-a96d18d18d71"
      },
      "execution_count": null,
      "outputs": [
        {
          "output_type": "execute_result",
          "data": {
            "text/plain": [
              "array([[0.        , 0.57735027, 0.57735027, 0.        , 0.        ,\n",
              "        0.57735027, 0.        ]])"
            ]
          },
          "metadata": {},
          "execution_count": 126
        }
      ]
    },
    {
      "cell_type": "code",
      "source": [
        "tfidf.fit(neg_dic)"
      ],
      "metadata": {
        "colab": {
          "base_uri": "https://localhost:8080/"
        },
        "id": "v8j2WgWYMGUT",
        "outputId": "e25bb530-6869-4a7c-ec55-0cb5272d2c0b"
      },
      "execution_count": null,
      "outputs": [
        {
          "output_type": "execute_result",
          "data": {
            "text/plain": [
              "TfidfVectorizer()"
            ]
          },
          "metadata": {},
          "execution_count": 127
        }
      ]
    },
    {
      "cell_type": "code",
      "source": [
        "tfidf.vocabulary_"
      ],
      "metadata": {
        "colab": {
          "base_uri": "https://localhost:8080/"
        },
        "id": "3MVa2ZUCMNuK",
        "outputId": "262a4cea-5dee-4b40-b626-618d07870394"
      },
      "execution_count": null,
      "outputs": [
        {
          "output_type": "execute_result",
          "data": {
            "text/plain": [
              "{'bad': 0,\n",
              " 'disappointed': 1,\n",
              " 'lonely': 2,\n",
              " 'rejected': 3,\n",
              " 'stressful': 4,\n",
              " 'tired': 5,\n",
              " 'unhappy': 6}"
            ]
          },
          "metadata": {},
          "execution_count": 129
        }
      ]
    },
    {
      "cell_type": "code",
      "source": [
        "result_n = tfidf.transform(sen).toarray()\n",
        "result_n"
      ],
      "metadata": {
        "colab": {
          "base_uri": "https://localhost:8080/"
        },
        "id": "ZnpWXwp4MPYo",
        "outputId": "604286b9-efbf-4ed3-e607-627c570824b4"
      },
      "execution_count": null,
      "outputs": [
        {
          "output_type": "execute_result",
          "data": {
            "text/plain": [
              "array([[0., 0., 0., 0., 1., 0., 0.]])"
            ]
          },
          "metadata": {},
          "execution_count": 130
        }
      ]
    },
    {
      "cell_type": "code",
      "source": [
        "p_count = 0\n",
        "n_count = 0"
      ],
      "metadata": {
        "id": "CDsGpE-yMhmj"
      },
      "execution_count": null,
      "outputs": []
    },
    {
      "cell_type": "code",
      "source": [
        "for item in result_p[0]:\n",
        "  if (item != 0):\n",
        "    p_count = p_count + 1\n",
        "\n",
        "for item in result_n[0]:\n",
        "  if (item != 0):\n",
        "    n_count = n_count + 1\n",
        "print( p_count , n_count)"
      ],
      "metadata": {
        "colab": {
          "base_uri": "https://localhost:8080/"
        },
        "id": "l3cl8x9EMb6N",
        "outputId": "78872218-fb29-48fb-d344-dd9447283fca"
      },
      "execution_count": null,
      "outputs": [
        {
          "output_type": "stream",
          "name": "stdout",
          "text": [
            "3 1\n"
          ]
        }
      ]
    },
    {
      "cell_type": "code",
      "source": [
        "if p_count > n_count : \n",
        "  print('positive')\n",
        "elif p_count <n_count : \n",
        "  print('negative')\n",
        "else : \n",
        "  print('neutral')"
      ],
      "metadata": {
        "colab": {
          "base_uri": "https://localhost:8080/"
        },
        "id": "Y-awCXCBNIvg",
        "outputId": "16e09f93-4f44-4ca0-ca2f-610f215694a9"
      },
      "execution_count": null,
      "outputs": [
        {
          "output_type": "stream",
          "name": "stdout",
          "text": [
            "positive\n"
          ]
        }
      ]
    }
  ]
}