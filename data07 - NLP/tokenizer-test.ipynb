{
 "cells": [
  {
   "cell_type": "code",
   "execution_count": 1,
   "id": "9de6c70d-bcdd-49f7-aca1-d1803b1b0a1b",
   "metadata": {},
   "outputs": [],
   "source": [
    "import nltk"
   ]
  },
  {
   "cell_type": "code",
   "execution_count": 3,
   "id": "5e0ac3cf-b625-4dac-acc7-45cab225ad2f",
   "metadata": {},
   "outputs": [
    {
     "data": {
      "text/plain": [
       "True"
      ]
     },
     "execution_count": 3,
     "metadata": {},
     "output_type": "execute_result"
    }
   ],
   "source": [
    "nltk.download('book',quiet=True)"
   ]
  },
  {
   "cell_type": "code",
   "execution_count": null,
   "id": "f66497ad-cb5f-41a0-92d8-916224992e60",
   "metadata": {},
   "outputs": [],
   "source": [
    "from nltk.book import *"
   ]
  },
  {
   "cell_type": "code",
   "execution_count": 5,
   "id": "ca32ba75-0b93-40f4-a9ae-46a06bc570d4",
   "metadata": {},
   "outputs": [
    {
     "data": {
      "text/plain": [
       "['austen-emma.txt',\n",
       " 'austen-persuasion.txt',\n",
       " 'austen-sense.txt',\n",
       " 'bible-kjv.txt',\n",
       " 'blake-poems.txt',\n",
       " 'bryant-stories.txt',\n",
       " 'burgess-busterbrown.txt',\n",
       " 'carroll-alice.txt',\n",
       " 'chesterton-ball.txt',\n",
       " 'chesterton-brown.txt',\n",
       " 'chesterton-thursday.txt',\n",
       " 'edgeworth-parents.txt',\n",
       " 'melville-moby_dick.txt',\n",
       " 'milton-paradise.txt',\n",
       " 'shakespeare-caesar.txt',\n",
       " 'shakespeare-hamlet.txt',\n",
       " 'shakespeare-macbeth.txt',\n",
       " 'whitman-leaves.txt']"
      ]
     },
     "execution_count": 5,
     "metadata": {},
     "output_type": "execute_result"
    }
   ],
   "source": [
    "nltk.corpus.gutenberg.fileids()"
   ]
  },
  {
   "cell_type": "code",
   "execution_count": 7,
   "id": "bd2125a0-c992-4516-8d67-fcbc81acc8d6",
   "metadata": {},
   "outputs": [],
   "source": [
    "emma_raw = nltk.corpus.gutenberg.raw('austen-emma.txt')\n",
    "# emma_raw"
   ]
  },
  {
   "cell_type": "markdown",
   "id": "561d727f-891a-47c9-8836-e824e2fcf472",
   "metadata": {},
   "source": [
    "### Tokenizer"
   ]
  },
  {
   "cell_type": "code",
   "execution_count": 10,
   "id": "a0fddc1b-8a14-4a14-9ffc-0b55a1baad53",
   "metadata": {},
   "outputs": [],
   "source": [
    "from nltk.tokenize import sent_tokenize, word_tokenize, RegexpTokenizer"
   ]
  },
  {
   "cell_type": "code",
   "execution_count": 11,
   "id": "0ab01b60-e818-4942-af91-21cc55770e0b",
   "metadata": {},
   "outputs": [
    {
     "data": {
      "text/plain": [
       "['[Emma by Jane Austen 1816]\\n\\nVOLUME I\\n\\nCHAPTER I\\n\\n\\nEmma Woodhouse, handsome, clever, and rich, with a comfortable home\\nand happy disposition, seemed to unite some of the best blessings\\nof existence; and had lived nearly twenty-one years in the world\\nwith very little to distress or vex her.',\n",
       " \"She was the youngest of the two daughters of a most affectionate,\\nindulgent father; and had, in consequence of her sister's marriage,\\nbeen mistress of his house from a very early period.\"]"
      ]
     },
     "execution_count": 11,
     "metadata": {},
     "output_type": "execute_result"
    }
   ],
   "source": [
    "# sentence\n",
    "sent_tokenize(emma_raw[:1000])[0:2] # 문장으로 끊은 것 중 2번째 것 까지 가지고 오기 "
   ]
  },
  {
   "cell_type": "code",
   "execution_count": null,
   "id": "361926d0-894b-4dac-b438-1c0ab7504381",
   "metadata": {},
   "outputs": [],
   "source": [
    "# sent_tokenize(emma_raw[:1000])[0]"
   ]
  },
  {
   "cell_type": "code",
   "execution_count": 14,
   "id": "33542659-d56a-44b8-90ea-a05e475e4795",
   "metadata": {},
   "outputs": [
    {
     "data": {
      "text/plain": [
       "['Emma',\n",
       " 'Woodhouse',\n",
       " ',',\n",
       " 'handsome',\n",
       " ',',\n",
       " 'clever',\n",
       " ',',\n",
       " 'and',\n",
       " 'rich',\n",
       " ',',\n",
       " 'with',\n",
       " 'a',\n",
       " 'comfortable',\n",
       " 'home',\n",
       " 'and',\n",
       " 'happy',\n",
       " 'disposition',\n",
       " ',',\n",
       " 'seemed',\n",
       " 'to',\n",
       " 'unite',\n",
       " 'some',\n",
       " 'of',\n",
       " 'the',\n",
       " 'best',\n",
       " 'blessings',\n",
       " 'of',\n",
       " 'existence',\n",
       " ';',\n",
       " 'and',\n",
       " 'had',\n",
       " 'lived',\n",
       " 'nearly',\n",
       " 'twenty-one',\n",
       " 'years',\n",
       " 'in',\n",
       " 'the',\n",
       " 'world',\n",
       " 'with',\n",
       " 'very',\n",
       " 'little',\n",
       " 'to',\n",
       " 'distress',\n",
       " 'or',\n",
       " 'vex',\n",
       " 'her',\n",
       " '.',\n",
       " 'She',\n",
       " 'was',\n",
       " 'the',\n",
       " 'youngest',\n",
       " 'of',\n",
       " 'the',\n",
       " 'two',\n",
       " 'daughters',\n",
       " 'of',\n",
       " 'a',\n",
       " 'most',\n",
       " 'affectionate',\n",
       " ',',\n",
       " 'indulgent',\n",
       " 'father',\n",
       " ';',\n",
       " 'and',\n",
       " 'had',\n",
       " ',',\n",
       " 'in',\n",
       " 'consequence',\n",
       " 'of',\n",
       " 'her',\n",
       " 'sister',\n",
       " \"'s\",\n",
       " 'marriage',\n",
       " ',',\n",
       " 'been',\n",
       " 'mistress',\n",
       " 'of',\n",
       " 'his',\n",
       " 'house',\n",
       " 'from',\n",
       " 'a',\n",
       " 'very',\n",
       " 'early',\n",
       " 'period',\n",
       " '.',\n",
       " 'Her',\n",
       " 'mother',\n",
       " 'had',\n",
       " 'died',\n",
       " 'too',\n",
       " 'long',\n",
       " 'ago',\n",
       " 'for',\n",
       " 'her',\n",
       " 'to',\n",
       " 'have',\n",
       " 'more',\n",
       " 'than',\n",
       " 'an',\n",
       " 'indistinct',\n",
       " 'remembrance',\n",
       " 'of',\n",
       " 'her',\n",
       " 'caresses',\n",
       " ';',\n",
       " 'and',\n",
       " 'her',\n",
       " 'place',\n",
       " 'had',\n",
       " 'been',\n",
       " 'supplied',\n",
       " 'by',\n",
       " 'an',\n",
       " 'excellent',\n",
       " 'woman',\n",
       " 'as',\n",
       " 'governess',\n",
       " ',',\n",
       " 'who',\n",
       " 'had',\n",
       " 'fallen',\n",
       " 'little',\n",
       " 'short',\n",
       " 'of',\n",
       " 'a',\n",
       " 'mother',\n",
       " 'in',\n",
       " 'affection',\n",
       " '.',\n",
       " 'Sixteen',\n",
       " 'years',\n",
       " 'had',\n",
       " 'Miss',\n",
       " 'Taylor',\n",
       " 'been',\n",
       " 'in',\n",
       " 'Mr.',\n",
       " 'Woodhouse',\n",
       " \"'s\",\n",
       " 'family',\n",
       " ',',\n",
       " 'less',\n",
       " 'as',\n",
       " 'a',\n",
       " 'governess',\n",
       " 'than',\n",
       " 'a',\n",
       " 'friend',\n",
       " ',',\n",
       " 'very',\n",
       " 'fond',\n",
       " 'of',\n",
       " 'both',\n",
       " 'daughters',\n",
       " ',',\n",
       " 'but',\n",
       " 'particularly',\n",
       " 'of',\n",
       " 'Emma',\n",
       " '.',\n",
       " 'Between',\n",
       " '_them_',\n",
       " 'it',\n",
       " 'was',\n",
       " 'more',\n",
       " 'the',\n",
       " 'intimacy',\n",
       " 'of',\n",
       " 'sisters',\n",
       " '.',\n",
       " 'Even',\n",
       " 'before',\n",
       " 'Miss',\n",
       " 'Taylor',\n",
       " 'had',\n",
       " 'ceased',\n",
       " 'to',\n",
       " 'hold',\n",
       " 'the',\n",
       " 'nominal',\n",
       " 'office',\n",
       " 'of',\n",
       " 'governess',\n",
       " ',',\n",
       " 'the',\n",
       " 'mildness',\n",
       " 'o']"
      ]
     },
     "execution_count": 14,
     "metadata": {},
     "output_type": "execute_result"
    }
   ],
   "source": [
    "# word\n",
    "word_tokenize(emma_raw[50:1000])"
   ]
  },
  {
   "cell_type": "code",
   "execution_count": 17,
   "id": "b75dc2b7-ab31-42c1-86b2-1e6a9fabdcd8",
   "metadata": {},
   "outputs": [
    {
     "data": {
      "text/plain": [
       "['Emma',\n",
       " 'by',\n",
       " 'Jane',\n",
       " 'Austen',\n",
       " '1816',\n",
       " 'VOLUME',\n",
       " 'I',\n",
       " 'CHAPTER',\n",
       " 'I',\n",
       " 'Emma',\n",
       " 'Woodhouse',\n",
       " 'handsome',\n",
       " 'clever',\n",
       " 'and',\n",
       " 'rich',\n",
       " 'with',\n",
       " 'a',\n",
       " 'comfortable',\n",
       " 'home',\n",
       " 'and',\n",
       " 'happy',\n",
       " 'disposition',\n",
       " 'seemed',\n",
       " 'to',\n",
       " 'unite',\n",
       " 'some',\n",
       " 'of',\n",
       " 'the',\n",
       " 'best',\n",
       " 'blessings',\n",
       " 'of',\n",
       " 'existence',\n",
       " 'and',\n",
       " 'had',\n",
       " 'lived',\n",
       " 'nearly',\n",
       " 'twenty',\n",
       " 'one',\n",
       " 'years',\n",
       " 'in',\n",
       " 'the',\n",
       " 'world',\n",
       " 'with',\n",
       " 'very',\n",
       " 'little',\n",
       " 'to',\n",
       " 'distress',\n",
       " 'or',\n",
       " 'vex',\n",
       " 'her',\n",
       " 'She',\n",
       " 'was',\n",
       " 'the',\n",
       " 'youngest',\n",
       " 'of',\n",
       " 'the',\n",
       " 'two',\n",
       " 'daughters',\n",
       " 'of',\n",
       " 'a',\n",
       " 'most',\n",
       " 'affectionate',\n",
       " 'indulgent',\n",
       " 'father',\n",
       " 'and',\n",
       " 'had',\n",
       " 'in',\n",
       " 'consequence',\n",
       " 'of',\n",
       " 'her',\n",
       " 'sister',\n",
       " 's',\n",
       " 'marriage',\n",
       " 'been',\n",
       " 'mistress',\n",
       " 'of',\n",
       " 'his',\n",
       " 'house',\n",
       " 'from',\n",
       " 'a',\n",
       " 'very',\n",
       " 'early',\n",
       " 'period',\n",
       " 'Her',\n",
       " 'mother',\n",
       " 'had',\n",
       " 'died',\n",
       " 't']"
      ]
     },
     "execution_count": 17,
     "metadata": {},
     "output_type": "execute_result"
    }
   ],
   "source": [
    "#RegexpTokenizer(정규식)\n",
    "retokenize = RegexpTokenizer(\"[\\w]+\")\n",
    "retokenize.tokenize(emma_raw[:500])"
   ]
  },
  {
   "cell_type": "markdown",
   "id": "7d59f0ca-111a-48b2-a2cd-1cb671e20999",
   "metadata": {},
   "source": [
    "### 동사원형 찾기 : PorterStemmer, WordNetLemmatizer"
   ]
  },
  {
   "cell_type": "code",
   "execution_count": 25,
   "id": "b4dff714-d857-421a-918e-3d973e49379d",
   "metadata": {},
   "outputs": [],
   "source": [
    "from nltk.stem import PorterStemmer , WordNetLemmatizer"
   ]
  },
  {
   "cell_type": "code",
   "execution_count": 26,
   "id": "71ca4fef-37e4-42ed-b869-19d90428fb1a",
   "metadata": {},
   "outputs": [],
   "source": [
    "st1 = PorterStemmer()\n",
    "lm=WordNetLemmatizer()"
   ]
  },
  {
   "cell_type": "code",
   "execution_count": 19,
   "id": "fa3b102e-22ce-4743-8940-d5ecdf98fb48",
   "metadata": {},
   "outputs": [],
   "source": [
    "words=[\"fly\",\"flies\", \"flying\",\"flew\", \"flown\"]"
   ]
  },
  {
   "cell_type": "code",
   "execution_count": 23,
   "id": "ebb37252-e9e8-472f-9218-61015c4d404c",
   "metadata": {},
   "outputs": [
    {
     "name": "stdout",
     "output_type": "stream",
     "text": [
      "fli\n",
      "fli\n",
      "fli\n",
      "flew\n",
      "flown\n"
     ]
    }
   ],
   "source": [
    "[st1.stem(w) for w in words]"
   ]
  },
  {
   "cell_type": "code",
   "execution_count": 28,
   "id": "ba0a0a2c-03e2-45c4-a550-62fe40b0be41",
   "metadata": {},
   "outputs": [
    {
     "data": {
      "text/plain": [
       "['fly', 'fly', 'fly', 'fly', 'fly']"
      ]
     },
     "execution_count": 28,
     "metadata": {},
     "output_type": "execute_result"
    }
   ],
   "source": [
    "[lm.lemmatize(w, pos='v') for w in words]"
   ]
  },
  {
   "cell_type": "markdown",
   "id": "5457b861-af49-478d-9156-da4391d43ff5",
   "metadata": {},
   "source": [
    "### 품사 찾기"
   ]
  },
  {
   "cell_type": "code",
   "execution_count": 29,
   "id": "1a04a3ad-f2f4-43ae-a138-2c0dc3d635fc",
   "metadata": {},
   "outputs": [
    {
     "data": {
      "text/plain": [
       "[('Emma', 'NNP'),\n",
       " ('refused', 'VBD'),\n",
       " ('to', 'TO'),\n",
       " ('permit', 'VB'),\n",
       " ('us', 'PRP'),\n",
       " ('to', 'TO'),\n",
       " ('obtain', 'VB'),\n",
       " ('the', 'DT'),\n",
       " ('refuse', 'NN'),\n",
       " ('permit', 'NN')]"
      ]
     },
     "execution_count": 29,
     "metadata": {},
     "output_type": "execute_result"
    }
   ],
   "source": [
    "from nltk.tag import pos_tag\n",
    "sentence = \"Emma refused to permit us to obtain the refuse permit\"\n",
    "tagged_list = pos_tag(word_tokenize(sentence))\n",
    "tagged_list"
   ]
  },
  {
   "cell_type": "code",
   "execution_count": 31,
   "id": "20a700db-64bf-482e-be41-d5284d8d569e",
   "metadata": {},
   "outputs": [
    {
     "data": {
      "text/plain": [
       "['refuse', 'permit']"
      ]
     },
     "execution_count": 31,
     "metadata": {},
     "output_type": "execute_result"
    }
   ],
   "source": [
    "nonus_list = [t[0] for t in tagged_list if t[1] == 'NN']\n",
    "nonus_list"
   ]
  },
  {
   "cell_type": "markdown",
   "id": "c3ff1e33-9772-4582-9304-9c9a4a5c93e3",
   "metadata": {},
   "source": [
    "### Text "
   ]
  },
  {
   "cell_type": "code",
   "execution_count": 32,
   "id": "4e8d3732-7a3b-48a1-bf84-e73de96a0b71",
   "metadata": {},
   "outputs": [],
   "source": [
    "from nltk import Text"
   ]
  },
  {
   "cell_type": "code",
   "execution_count": 33,
   "id": "3838d3b1-41db-4ce0-a45b-8de561444268",
   "metadata": {},
   "outputs": [
    {
     "data": {
      "text/plain": [
       "<Text: Emma by Jane Austen 1816 VOLUME I CHAPTER...>"
      ]
     },
     "execution_count": 33,
     "metadata": {},
     "output_type": "execute_result"
    }
   ],
   "source": [
    "text = Text(retokenize.tokenize(emma_raw))\n",
    "text"
   ]
  },
  {
   "cell_type": "code",
   "execution_count": 34,
   "id": "0b47543f-ea0c-48a9-91db-cd760dae5a64",
   "metadata": {},
   "outputs": [
    {
     "data": {
      "image/png": "[encoded data removed]",
      "text/plain": [
       "<Figure size 432x288 with 1 Axes>"
      ]
     },
     "metadata": {
      "needs_background": "light"
     },
     "output_type": "display_data"
    }
   ],
   "source": [
    "text.plot(20)"
   ]
  },
  {
   "cell_type": "code",
   "execution_count": 37,
   "id": "836a4a92-da41-4798-9f9b-731d93247127",
   "metadata": {},
   "outputs": [
    {
     "data": {
      "image/png": "[encoded data removed]",
      "text/plain": [
       "<Figure size 432x288 with 1 Axes>"
      ]
     },
     "metadata": {
      "needs_background": "light"
     },
     "output_type": "display_data"
    }
   ],
   "source": [
    "text.dispersion_plot([\"Emma\", \"Frank\", \"Robert\"])"
   ]
  },
  {
   "cell_type": "markdown",
   "id": "ff125123-d035-4b46-b454-05043f9f42ec",
   "metadata": {},
   "source": [
    "### ipod.txt로 실습"
   ]
  },
  {
   "cell_type": "code",
   "execution_count": 40,
   "id": "8f306c05-0585-40ca-9ce3-3d2da1a05403",
   "metadata": {},
   "outputs": [],
   "source": [
    "# ipod\n",
    "\n",
    "ipod_review = open(\"C:/Users/H/AppData/Roaming/nltk_data/corpora/product_reviews_2/ipod.txt\", encoding=\"utf-8\")\n",
    "ipod = ipod_review.read()"
   ]
  },
  {
   "cell_type": "code",
   "execution_count": 43,
   "id": "680bb3ea-6bb7-4c37-ae52-c916a694343d",
   "metadata": {},
   "outputs": [
    {
     "data": {
      "text/plain": [
       "\"##Don't get this...keep browsing.\""
      ]
     },
     "execution_count": 43,
     "metadata": {},
     "output_type": "execute_result"
    }
   ],
   "source": [
    "sent_tokenize(ipod[:100])[0]"
   ]
  },
  {
   "cell_type": "code",
   "execution_count": 44,
   "id": "84f91332-36f4-4a33-b475-69a9b93a1fb1",
   "metadata": {},
   "outputs": [
    {
     "data": {
      "text/plain": [
       "['#',\n",
       " '#',\n",
       " 'Do',\n",
       " \"n't\",\n",
       " 'get',\n",
       " 'this',\n",
       " '...',\n",
       " 'keep',\n",
       " 'browsing',\n",
       " '.',\n",
       " '#',\n",
       " '#',\n",
       " 'The',\n",
       " 'iPod',\n",
       " 'has',\n",
       " 'so',\n",
       " 'far',\n",
       " 'been',\n",
       " 'one',\n",
       " 'of',\n",
       " 'the',\n",
       " 'most',\n",
       " 'advertised',\n",
       " 'and',\n",
       " 'populat']"
      ]
     },
     "execution_count": 44,
     "metadata": {},
     "output_type": "execute_result"
    }
   ],
   "source": [
    "word_tokenize(ipod[:100])"
   ]
  },
  {
   "cell_type": "code",
   "execution_count": 45,
   "id": "aaa89ba3-ef50-4913-9279-ee89ef36aa3f",
   "metadata": {},
   "outputs": [
    {
     "data": {
      "text/plain": [
       "['Don',\n",
       " 't',\n",
       " 'get',\n",
       " 'this',\n",
       " 'keep',\n",
       " 'browsing',\n",
       " 'The',\n",
       " 'iPod',\n",
       " 'has',\n",
       " 'so',\n",
       " 'far',\n",
       " 'been',\n",
       " 'one',\n",
       " 'of',\n",
       " 'the',\n",
       " 'most',\n",
       " 'advertised',\n",
       " 'and',\n",
       " 'populat']"
      ]
     },
     "execution_count": 45,
     "metadata": {},
     "output_type": "execute_result"
    }
   ],
   "source": [
    "retokenize = RegexpTokenizer(\"[\\w]+\")\n",
    "retokenize.tokenize(ipod[:100])"
   ]
  },
  {
   "cell_type": "code",
   "execution_count": 46,
   "id": "fd0c5960-4acd-48eb-9bee-0253748b2f60",
   "metadata": {},
   "outputs": [
    {
     "data": {
      "text/plain": [
       "<Text: Don t get this keep browsing The iPod...>"
      ]
     },
     "execution_count": 46,
     "metadata": {},
     "output_type": "execute_result"
    }
   ],
   "source": [
    "text2 = Text(retokenize.tokenize(ipod))\n",
    "text2"
   ]
  },
  {
   "cell_type": "code",
   "execution_count": 54,
   "id": "745efec4-5374-43ba-b1d0-0508813552ce",
   "metadata": {},
   "outputs": [
    {
     "data": {
      "image/png": "[encoded data removed]",
      "text/plain": [
       "<Figure size 432x288 with 1 Axes>"
      ]
     },
     "metadata": {
      "needs_background": "light"
     },
     "output_type": "display_data"
    }
   ],
   "source": [
    "text2.plot(20)"
   ]
  },
  {
   "cell_type": "code",
   "execution_count": 63,
   "id": "e5ad7b8a-a90f-4325-9382-7e25137460d1",
   "metadata": {},
   "outputs": [
    {
     "data": {
      "image/png": "[encoded data removed]",
      "text/plain": [
       "<Figure size 432x288 with 1 Axes>"
      ]
     },
     "metadata": {
      "needs_background": "light"
     },
     "output_type": "display_data"
    }
   ],
   "source": [
    "text2.dispersion_plot([\"you\", \"iPod\", 'good', 'bad', 'best'])"
   ]
  },
  {
   "cell_type": "code",
   "execution_count": 82,
   "id": "f600d353-e690-4d3b-ba9d-5dff8bbb22e4",
   "metadata": {},
   "outputs": [],
   "source": [
    "from nltk import FreqDist\n",
    "from nltk.tag import pos_tag\n",
    "\n",
    "stopwords = [\"Don\", \"of\", \"and\", \"t\", \"I\", \"m\"]\n",
    "ipod_tokens = pos_tag(retokenize.tokenize(ipod))"
   ]
  },
  {
   "cell_type": "code",
   "execution_count": 83,
   "id": "437478fa-536c-425f-95c0-0cb849b900b9",
   "metadata": {},
   "outputs": [],
   "source": [
    "names_list = [t[0] for t in ipod_tokens if t[1] == \"NN\" and t[0] not in stopwords]\n",
    "fd_names = FreqDist(names_list)"
   ]
  },
  {
   "cell_type": "code",
   "execution_count": 84,
   "id": "8d7877be-2266-4228-9c1c-9b54971dd4b5",
   "metadata": {},
   "outputs": [
    {
     "data": {
      "text/plain": [
       "1626"
      ]
     },
     "execution_count": 84,
     "metadata": {},
     "output_type": "execute_result"
    }
   ],
   "source": [
    "fd_names.N()"
   ]
  },
  {
   "cell_type": "code",
   "execution_count": 85,
   "id": "ac6bb1c4-89c9-4f73-a38c-545972d4dbf3",
   "metadata": {},
   "outputs": [
    {
     "data": {
      "text/plain": [
       "148"
      ]
     },
     "execution_count": 85,
     "metadata": {},
     "output_type": "execute_result"
    }
   ],
   "source": [
    "fd_names['iPod']"
   ]
  },
  {
   "cell_type": "code",
   "execution_count": 86,
   "id": "db31dcca-56c2-45e4-8a6a-b566c734c81d",
   "metadata": {},
   "outputs": [
    {
     "data": {
      "text/plain": [
       "0.0910209102091021"
      ]
     },
     "execution_count": 86,
     "metadata": {},
     "output_type": "execute_result"
    }
   ],
   "source": [
    "fd_names.freq('iPod')"
   ]
  },
  {
   "cell_type": "code",
   "execution_count": null,
   "id": "87de3a28-d506-4f6a-92f6-7f5c6bb7b32a",
   "metadata": {},
   "outputs": [],
   "source": [
    "fd_names.most_common(5)"
   ]
  },
  {
   "cell_type": "markdown",
   "id": "cc7e852e-5905-4844-931a-093ce19c5f37",
   "metadata": {},
   "source": [
    "### 영화리뷰분석(긍정적, 부정적)"
   ]
  },
  {
   "cell_type": "code",
   "execution_count": 58,
   "id": "5296e434-ed95-4ddf-aa60-95170c8eb50b",
   "metadata": {},
   "outputs": [],
   "source": [
    "pos = open('posreview.txt', encoding='utf-8')\n",
    "p_review =pos.read()"
   ]
  },
  {
   "cell_type": "code",
   "execution_count": 59,
   "id": "ca3b31ee-42a2-47e6-be13-55e26d6324de",
   "metadata": {},
   "outputs": [
    {
     "data": {
      "text/plain": [
       "<Text: films adapted from comic books have had plenty...>"
      ]
     },
     "execution_count": 59,
     "metadata": {},
     "output_type": "execute_result"
    }
   ],
   "source": [
    "text_p = Text(retokenize.tokenize(p_review))\n",
    "text_p"
   ]
  },
  {
   "cell_type": "code",
   "execution_count": 79,
   "id": "3facc206-8d9d-481c-acd0-ca009422a4b6",
   "metadata": {},
   "outputs": [
    {
     "data": {
      "image/png": "[encoded data removed]",
      "text/plain": [
       "<Figure size 432x288 with 1 Axes>"
      ]
     },
     "metadata": {
      "needs_background": "light"
     },
     "output_type": "display_data"
    }
   ],
   "source": [
    "text_p.dispersion_plot(['good','happy','best','like','bad','mess','no', 'boring'])"
   ]
  },
  {
   "cell_type": "code",
   "execution_count": 65,
   "id": "26a838c8-d243-45fc-b4b9-126e9b24b52b",
   "metadata": {},
   "outputs": [],
   "source": [
    "neg = open('neg.txt', encoding='utf-8')\n",
    "n_review =neg.read()"
   ]
  },
  {
   "cell_type": "code",
   "execution_count": 66,
   "id": "97a12ba1-2418-479c-b84e-acc9dd6807d0",
   "metadata": {},
   "outputs": [
    {
     "data": {
      "text/plain": [
       "<Text: plot two teen couples go to a church...>"
      ]
     },
     "execution_count": 66,
     "metadata": {},
     "output_type": "execute_result"
    }
   ],
   "source": [
    "text_n = Text(retokenize.tokenize(n_review))\n",
    "text_n"
   ]
  },
  {
   "cell_type": "code",
   "execution_count": 80,
   "id": "47b44cdd-5de7-466d-abed-9fd90ae770eb",
   "metadata": {},
   "outputs": [
    {
     "data": {
      "image/png": "[encoded data removed]",
      "text/plain": [
       "<Figure size 432x288 with 1 Axes>"
      ]
     },
     "metadata": {
      "needs_background": "light"
     },
     "output_type": "display_data"
    }
   ],
   "source": [
    "text_n.dispersion_plot(['good','happy','best','like','bad','mess','no','boring'])"
   ]
  },
  {
   "cell_type": "code",
   "execution_count": 117,
   "id": "aecd45c8-abc8-4869-8d8b-e440b82ce8e9",
   "metadata": {},
   "outputs": [],
   "source": [
    "stopwords = [\"you\", \"of\", \"are\", \"am\", \"I\", \"a\",\"it\",\"by\",\"and\",\"from\",\"s\",\"i\",\"t\"]"
   ]
  },
  {
   "cell_type": "code",
   "execution_count": 118,
   "id": "c1c54c74-b89a-4ec5-9543-c5db24ed4d76",
   "metadata": {},
   "outputs": [],
   "source": [
    "preview_tokens = pos_tag(retokenize.tokenize(p_review))\n",
    "p_list = [t[0] for t in preview_tokens if t[1] == \"NN\" and t[0] not in stopwords]\n",
    "fd_p = FreqDist(p_list)"
   ]
  },
  {
   "cell_type": "code",
   "execution_count": 119,
   "id": "71c85041-0b88-47d6-90a9-0f59bc15c364",
   "metadata": {},
   "outputs": [
    {
     "data": {
      "text/plain": [
       "[('film', 49),\n",
       " ('performance', 17),\n",
       " ('story', 17),\n",
       " ('movie', 16),\n",
       " ('shark', 16)]"
      ]
     },
     "execution_count": 119,
     "metadata": {},
     "output_type": "execute_result"
    }
   ],
   "source": [
    "fd_p.most_common(5)"
   ]
  },
  {
   "cell_type": "code",
   "execution_count": 120,
   "id": "80d34b17-6725-4a7f-a3c2-ee7b9e92a6ca",
   "metadata": {},
   "outputs": [
    {
     "data": {
      "image/png": "[encoded data removed]",
      "text/plain": [
       "<Figure size 432x288 with 1 Axes>"
      ]
     },
     "metadata": {
      "needs_background": "light"
     },
     "output_type": "display_data"
    },
    {
     "data": {
      "text/plain": [
       "<AxesSubplot:xlabel='Samples', ylabel='Counts'>"
      ]
     },
     "execution_count": 120,
     "metadata": {},
     "output_type": "execute_result"
    }
   ],
   "source": [
    "fd_p.plot(20)"
   ]
  },
  {
   "cell_type": "code",
   "execution_count": 121,
   "id": "aa78ee0b-1d62-4943-8bf6-608e18db97b3",
   "metadata": {},
   "outputs": [],
   "source": [
    "nreview_tokens =pos_tag(retokenize.tokenize(n_review))\n",
    "n_list = [t[0] for t in nreview_tokens if t[1] == \"NN\" and t[0] not in stopwords]\n",
    "fd_n = FreqDist(n_list)"
   ]
  },
  {
   "cell_type": "code",
   "execution_count": 122,
   "id": "05d09740-51e4-4b4c-b652-18262c6f1f21",
   "metadata": {},
   "outputs": [
    {
     "data": {
      "text/plain": [
       "[('film', 40), ('movie', 34), ('time', 16), ('way', 13), ('something', 12)]"
      ]
     },
     "execution_count": 122,
     "metadata": {},
     "output_type": "execute_result"
    }
   ],
   "source": [
    "fd_n.most_common(5)"
   ]
  },
  {
   "cell_type": "code",
   "execution_count": 123,
   "id": "1555d583-fad8-4997-baa1-8e93c64af38e",
   "metadata": {},
   "outputs": [
    {
     "data": {
      "image/png": "[encoded data removed]",
      "text/plain": [
       "<Figure size 432x288 with 1 Axes>"
      ]
     },
     "metadata": {
      "needs_background": "light"
     },
     "output_type": "display_data"
    },
    {
     "data": {
      "text/plain": [
       "<AxesSubplot:xlabel='Samples', ylabel='Counts'>"
      ]
     },
     "execution_count": 123,
     "metadata": {},
     "output_type": "execute_result"
    }
   ],
   "source": [
    "fd_n.plot(20)"
   ]
  }
 ],
 "metadata": {
  "kernelspec": {
   "display_name": "Python 3 (ipykernel)",
   "language": "python",
   "name": "python3"
  },
  "language_info": {
   "codemirror_mode": {
    "name": "ipython",
    "version": 3
   },
   "file_extension": ".py",
   "mimetype": "text/x-python",
   "name": "python",
   "nbconvert_exporter": "python",
   "pygments_lexer": "ipython3",
   "version": "3.9.7"
  }
 },
 "nbformat": 4,
 "nbformat_minor": 5
}
