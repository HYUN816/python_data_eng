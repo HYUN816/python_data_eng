{
 "cells": [
  {
   "cell_type": "code",
   "execution_count": 5,
   "id": "dd8bc164",
   "metadata": {},
   "outputs": [],
   "source": [
    "import pandas as pd\n",
    "import numpy as np\n",
    "\n",
    "from sklearn.ensemble import VotingClassifier\n",
    "from sklearn.linear_model import LogisticRegression\n",
    "from sklearn.neighbors import KNeighborsClassifier\n",
    "from sklearn.svm import SVC\n",
    "from sklearn.ensemble import RandomForestClassifier\n",
    "from sklearn.model_selection import train_test_split\n",
    "from sklearn.metrics import accuracy_score\n",
    "\n",
    "from warnings import filterwarnings\n",
    "filterwarnings('ignore')\n",
    "\n",
    "df_2018 = pd.read_csv('2018.csv', encoding='cp949')\n",
    "# df_2018"
   ]
  },
  {
   "cell_type": "code",
   "execution_count": 6,
   "id": "3399f18e",
   "metadata": {},
   "outputs": [],
   "source": [
    "# 1. 설명변수, 종속변수"
   ]
  },
  {
   "cell_type": "code",
   "execution_count": 7,
   "id": "4159e7b0",
   "metadata": {},
   "outputs": [
    {
     "data": {
      "text/plain": [
       "(9072, 142)"
      ]
     },
     "execution_count": 7,
     "metadata": {},
     "output_type": "execute_result"
    }
   ],
   "source": [
    "# 2. row count, column count\n",
    "df_2018.shape"
   ]
  },
  {
   "cell_type": "code",
   "execution_count": 8,
   "id": "be3c3ba4",
   "metadata": {},
   "outputs": [],
   "source": [
    "for col in df_2018.columns:\n",
    "    df_2018[col].replace(' ', '0', inplace=True)"
   ]
  },
  {
   "cell_type": "code",
   "execution_count": 9,
   "id": "ded4e6ea",
   "metadata": {},
   "outputs": [],
   "source": [
    "from sklearn.preprocessing import LabelEncoder"
   ]
  },
  {
   "cell_type": "code",
   "execution_count": 10,
   "id": "e84833c2",
   "metadata": {},
   "outputs": [],
   "source": [
    "encoders = {}\n",
    "for col in df_2018.columns:\n",
    "        if col == 'ID':\n",
    "            continue\n",
    "        \n",
    "        try:\n",
    "            df_2018[col] = df_2018[col].map(int)\n",
    "        except:\n",
    "            encoder = LabelEncoder()\n",
    "            df_2018[col] = df_2018[col].map(str)\n",
    "            df_2018[col] = encoder.fit_transform(df_2018[col])\n",
    "            encoders[col] = encoder"
   ]
  },
  {
   "cell_type": "code",
   "execution_count": 11,
   "id": "2a66bc85",
   "metadata": {},
   "outputs": [],
   "source": [
    "X_data = df_2018.iloc[:,1:-1]\n",
    "y_data = df_2018.iloc[:,-1]"
   ]
  },
  {
   "cell_type": "code",
   "execution_count": 12,
   "id": "cd0de12e",
   "metadata": {},
   "outputs": [],
   "source": [
    "X_train, X_test, y_train, y_test = train_test_split(X_data,y_data, test_size=0.2, random_state=156)"
   ]
  },
  {
   "cell_type": "code",
   "execution_count": 13,
   "id": "d8933d0e",
   "metadata": {},
   "outputs": [
    {
     "name": "stdout",
     "output_type": "stream",
     "text": [
      "(7257, 140) (7257,) (1815, 140) (1815,)\n"
     ]
    }
   ],
   "source": [
    "print(X_train.shape, y_train.shape, X_test.shape, y_test.shape)"
   ]
  },
  {
   "cell_type": "code",
   "execution_count": 14,
   "id": "8a07797a",
   "metadata": {},
   "outputs": [
    {
     "name": "stdout",
     "output_type": "stream",
     "text": [
      "소프트보팅 분류기의 정확도:  0.3499\n"
     ]
    }
   ],
   "source": [
    "# 3-1. voting : soft\n",
    "\n",
    "lr_clf = LogisticRegression()\n",
    "knn = KNeighborsClassifier(n_neighbors=8)\n",
    "rf_clf = RandomForestClassifier()\n",
    "\n",
    "voting_model = VotingClassifier(estimators=[ ('LogisticRegression', lr_clf), ('KNN', knn),('RandomForest',rf_clf )], \n",
    "                                voting='soft')\n",
    "\n",
    "voting_model.fit(X_train, y_train)\n",
    "pred = voting_model.predict(X_test)\n",
    "print('소프트보팅 분류기의 정확도: {0: .4f}'.format(accuracy_score(y_test, pred)))\n",
    "\n",
    "softvoting_acc=accuracy_score(y_test, pred)"
   ]
  },
  {
   "cell_type": "code",
   "execution_count": 15,
   "id": "eca9eaab",
   "metadata": {},
   "outputs": [
    {
     "name": "stdout",
     "output_type": "stream",
     "text": [
      "LogisticRegression 정확도: 0.0281\n",
      "KNeighborsClassifier 정확도: 0.0154\n",
      "RandomForestClassifier 정확도: 0.5736\n"
     ]
    }
   ],
   "source": [
    "# 개별 모델의 학습/예측/평가\n",
    "\n",
    "acc_list=[]\n",
    "\n",
    "classifiers = [lr_clf, knn, rf_clf]\n",
    "for classifier in classifiers:\n",
    "    classifier.fit(X_train, y_train)\n",
    "    pred = classifier.predict(X_test)\n",
    "    class_name = classifier.__class__.__name__\n",
    "    \n",
    "    acc_list.append(accuracy_score(y_test, pred))\n",
    "    print('{0} 정확도: {1:.4f}'.format(class_name, accuracy_score(y_test, pred)))\n",
    "    \n",
    "lr_acc = acc_list[0]\n",
    "knn_acc = acc_list[1]\n",
    "rf_acc = acc_list[2]"
   ]
  },
  {
   "cell_type": "code",
   "execution_count": 17,
   "id": "130f4128",
   "metadata": {},
   "outputs": [
    {
     "name": "stdout",
     "output_type": "stream",
     "text": [
      "보팅 분류기의 정확도:  0.0342\n",
      "LogisticRegression 정확도: 0.0281\n",
      "KNeighborsClassifier 정확도: 0.0154\n",
      "SVC 정확도: 0.0050\n"
     ]
    }
   ],
   "source": [
    "svm_clf =SVC(kernel='rbf',gamma=500, probability=True)\n",
    "\n",
    "voting_model = VotingClassifier(estimators=[ ('LogisticRegression', lr_clf), ('KNN', knn),('SVC',svm_clf )], \n",
    "                                voting='soft')\n",
    "\n",
    "voting_model.fit(X_train, y_train)\n",
    "pred = voting_model.predict(X_test)\n",
    "print('보팅 분류기의 정확도: {0: .4f}'.format(accuracy_score(y_test, pred)))\n",
    "\n",
    "classifiers = [lr_clf, knn, svm_clf]\n",
    "for classifier in classifiers:\n",
    "    classifier.fit(X_train, y_train)\n",
    "    pred = classifier.predict(X_test)\n",
    "    class_name = classifier.__class__.__name__\n",
    "    print('{0} 정확도: {1:.4f}'.format(class_name, accuracy_score(y_test, pred)))"
   ]
  },
  {
   "cell_type": "code",
   "execution_count": 18,
   "id": "4d8ace33",
   "metadata": {},
   "outputs": [
    {
     "name": "stdout",
     "output_type": "stream",
     "text": [
      "하드보팅 분류기의 정확도:  0.1080\n"
     ]
    }
   ],
   "source": [
    "# 3-2 : voting : hard \n",
    "\n",
    "voting_model2 = VotingClassifier(estimators=[ ('LogisticRegression', lr_clf), ('KNN', knn),('RandomForest',rf_clf )], \n",
    "                                voting='hard')\n",
    "\n",
    "voting_model2.fit(X_train, y_train)\n",
    "pred2 = voting_model2.predict(X_test)\n",
    "\n",
    "hardvoting_acc = accuracy_score(y_test, pred2)\n",
    "print('하드보팅 분류기의 정확도: {0: .4f}'.format(accuracy_score(y_test, pred2)))"
   ]
  },
  {
   "cell_type": "code",
   "execution_count": 19,
   "id": "6ba13869",
   "metadata": {},
   "outputs": [
    {
     "data": {
      "text/plain": [
       "0.5696969696969697"
      ]
     },
     "execution_count": 19,
     "metadata": {},
     "output_type": "execute_result"
    }
   ],
   "source": [
    "# 4 -1 Randomforest \n",
    "\n",
    "rf_clf = RandomForestClassifier()\n",
    "rf_clf.fit(X_train, y_train)\n",
    "pred = rf_clf.predict(X_test)\n",
    "accuracy_score(y_test, pred)"
   ]
  },
  {
   "cell_type": "code",
   "execution_count": 20,
   "id": "5ed7e198",
   "metadata": {},
   "outputs": [
    {
     "name": "stdout",
     "output_type": "stream",
     "text": [
      "[22:19:45] WARNING: C:/Users/Administrator/workspace/xgboost-win64_release_1.5.1/src/learner.cc:1115: Starting in XGBoost 1.3.0, the default evaluation metric used with the objective 'multi:softprob' was changed from 'merror' to 'mlogloss'. Explicitly set eval_metric if you'd like to restore the old behavior.\n"
     ]
    },
    {
     "data": {
      "text/plain": [
       "0.577961432506887"
      ]
     },
     "execution_count": 20,
     "metadata": {},
     "output_type": "execute_result"
    }
   ],
   "source": [
    "# 4 -2 XGBoost \n",
    "\n",
    "from xgboost import XGBClassifier\n",
    "\n",
    "xgb = XGBClassifier()\n",
    "xgb.fit(X_train, y_train)\n",
    "\n",
    "pred2 = xgb.predict(X_test)\n",
    "accuracy_score(y_test, pred2)"
   ]
  },
  {
   "cell_type": "code",
   "execution_count": null,
   "id": "52747777",
   "metadata": {},
   "outputs": [],
   "source": [
    "# 5 그래프 "
   ]
  },
  {
   "cell_type": "code",
   "execution_count": 21,
   "id": "1df55486",
   "metadata": {},
   "outputs": [
    {
     "data": {
      "text/plain": [
       "([<matplotlib.axis.XTick at 0x1ad4d370b50>,\n",
       "  <matplotlib.axis.XTick at 0x1ad4d370b20>,\n",
       "  <matplotlib.axis.XTick at 0x1ad4d370340>,\n",
       "  <matplotlib.axis.XTick at 0x1ad4dcd3f40>,\n",
       "  <matplotlib.axis.XTick at 0x1ad4d2c96d0>],\n",
       " [Text(0, 0, 'Logistic Regression'),\n",
       "  Text(1, 0, 'knn'),\n",
       "  Text(2, 0, 'random forest'),\n",
       "  Text(3, 0, 'softvoting'),\n",
       "  Text(4, 0, 'hardvoting')])"
      ]
     },
     "execution_count": 21,
     "metadata": {},
     "output_type": "execute_result"
    },
    {
     "data": {
      "image/png": "[encoded data removed]",
      "text/plain": [
       "<Figure size 432x288 with 1 Axes>"
      ]
     },
     "metadata": {
      "needs_background": "light"
     },
     "output_type": "display_data"
    }
   ],
   "source": [
    "import matplotlib.pyplot as plt\n",
    "%matplotlib inline\n",
    "\n",
    "x=np.arange(5)\n",
    "plt.bar(x, height=[lr_acc, knn_acc, rf_acc, softvoting_acc, hardvoting_acc])\n",
    "plt.xticks(x,['Logistic Regression','knn', 'random forest', 'softvoting', 'hardvoting'])"
   ]
  },
  {
   "cell_type": "markdown",
   "id": "a1a5f716",
   "metadata": {},
   "source": [
    "soft, hard voting 에 사용된 모델들에서 acc 자체가 낮기 때문에 voting을 해도 큰 acc는 나타나지 않음.\n",
    "\n",
    "또한 오히려 acc 차이가 많이 나는 모델들을 결합했다 보니 voting이 개별모델보다 acc가 낮아짐.\n",
    "\n",
    "위에 acc가 낮은 lr, knn, svm을 soft voting 한 경우 세 가지 개별모델보다 voting을 실시한 acc가 높은 것을 확인할 수 있음."
   ]
  }
 ],
 "metadata": {
  "kernelspec": {
   "display_name": "Python 3 (ipykernel)",
   "language": "python",
   "name": "python3"
  },
  "language_info": {
   "codemirror_mode": {
    "name": "ipython",
    "version": 3
   },
   "file_extension": ".py",
   "mimetype": "text/x-python",
   "name": "python",
   "nbconvert_exporter": "python",
   "pygments_lexer": "ipython3",
   "version": "3.9.7"
  }
 },
 "nbformat": 4,
 "nbformat_minor": 5
}
